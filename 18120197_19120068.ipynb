{
 "cells": [
  {
   "cell_type": "markdown",
   "id": "ead738f4",
   "metadata": {
    "id": "Z2iropOgYbAs"
   },
   "source": [
    "# ĐỒ ÁN CUỐI KỲ MÔN LẬP TRÌNH CHO KHOA HỌC DỮ LIỆU\n",
    "\n",
    "*Giảng viên: Thầy Trần Trung Kiên*"
   ]
  },
  {
   "cell_type": "markdown",
   "id": "052c6802",
   "metadata": {},
   "source": [
    "---"
   ]
  },
  {
   "cell_type": "markdown",
   "id": "964c339a",
   "metadata": {},
   "source": [
    "**Nhóm sinh viên thực hiện:**\n",
    "\n",
    "Sinh viên 01: Trương Trọng Lộc - 18120197\n",
    "\n",
    "Sinh viên 02: Dương Nam Hải - 19120068"
   ]
  },
  {
   "cell_type": "markdown",
   "id": "d49e217e",
   "metadata": {},
   "source": [
    "---"
   ]
  },
  {
   "cell_type": "markdown",
   "id": "e0ac3efa",
   "metadata": {
    "toc": true
   },
   "source": [
    "<h1>Nội Dung<span class=\"tocSkip\"></span></h1>\n",
    "<div class=\"toc\"><ul class=\"toc-item\"><li><span><a href=\"#Import-các-thư-viện-cần-thiết\" data-toc-modified-id=\"Import-các-thư-viện-cần-thiết-1\"><span class=\"toc-item-num\">1&nbsp;&nbsp;</span>Import các thư viện cần thiết</a></span></li><li><span><a href=\"#Thu-thập-dữ-liệu\" data-toc-modified-id=\"Thu-thập-dữ-liệu-2\"><span class=\"toc-item-num\">2&nbsp;&nbsp;</span>Thu thập dữ liệu</a></span><ul class=\"toc-item\"><li><span><a href=\"#Tổng-quan-về-dữ-liệu\" data-toc-modified-id=\"Tổng-quan-về-dữ-liệu-2.1\"><span class=\"toc-item-num\">2.1&nbsp;&nbsp;</span>Tổng quan về dữ liệu</a></span></li><li><span><a href=\"#Dữ-liệu-được-phép-sử-dụng-hay-không?\" data-toc-modified-id=\"Dữ-liệu-được-phép-sử-dụng-hay-không?-2.2\"><span class=\"toc-item-num\">2.2&nbsp;&nbsp;</span>Dữ liệu được phép sử dụng hay không?</a></span></li><li><span><a href=\"#Dữ-liệu-được-thu-thập-như-thế-nào?\" data-toc-modified-id=\"Dữ-liệu-được-thu-thập-như-thế-nào?-2.3\"><span class=\"toc-item-num\">2.3&nbsp;&nbsp;</span>Dữ liệu được thu thập như thế nào?</a></span></li></ul></li><li><span><a href=\"#Khám-phá-dữ-liệu\" data-toc-modified-id=\"Khám-phá-dữ-liệu-3\"><span class=\"toc-item-num\">3&nbsp;&nbsp;</span>Khám phá dữ liệu</a></span><ul class=\"toc-item\"><li><span><a href=\"#Đọc-dữ-liệu-từ-file-CSV-vào-dataframe\" data-toc-modified-id=\"Đọc-dữ-liệu-từ-file-CSV-vào-dataframe-3.1\"><span class=\"toc-item-num\">3.1&nbsp;&nbsp;</span>Đọc dữ liệu từ file CSV vào dataframe</a></span></li><li><span><a href=\"#Dữ-liệu-gồm-có-bao-nhiêu-dòng-và-bao-nhiêu-cột?\" data-toc-modified-id=\"Dữ-liệu-gồm-có-bao-nhiêu-dòng-và-bao-nhiêu-cột?-3.2\"><span class=\"toc-item-num\">3.2&nbsp;&nbsp;</span>Dữ liệu gồm có bao nhiêu dòng và bao nhiêu cột?</a></span></li><li><span><a href=\"#Mỗi-dòng-có-ý-nghĩa-gì?-Có-vấn-đề-các-dòng-có-ý-nghĩa-khác-nhau-không?\" data-toc-modified-id=\"Mỗi-dòng-có-ý-nghĩa-gì?-Có-vấn-đề-các-dòng-có-ý-nghĩa-khác-nhau-không?-3.3\"><span class=\"toc-item-num\">3.3&nbsp;&nbsp;</span>Mỗi dòng có ý nghĩa gì? Có vấn đề các dòng có ý nghĩa khác nhau không?</a></span></li><li><span><a href=\"#Dữ-liệu-có-các-dòng-bị-lặp-không?\" data-toc-modified-id=\"Dữ-liệu-có-các-dòng-bị-lặp-không?-3.4\"><span class=\"toc-item-num\">3.4&nbsp;&nbsp;</span>Dữ liệu có các dòng bị lặp không?</a></span></li><li><span><a href=\"#Mỗi-cột-có-ý-nghĩa-gì?\" data-toc-modified-id=\"Mỗi-cột-có-ý-nghĩa-gì?-3.5\"><span class=\"toc-item-num\">3.5&nbsp;&nbsp;</span>Mỗi cột có ý nghĩa gì?</a></span></li><li><span><a href=\"#Mỗi-cột-hiện-đang-có-kiểu-dữ-liệu-gì?-Có-cột-nào-có-kiểu-dữ-liệu-chưa-phù-hợp-để-có-thể-xử-lý-tiếp-không?\" data-toc-modified-id=\"Mỗi-cột-hiện-đang-có-kiểu-dữ-liệu-gì?-Có-cột-nào-có-kiểu-dữ-liệu-chưa-phù-hợp-để-có-thể-xử-lý-tiếp-không?-3.6\"><span class=\"toc-item-num\">3.6&nbsp;&nbsp;</span>Mỗi cột hiện đang có kiểu dữ liệu gì? Có cột nào có kiểu dữ liệu chưa phù hợp để có thể xử lý tiếp không?</a></span></li><li><span><a href=\"#Với-mỗi-cột-có-kiểu-dữ-liệu-dạng-numeric,-các-giá-trị-được-phân-bố-như-thế-nào?\" data-toc-modified-id=\"Với-mỗi-cột-có-kiểu-dữ-liệu-dạng-numeric,-các-giá-trị-được-phân-bố-như-thế-nào?-3.7\"><span class=\"toc-item-num\">3.7&nbsp;&nbsp;</span>Với mỗi cột có kiểu dữ liệu dạng numeric, các giá trị được phân bố như thế nào?</a></span></li><li><span><a href=\"#Với-mỗi-cột-có-kiểu-dữ-liệu-dạng-categorical,-các-giá-trị-được-phân-bố-như-thế-nào?\" data-toc-modified-id=\"Với-mỗi-cột-có-kiểu-dữ-liệu-dạng-categorical,-các-giá-trị-được-phân-bố-như-thế-nào?-3.8\"><span class=\"toc-item-num\">3.8&nbsp;&nbsp;</span>Với mỗi cột có kiểu dữ liệu dạng categorical, các giá trị được phân bố như thế nào?</a></span></li></ul></li><li><span><a href=\"#Tiền-xử-lý\" data-toc-modified-id=\"Tiền-xử-lý-4\"><span class=\"toc-item-num\">4&nbsp;&nbsp;</span>Tiền xử lý</a></span></li><li><span><a href=\"#Khám-phá-dữ-liệu-(tiếp-tục)\" data-toc-modified-id=\"Khám-phá-dữ-liệu-(tiếp-tục)-5\"><span class=\"toc-item-num\">5&nbsp;&nbsp;</span>Khám phá dữ liệu (tiếp tục)</a></span><ul class=\"toc-item\"><li><span><a href=\"#Khảo-sát-mối-tương-quan-giữa-các-cột-dạng-numeric\" data-toc-modified-id=\"Khảo-sát-mối-tương-quan-giữa-các-cột-dạng-numeric-5.1\"><span class=\"toc-item-num\">5.1&nbsp;&nbsp;</span>Khảo sát mối tương quan giữa các cột dạng numeric</a></span></li><li><span><a href=\"#Tiền-xử-lý\" data-toc-modified-id=\"Tiền-xử-lý-5.2\"><span class=\"toc-item-num\">5.2&nbsp;&nbsp;</span>Tiền xử lý</a></span></li></ul></li><li><span><a href=\"#Khám-phá-dữ-liệu-(tiếp-tục)\" data-toc-modified-id=\"Khám-phá-dữ-liệu-(tiếp-tục)-6\"><span class=\"toc-item-num\">6&nbsp;&nbsp;</span>Khám phá dữ liệu (tiếp tục)</a></span><ul class=\"toc-item\"><li><span><a href=\"#Kiểm-tra-dữ-liệu-có-sự-bất-thường-ở-4-cột-country,-country_code,-region-và-year-không?\" data-toc-modified-id=\"Kiểm-tra-dữ-liệu-có-sự-bất-thường-ở-4-cột-country,-country_code,-region-và-year-không?-6.1\"><span class=\"toc-item-num\">6.1&nbsp;&nbsp;</span>Kiểm tra dữ liệu có sự bất thường ở 4 cột country, country_code, region và year không?</a></span></li><li><span><a href=\"#Khảo-sát-về-tuổi-thọ-kỳ-vọng-ở-các-quốc-gia\" data-toc-modified-id=\"Khảo-sát-về-tuổi-thọ-kỳ-vọng-ở-các-quốc-gia-6.2\"><span class=\"toc-item-num\">6.2&nbsp;&nbsp;</span>Khảo sát về tuổi thọ kỳ vọng ở các quốc gia</a></span></li><li><span><a href=\"#Khảo-sát-cột-Region\" data-toc-modified-id=\"Khảo-sát-cột-Region-6.3\"><span class=\"toc-item-num\">6.3&nbsp;&nbsp;</span>Khảo sát cột Region</a></span><ul class=\"toc-item\"><li><span><a href=\"#Có-tất-cả-bao-nhiêu-khu-vực-và-đó-là-những-khu-vực-nào?\" data-toc-modified-id=\"Có-tất-cả-bao-nhiêu-khu-vực-và-đó-là-những-khu-vực-nào?-6.3.1\"><span class=\"toc-item-num\">6.3.1&nbsp;&nbsp;</span>Có tất cả bao nhiêu khu vực và đó là những khu vực nào?</a></span></li></ul></li></ul></li><li><span><a href=\"#Đưa-ra-câu-hỏi-cần-trả-lời\" data-toc-modified-id=\"Đưa-ra-câu-hỏi-cần-trả-lời-7\"><span class=\"toc-item-num\">7&nbsp;&nbsp;</span>Đưa ra câu hỏi cần trả lời</a></span><ul class=\"toc-item\"><li><span><a href=\"#Phân-tích-dữ-liệu-để-trả-lời-cho-các-câu-hỏi\" data-toc-modified-id=\"Phân-tích-dữ-liệu-để-trả-lời-cho-các-câu-hỏi-7.1\"><span class=\"toc-item-num\">7.1&nbsp;&nbsp;</span>Phân tích dữ liệu để trả lời cho các câu hỏi</a></span><ul class=\"toc-item\"><li><span><a href=\"#Câu-hỏi-1:-Các-quốc-gia-và-khu-vực-trên-thế-giới-có-tuổi-thọ-biến-động-như-thế-nào-từ-năm-2000-đến-năm-2016?-Việt-Nam-có-tuổi-thọ-như-thế-nào-so-với-các-quốc-gia-khác-trên-thế-giới-và-khu-vực?\" data-toc-modified-id=\"Câu-hỏi-1:-Các-quốc-gia-và-khu-vực-trên-thế-giới-có-tuổi-thọ-biến-động-như-thế-nào-từ-năm-2000-đến-năm-2016?-Việt-Nam-có-tuổi-thọ-như-thế-nào-so-với-các-quốc-gia-khác-trên-thế-giới-và-khu-vực?-7.1.1\"><span class=\"toc-item-num\">7.1.1&nbsp;&nbsp;</span>Câu hỏi 1: Các quốc gia và khu vực trên thế giới có tuổi thọ biến động như thế nào từ năm 2000 đến năm 2016? Việt Nam có tuổi thọ như thế nào so với các quốc gia khác trên thế giới và khu vực?</a></span><ul class=\"toc-item\"><li><span><a href=\"#Tổng-quan-thế-giới\" data-toc-modified-id=\"Tổng-quan-thế-giới-7.1.1.1\"><span class=\"toc-item-num\">7.1.1.1&nbsp;&nbsp;</span>Tổng quan thế giới</a></span></li><li><span><a href=\"#Về-các-quốc-gia\" data-toc-modified-id=\"Về-các-quốc-gia-7.1.1.2\"><span class=\"toc-item-num\">7.1.1.2&nbsp;&nbsp;</span>Về các quốc gia</a></span></li><li><span><a href=\"#Về-phía-từng-khu-vực\" data-toc-modified-id=\"Về-phía-từng-khu-vực-7.1.1.3\"><span class=\"toc-item-num\">7.1.1.3&nbsp;&nbsp;</span>Về phía từng khu vực</a></span></li><li><span><a href=\"#Về-tuổi-thọ-của-Việt-Nam\" data-toc-modified-id=\"Về-tuổi-thọ-của-Việt-Nam-7.1.1.4\"><span class=\"toc-item-num\">7.1.1.4&nbsp;&nbsp;</span>Về tuổi thọ của Việt Nam</a></span></li></ul></li></ul></li></ul></li><li><span><a href=\"#Nhìn-lại-quá-trình-làm-đồ-án\" data-toc-modified-id=\"Nhìn-lại-quá-trình-làm-đồ-án-8\"><span class=\"toc-item-num\">8&nbsp;&nbsp;</span>Nhìn lại quá trình làm đồ án</a></span></li><li><span><a href=\"#Tài-liệu-tham-khảo\" data-toc-modified-id=\"Tài-liệu-tham-khảo-9\"><span class=\"toc-item-num\">9&nbsp;&nbsp;</span>Tài liệu tham khảo</a></span></li></ul></div>"
   ]
  },
  {
   "cell_type": "markdown",
   "id": "38363e05",
   "metadata": {
    "id": "qgrbCkoXYbAv"
   },
   "source": [
    "## Import các thư viện cần thiết"
   ]
  },
  {
   "cell_type": "code",
   "execution_count": 1,
   "id": "495c657c",
   "metadata": {
    "id": "J0fci4x1YbAv"
   },
   "outputs": [],
   "source": [
    "import pandas as pd\n",
    "import matplotlib.pyplot as plt\n",
    "import numpy as np\n",
    "import seaborn as sns"
   ]
  },
  {
   "cell_type": "markdown",
   "id": "5d68a2ed",
   "metadata": {
    "id": "cDgG0uJyYbAv"
   },
   "source": [
    "---"
   ]
  },
  {
   "cell_type": "markdown",
   "id": "1fd02c2b",
   "metadata": {
    "id": "qNGbzZGCYbAv"
   },
   "source": [
    "## Thu thập dữ liệu"
   ]
  },
  {
   "cell_type": "markdown",
   "id": "7c20df6c",
   "metadata": {},
   "source": [
    "### Tổng quan về dữ liệu"
   ]
  },
  {
   "cell_type": "markdown",
   "id": "468a4e26",
   "metadata": {},
   "source": [
    "- Tập dữ liệu được sử dụng trong đồ án là tập dữ liệu về các **nhân tố có thể tác động đến tuổi thọ** con người \n",
    "(chẳng hạn về giáo dục, y tế, kinh tế) của 183 quốc gia trên thế giới từ năm 2000-2016. Tập dữ liệu tên là **WHO national life expectancy**.\n",
    "- Tập dữ liệu được lấy và download từ Kaggle thông qua [đường dẫn](https://www.kaggle.com/mmattson/who-national-life-expectancy), bộ dữ liệu do tác giả MMattson thu thập."
   ]
  },
  {
   "cell_type": "markdown",
   "id": "a3d83210",
   "metadata": {},
   "source": [
    "### Dữ liệu được phép sử dụng hay không?"
   ]
  },
  {
   "cell_type": "markdown",
   "id": "f0a44235",
   "metadata": {},
   "source": [
    "License của tập dữ liệu này là [CC0 - Public Domain](https://creativecommons.org/publicdomain/zero/1.0/). Với license này thì ta có thể sử dụng tập dữ liệu mà không cần xin phép tác giả. Cụ thể, license này thể hiện tác giả đã từ bỏ quyền sở hữu của bản thân để trao quyền cho người khác có thể sử dụng để chỉnh sửa, phân phối,... dưới bất kỳ hình thức nào trong phạm vi pháp luật (có thể là học tập, nghiên cứu, thương mại,...)."
   ]
  },
  {
   "cell_type": "markdown",
   "id": "8434a8d9",
   "metadata": {},
   "source": [
    "### Dữ liệu được thu thập như thế nào?"
   ]
  },
  {
   "cell_type": "markdown",
   "id": "ffdf7568",
   "metadata": {},
   "source": [
    "* Dữ liệu được thu thập từ dữ liệu của Tổ chức Y tế Thế giới (World Health Organization) thông qua cả 3 cách sau: \n",
    "    * Trang web dữ liệu Thống kê về Giáo dục các Quốc gia của Viện thống kê UNESCO ([UNESCO Databases of Resources on Education](https://en.unesco.org/themes/education/databases));\n",
    "    * API từ [GHO (Global Health Observatory)](https://www.who.int/data/gho/);\n",
    "    * Thủ công.\n",
    "* Chi tiết về cách thu thập dữ liệu có thể tham khảo tại notebook của tác giả tại [đây](https://www.kaggle.com/mmattson/template-to-generate-the-dataset)."
   ]
  },
  {
   "cell_type": "markdown",
   "id": "9054506a",
   "metadata": {},
   "source": [
    "---"
   ]
  },
  {
   "cell_type": "markdown",
   "id": "56471f2c",
   "metadata": {
    "id": "4XnnpjXqYbAv"
   },
   "source": [
    "## Khám phá dữ liệu"
   ]
  },
  {
   "cell_type": "markdown",
   "id": "6e672512",
   "metadata": {
    "id": "CTrxx-_BYbAv"
   },
   "source": [
    "### Đọc dữ liệu từ file CSV vào dataframe"
   ]
  },
  {
   "cell_type": "markdown",
   "id": "a05f75b3",
   "metadata": {},
   "source": [
    "Dữ liệu được lưu trong 1 file CSV duy nhất `who_life_exp.csv` và được chứa trong thư mục Data. Ta sử dụng thư viện Pandas để đọc dữ liệu từ CSV này vào Data Frame."
   ]
  },
  {
   "cell_type": "code",
   "execution_count": 2,
   "id": "307c50f6",
   "metadata": {},
   "outputs": [
    {
     "data": {
      "text/html": [
       "<div>\n",
       "<style scoped>\n",
       "    .dataframe tbody tr th:only-of-type {\n",
       "        vertical-align: middle;\n",
       "    }\n",
       "\n",
       "    .dataframe tbody tr th {\n",
       "        vertical-align: top;\n",
       "    }\n",
       "\n",
       "    .dataframe thead th {\n",
       "        text-align: right;\n",
       "    }\n",
       "</style>\n",
       "<table border=\"1\" class=\"dataframe\">\n",
       "  <thead>\n",
       "    <tr style=\"text-align: right;\">\n",
       "      <th></th>\n",
       "      <th>country</th>\n",
       "      <th>country_code</th>\n",
       "      <th>region</th>\n",
       "      <th>year</th>\n",
       "      <th>life_expect</th>\n",
       "      <th>life_exp60</th>\n",
       "      <th>adult_mortality</th>\n",
       "      <th>infant_mort</th>\n",
       "      <th>age1-4mort</th>\n",
       "      <th>alcohol</th>\n",
       "      <th>...</th>\n",
       "      <th>che_gdp</th>\n",
       "      <th>une_pop</th>\n",
       "      <th>une_infant</th>\n",
       "      <th>une_life</th>\n",
       "      <th>une_hiv</th>\n",
       "      <th>une_gni</th>\n",
       "      <th>une_poverty</th>\n",
       "      <th>une_edu_spend</th>\n",
       "      <th>une_literacy</th>\n",
       "      <th>une_school</th>\n",
       "    </tr>\n",
       "  </thead>\n",
       "  <tbody>\n",
       "    <tr>\n",
       "      <th>0</th>\n",
       "      <td>Angola</td>\n",
       "      <td>AGO</td>\n",
       "      <td>Africa</td>\n",
       "      <td>2000</td>\n",
       "      <td>47.33730</td>\n",
       "      <td>14.73400</td>\n",
       "      <td>383.5583</td>\n",
       "      <td>0.137985</td>\n",
       "      <td>0.025695</td>\n",
       "      <td>1.47439</td>\n",
       "      <td>...</td>\n",
       "      <td>1.90860</td>\n",
       "      <td>16395.473</td>\n",
       "      <td>122.2</td>\n",
       "      <td>46.522</td>\n",
       "      <td>1.0</td>\n",
       "      <td>2530.0</td>\n",
       "      <td>32.3</td>\n",
       "      <td>2.60753</td>\n",
       "      <td>NaN</td>\n",
       "      <td>NaN</td>\n",
       "    </tr>\n",
       "    <tr>\n",
       "      <th>1</th>\n",
       "      <td>Angola</td>\n",
       "      <td>AGO</td>\n",
       "      <td>Africa</td>\n",
       "      <td>2001</td>\n",
       "      <td>48.19789</td>\n",
       "      <td>14.95963</td>\n",
       "      <td>372.3876</td>\n",
       "      <td>0.133675</td>\n",
       "      <td>0.024500</td>\n",
       "      <td>1.94025</td>\n",
       "      <td>...</td>\n",
       "      <td>4.48352</td>\n",
       "      <td>16945.753</td>\n",
       "      <td>118.9</td>\n",
       "      <td>47.059</td>\n",
       "      <td>1.1</td>\n",
       "      <td>2630.0</td>\n",
       "      <td>NaN</td>\n",
       "      <td>NaN</td>\n",
       "      <td>67.40542</td>\n",
       "      <td>NaN</td>\n",
       "    </tr>\n",
       "    <tr>\n",
       "      <th>2</th>\n",
       "      <td>Angola</td>\n",
       "      <td>AGO</td>\n",
       "      <td>Africa</td>\n",
       "      <td>2002</td>\n",
       "      <td>49.42569</td>\n",
       "      <td>15.20010</td>\n",
       "      <td>354.5147</td>\n",
       "      <td>0.128320</td>\n",
       "      <td>0.023260</td>\n",
       "      <td>2.07512</td>\n",
       "      <td>...</td>\n",
       "      <td>3.32946</td>\n",
       "      <td>17519.417</td>\n",
       "      <td>115.1</td>\n",
       "      <td>47.702</td>\n",
       "      <td>1.2</td>\n",
       "      <td>3180.0</td>\n",
       "      <td>NaN</td>\n",
       "      <td>NaN</td>\n",
       "      <td>NaN</td>\n",
       "      <td>NaN</td>\n",
       "    </tr>\n",
       "    <tr>\n",
       "      <th>3</th>\n",
       "      <td>Angola</td>\n",
       "      <td>AGO</td>\n",
       "      <td>Africa</td>\n",
       "      <td>2003</td>\n",
       "      <td>50.50266</td>\n",
       "      <td>15.39144</td>\n",
       "      <td>343.2169</td>\n",
       "      <td>0.122040</td>\n",
       "      <td>0.021925</td>\n",
       "      <td>2.20275</td>\n",
       "      <td>...</td>\n",
       "      <td>3.54797</td>\n",
       "      <td>18121.479</td>\n",
       "      <td>110.8</td>\n",
       "      <td>48.440</td>\n",
       "      <td>1.3</td>\n",
       "      <td>3260.0</td>\n",
       "      <td>NaN</td>\n",
       "      <td>NaN</td>\n",
       "      <td>NaN</td>\n",
       "      <td>NaN</td>\n",
       "    </tr>\n",
       "    <tr>\n",
       "      <th>4</th>\n",
       "      <td>Angola</td>\n",
       "      <td>AGO</td>\n",
       "      <td>Africa</td>\n",
       "      <td>2004</td>\n",
       "      <td>51.52863</td>\n",
       "      <td>15.56860</td>\n",
       "      <td>333.8711</td>\n",
       "      <td>0.115700</td>\n",
       "      <td>0.020545</td>\n",
       "      <td>2.41274</td>\n",
       "      <td>...</td>\n",
       "      <td>3.96720</td>\n",
       "      <td>18758.145</td>\n",
       "      <td>106.2</td>\n",
       "      <td>49.263</td>\n",
       "      <td>1.3</td>\n",
       "      <td>3560.0</td>\n",
       "      <td>NaN</td>\n",
       "      <td>NaN</td>\n",
       "      <td>NaN</td>\n",
       "      <td>NaN</td>\n",
       "    </tr>\n",
       "  </tbody>\n",
       "</table>\n",
       "<p>5 rows × 32 columns</p>\n",
       "</div>"
      ],
      "text/plain": [
       "  country country_code  region  year  life_expect  life_exp60  \\\n",
       "0  Angola          AGO  Africa  2000     47.33730    14.73400   \n",
       "1  Angola          AGO  Africa  2001     48.19789    14.95963   \n",
       "2  Angola          AGO  Africa  2002     49.42569    15.20010   \n",
       "3  Angola          AGO  Africa  2003     50.50266    15.39144   \n",
       "4  Angola          AGO  Africa  2004     51.52863    15.56860   \n",
       "\n",
       "   adult_mortality  infant_mort  age1-4mort  alcohol  ...  che_gdp    une_pop  \\\n",
       "0         383.5583     0.137985    0.025695  1.47439  ...  1.90860  16395.473   \n",
       "1         372.3876     0.133675    0.024500  1.94025  ...  4.48352  16945.753   \n",
       "2         354.5147     0.128320    0.023260  2.07512  ...  3.32946  17519.417   \n",
       "3         343.2169     0.122040    0.021925  2.20275  ...  3.54797  18121.479   \n",
       "4         333.8711     0.115700    0.020545  2.41274  ...  3.96720  18758.145   \n",
       "\n",
       "   une_infant  une_life  une_hiv  une_gni  une_poverty  une_edu_spend  \\\n",
       "0       122.2    46.522      1.0   2530.0         32.3        2.60753   \n",
       "1       118.9    47.059      1.1   2630.0          NaN            NaN   \n",
       "2       115.1    47.702      1.2   3180.0          NaN            NaN   \n",
       "3       110.8    48.440      1.3   3260.0          NaN            NaN   \n",
       "4       106.2    49.263      1.3   3560.0          NaN            NaN   \n",
       "\n",
       "   une_literacy  une_school  \n",
       "0           NaN         NaN  \n",
       "1      67.40542         NaN  \n",
       "2           NaN         NaN  \n",
       "3           NaN         NaN  \n",
       "4           NaN         NaN  \n",
       "\n",
       "[5 rows x 32 columns]"
      ]
     },
     "execution_count": 2,
     "metadata": {},
     "output_type": "execute_result"
    }
   ],
   "source": [
    "life_exp_df = pd.read_csv('./Data/who_life_exp.csv')\n",
    "life_exp_df.head()"
   ]
  },
  {
   "cell_type": "markdown",
   "id": "49970730",
   "metadata": {
    "id": "B0vNv-s-YbAv"
   },
   "source": [
    "### Dữ liệu gồm có bao nhiêu dòng và bao nhiêu cột?"
   ]
  },
  {
   "cell_type": "code",
   "execution_count": 3,
   "id": "686609c7",
   "metadata": {},
   "outputs": [
    {
     "data": {
      "text/plain": [
       "(3111, 32)"
      ]
     },
     "execution_count": 3,
     "metadata": {},
     "output_type": "execute_result"
    }
   ],
   "source": [
    "num_rows, num_cols = life_exp_df.shape\n",
    "num_rows, num_cols"
   ]
  },
  {
   "cell_type": "markdown",
   "id": "e76c7c4f",
   "metadata": {},
   "source": [
    "**Nhận xét:** \n",
    "* Tập dữ liệu gồm 3111 dòng và 32 cột.\n",
    "* Ngoài ra, theo thông tin của bộ dữ liệu, dữ liệu được khảo sát từ năm 2000-2016 ở 183 quốc gia, điều này hoàn toàn phù hợp với kết quả là 3111 dòng (nói cách dễ hiểu là do 2000-2016 là 17 năm, ta lấy 17 năm * 183 quốc gia = 3111 dòng, dự đoán ban đầu của nhóm em là vậy ^^ Nhóm em sẽ khảo sát ở phần sau xem thử có đúng như dự đoán không)."
   ]
  },
  {
   "cell_type": "markdown",
   "id": "ad479882",
   "metadata": {
    "id": "o0VBB5H5YbAw"
   },
   "source": [
    "### Mỗi dòng có ý nghĩa gì? Có vấn đề các dòng có ý nghĩa khác nhau không?"
   ]
  },
  {
   "cell_type": "markdown",
   "id": "ecd39dab",
   "metadata": {},
   "source": [
    "* Theo quan sát, mỗi dòng thể hiện thông tin về các yếu tố có thể ảnh hưởng đến tuổi thọ (tỉ lệ tiêm chủng, dân số, tỉ lệ người lớn biết chữ, thu nhập bình quân,...) của **một quốc gia** trong **một năm**. \n",
    "* Có vẻ **không** có dòng nào có ý nghĩa khác nhau. "
   ]
  },
  {
   "cell_type": "markdown",
   "id": "15687dcf",
   "metadata": {
    "id": "ex8ptMwLYbAw"
   },
   "source": [
    "### Dữ liệu có các dòng bị lặp không?"
   ]
  },
  {
   "cell_type": "markdown",
   "id": "43cd4443",
   "metadata": {},
   "source": [
    "Kiểm tra việc này và lưu kết quả vào biến `have_duplicated_rows`. Biến này sẽ có giá trị True nếu dữ liệu có các dòng bị lặp và có giá trị False nếu ngược lại."
   ]
  },
  {
   "cell_type": "code",
   "execution_count": 4,
   "id": "4e808ce6",
   "metadata": {},
   "outputs": [
    {
     "name": "stdout",
     "output_type": "stream",
     "text": [
      "Không có dữ liệu trùng lặp\n"
     ]
    }
   ],
   "source": [
    "have_duplicated_rows = life_exp_df.duplicated().sum()\n",
    "if have_duplicated_rows != 0:\n",
    "    print(\"Có dòng dữ liệu bị lặp\")\n",
    "else:\n",
    "    print(\"Không có dữ liệu trùng lặp\")"
   ]
  },
  {
   "cell_type": "markdown",
   "id": "e8eb2863",
   "metadata": {
    "id": "ssTC4vfKYbAx"
   },
   "source": [
    "### Mỗi cột có ý nghĩa gì?"
   ]
  },
  {
   "cell_type": "markdown",
   "id": "81d83d59",
   "metadata": {},
   "source": [
    "Theo mô tả trên Kaggle, mỗi cột có ý nghĩa như sau:\n",
    "\n",
    "|Tên cột dữ liệu | Mô tả |\n",
    "|:------:| ---|\n",
    "|Country| Tên quốc gia khảo sát |\n",
    "|country_code| Mã định danh quốc gia (3 chữ cái)|\n",
    "|region| Khu vực của quốc gia khảo sát|\n",
    "|year| Năm khảo sát|\n",
    "|life_expect| Tuổi thọ kì vọng khi sinh (đơn vị năm) |\n",
    "|life_exp60| Tuổi thọ kì vọng còn lại khi 60 tuổi (đơn vị năm)|\n",
    "|adult_mortality|Tỷ lệ tử vong của người trưởng thành (xác suất tử vong từ 15 đến 60 tuổi trên 1000 dân số)|\n",
    "|infant_mort|Tỷ lệ tử vong dưới 1 tuổi|\n",
    "|age1-4mort|Tỷ lệ tử vong từ 1 đến 4 tuổi|\n",
    "|alcohol|Mức tiêu thụ rượu bình quân đầu người từ 15 tuổi trở lên (tính bằng rượu nguyên chất)|\n",
    "|bmi|BMI trung bình (từ 18 tuổi trở lên) (ước tính chuẩn hóa theo độ tuổi)|\n",
    "|age5-19thinness|Tỷ lệ suy dinh dưỡng ở trẻ em và thanh thiếu niên (%)|\n",
    "|age5-19obesity\t|Tỷ lệ béo phì ở trẻ em và thanh thiếu niên (%)|\n",
    "|hepatitis|Tỷ lệ tiêm ngừa viêm gan siêu vi B (HepB) ở trẻ 1 tuổi (%)|\n",
    "|measles|Tỷ lệ tiêm ngừa sởi mũi đầu tiên (MCV1) ở trẻ 1 tuổi (%)|\n",
    "|polio| Tỷ lệ tiêm ngừa bại liệt (Pol3) ở trẻ 1 tuổi (%)|\n",
    "|diphtheria|Tỷ lệ tiêm ngừa bạch hầu, uốn ván và ho gà (DPT3) cho trẻ 1 tuổi (%)|\n",
    "|basic_water|Tỷ lệ dân số được tiếp cận các dịch vụ nước cơ bản|\n",
    "|doctors|Mật độ bác sĩ y khoa trên 10.000 dân|\n",
    "|hospitals|Mật độ bệnh viện trên 100.000 dân|\n",
    "|gni_capita|Tổng thu nhập quốc dân trên đầu người, đơn vị $ (tổng thu thập mà người dân và doanh nghiệp của quốc gia kiếm được)|\n",
    "|gghe-d\t|Chi tiêu từ ngân sách chính phủ cho lĩnh vực y tế tính theo tỷ lệ phần trăm của tổng sản phẩm quốc nội (GDP) (%)|\n",
    "|che_gdp|Chi phí người dân bỏ ra cho dịch vụ y tế (CHE) tính theo phần trăm tổng sản phẩm quốc nội (GDP) (%)|\n",
    "|une_pop|Dân số (đơn vị nghìn)|\n",
    "|une_infant|Tỷ lệ tử vong ở trẻ sơ sinh trên 1.000 ca sinh sống)|\n",
    "|une_life|Tuổi thọ kì vọng nếu các hình thức tử vong phổ biến tại thời điểm được sinh ra không thay đổi trong suốt cuộc đời của trẻ|\n",
    "|une_hiv|Tỷ lệ nhiễm HIV, đơn vị \\% trên tổng dân số từ 15-49 tuổi|\n",
    "|une_gni|Thu nhập quốc dân trên đầu người|\n",
    "|une_poverty|Tỷ lệ số người nghèo có mức sống 1,90 đô la một ngày (PPP) (\\% trên dân số)|\n",
    "|une_edu_spend|Chi tiêu của chính phủ cho giáo dục tính theo phần trăm GDP (\\%)|\n",
    "|une_literacy|Tỷ lệ người lớn biết chữ, cả hai giới (dân số trên 15 tuổi) (\\%)|\n",
    "|une_school|Số năm đi học trung bình (ISCED 1 trở lên), cả hai giới (dân số trên 25 tuổi)|\n",
    "\n",
    "**Các thuộc tính có tên `une_`** được thống kê bởi tổ chức UNESCO.\n",
    "\n",
    "**Các thuộc tính còn lại** được thống kê bởi GHO (Global Health Observatory).\n"
   ]
  },
  {
   "cell_type": "markdown",
   "id": "52b01abf",
   "metadata": {
    "id": "6oNfnkmyYbAx"
   },
   "source": [
    "### Mỗi cột hiện đang có kiểu dữ liệu gì? Có cột nào có kiểu dữ liệu chưa phù hợp để có thể xử lý tiếp không?"
   ]
  },
  {
   "cell_type": "code",
   "execution_count": 5,
   "id": "b2d38e99",
   "metadata": {},
   "outputs": [
    {
     "data": {
      "text/plain": [
       "country             object\n",
       "country_code        object\n",
       "region              object\n",
       "year                 int64\n",
       "life_expect        float64\n",
       "life_exp60         float64\n",
       "adult_mortality    float64\n",
       "infant_mort        float64\n",
       "age1-4mort         float64\n",
       "alcohol            float64\n",
       "bmi                float64\n",
       "age5-19thinness    float64\n",
       "age5-19obesity     float64\n",
       "hepatitis          float64\n",
       "measles            float64\n",
       "polio              float64\n",
       "diphtheria         float64\n",
       "basic_water        float64\n",
       "doctors            float64\n",
       "hospitals          float64\n",
       "gni_capita         float64\n",
       "gghe-d             float64\n",
       "che_gdp            float64\n",
       "une_pop            float64\n",
       "une_infant         float64\n",
       "une_life           float64\n",
       "une_hiv            float64\n",
       "une_gni            float64\n",
       "une_poverty        float64\n",
       "une_edu_spend      float64\n",
       "une_literacy       float64\n",
       "une_school         float64\n",
       "dtype: object"
      ]
     },
     "execution_count": 5,
     "metadata": {},
     "output_type": "execute_result"
    }
   ],
   "source": [
    "col_dtypes = life_exp_df.dtypes\n",
    "col_dtypes"
   ]
  },
  {
   "cell_type": "markdown",
   "id": "49619775",
   "metadata": {},
   "source": [
    "**Nhận xét:** Các cột có kiểu dữ liệu không phải `object` phù hợp, cần làm rõ hơn 3 cột có kiểu dữ liệu đang là `object`, trong Python kiểu dữ liệu `object` thường chỉ chuỗi, nhưng thật chất nó có thể chứa đối tượng bất kỳ vì bên dưới lưu dưới dạng địa chỉ. Trong Data Frame, nếu một cột có `dtype` là `object` thì có thể các phần tử trong cột này sẽ có kiểu dữ liệu khác nhau. Do đó, cần khảo sát từng cột có `dtype` là `object`."
   ]
  },
  {
   "cell_type": "code",
   "execution_count": 6,
   "id": "3320b4ec",
   "metadata": {},
   "outputs": [],
   "source": [
    "# Hàm trả về các kiểu dữ liệu trong 1 cột\n",
    "def open_object_dtype(s):\n",
    "    dtypes = set()\n",
    "    \n",
    "    dtypes = set(s.apply(type))\n",
    "    \n",
    "    return dtypes"
   ]
  },
  {
   "cell_type": "code",
   "execution_count": 7,
   "id": "c4339b80",
   "metadata": {},
   "outputs": [
    {
     "name": "stdout",
     "output_type": "stream",
     "text": [
      "{<class 'str'>}\n",
      "{<class 'str'>}\n",
      "{<class 'str'>}\n"
     ]
    }
   ],
   "source": [
    "print(open_object_dtype(life_exp_df['country']))\n",
    "print(open_object_dtype(life_exp_df['country_code']))\n",
    "print(open_object_dtype(life_exp_df['region']))"
   ]
  },
  {
   "cell_type": "markdown",
   "id": "f5085250",
   "metadata": {},
   "source": [
    "Như vậy, cả 3 cột đều có 1 kiểu dữ liệu duy nhất là `str`. \n",
    "Do đó **tất cả các cột** trong tập dữ liệu đều đang có kiểu dữ liệu **phù hợp**."
   ]
  },
  {
   "cell_type": "markdown",
   "id": "81986a54",
   "metadata": {
    "id": "re5wkImaYbAz"
   },
   "source": [
    "### Với mỗi cột có kiểu dữ liệu dạng numeric, các giá trị được phân bố như thế nào?"
   ]
  },
  {
   "cell_type": "markdown",
   "id": "639178f0",
   "metadata": {},
   "source": [
    "* Trong 32 cột dữ liệu của dataset, theo khám phá ở trên có 3 cột là `country`, `country_code` và `region` dạng `object` (cụ thể hơn là `str`). Do đó, ta có tổng cộng 29 cột có kiểu dữ liệu dạng numeric (bài này là `in64` và `float64`). \n",
    "* Với mỗi cột numeric, tính tỉ lệ % giá trị thiếu (từ 0 đến 100), min, max. Kết quả được vào Data Frame `nume_col_df`. Dataframe này có 9 dòng là \"missing_ratio\", \"count\", \"mean\", \"std\", \"min\", \"25%\", \"50%\", \"75%\", \"max\"; và có 29 cột tương ứng với các cột có `dtype` là `int64` hoặc `float64`.  "
   ]
  },
  {
   "cell_type": "code",
   "execution_count": 8,
   "id": "bde3d617",
   "metadata": {},
   "outputs": [
    {
     "data": {
      "text/html": [
       "<div>\n",
       "<style scoped>\n",
       "    .dataframe tbody tr th:only-of-type {\n",
       "        vertical-align: middle;\n",
       "    }\n",
       "\n",
       "    .dataframe tbody tr th {\n",
       "        vertical-align: top;\n",
       "    }\n",
       "\n",
       "    .dataframe thead th {\n",
       "        text-align: right;\n",
       "    }\n",
       "</style>\n",
       "<table border=\"1\" class=\"dataframe\">\n",
       "  <thead>\n",
       "    <tr style=\"text-align: right;\">\n",
       "      <th></th>\n",
       "      <th>year</th>\n",
       "      <th>life_expect</th>\n",
       "      <th>life_exp60</th>\n",
       "      <th>adult_mortality</th>\n",
       "      <th>infant_mort</th>\n",
       "      <th>age1-4mort</th>\n",
       "      <th>alcohol</th>\n",
       "      <th>bmi</th>\n",
       "      <th>age5-19thinness</th>\n",
       "      <th>age5-19obesity</th>\n",
       "      <th>...</th>\n",
       "      <th>che_gdp</th>\n",
       "      <th>une_pop</th>\n",
       "      <th>une_infant</th>\n",
       "      <th>une_life</th>\n",
       "      <th>une_hiv</th>\n",
       "      <th>une_gni</th>\n",
       "      <th>une_poverty</th>\n",
       "      <th>une_edu_spend</th>\n",
       "      <th>une_literacy</th>\n",
       "      <th>une_school</th>\n",
       "    </tr>\n",
       "  </thead>\n",
       "  <tbody>\n",
       "    <tr>\n",
       "      <th>missing_ratio</th>\n",
       "      <td>0.000000</td>\n",
       "      <td>0.000000</td>\n",
       "      <td>0.000000</td>\n",
       "      <td>0.000000</td>\n",
       "      <td>0.000000</td>\n",
       "      <td>0.000000</td>\n",
       "      <td>1.607200</td>\n",
       "      <td>1.092896</td>\n",
       "      <td>1.092896</td>\n",
       "      <td>1.092896</td>\n",
       "      <td>...</td>\n",
       "      <td>3.760849</td>\n",
       "      <td>1.189328e+00</td>\n",
       "      <td>0.000000</td>\n",
       "      <td>0.000000</td>\n",
       "      <td>23.818708</td>\n",
       "      <td>3.760849</td>\n",
       "      <td>70.652523</td>\n",
       "      <td>41.337191</td>\n",
       "      <td>81.645773</td>\n",
       "      <td>74.124076</td>\n",
       "    </tr>\n",
       "    <tr>\n",
       "      <th>count</th>\n",
       "      <td>3111.000000</td>\n",
       "      <td>3111.000000</td>\n",
       "      <td>3111.000000</td>\n",
       "      <td>3111.000000</td>\n",
       "      <td>3111.000000</td>\n",
       "      <td>3111.000000</td>\n",
       "      <td>3061.000000</td>\n",
       "      <td>3077.000000</td>\n",
       "      <td>3077.000000</td>\n",
       "      <td>3077.000000</td>\n",
       "      <td>...</td>\n",
       "      <td>2994.000000</td>\n",
       "      <td>3.074000e+03</td>\n",
       "      <td>3111.000000</td>\n",
       "      <td>3111.000000</td>\n",
       "      <td>2370.000000</td>\n",
       "      <td>2994.000000</td>\n",
       "      <td>913.000000</td>\n",
       "      <td>1825.000000</td>\n",
       "      <td>571.000000</td>\n",
       "      <td>805.000000</td>\n",
       "    </tr>\n",
       "    <tr>\n",
       "      <th>mean</th>\n",
       "      <td>2008.000000</td>\n",
       "      <td>69.146384</td>\n",
       "      <td>18.912060</td>\n",
       "      <td>193.527786</td>\n",
       "      <td>0.032496</td>\n",
       "      <td>0.003489</td>\n",
       "      <td>4.834781</td>\n",
       "      <td>25.052714</td>\n",
       "      <td>5.312447</td>\n",
       "      <td>5.972278</td>\n",
       "      <td>...</td>\n",
       "      <td>6.110353</td>\n",
       "      <td>3.707550e+04</td>\n",
       "      <td>30.488428</td>\n",
       "      <td>68.957352</td>\n",
       "      <td>2.038397</td>\n",
       "      <td>14964.832999</td>\n",
       "      <td>10.845893</td>\n",
       "      <td>4.532930</td>\n",
       "      <td>81.984472</td>\n",
       "      <td>9.712214</td>\n",
       "    </tr>\n",
       "    <tr>\n",
       "      <th>std</th>\n",
       "      <td>4.899767</td>\n",
       "      <td>9.129761</td>\n",
       "      <td>2.885412</td>\n",
       "      <td>114.007447</td>\n",
       "      <td>0.030361</td>\n",
       "      <td>0.005146</td>\n",
       "      <td>3.998741</td>\n",
       "      <td>2.193445</td>\n",
       "      <td>4.652408</td>\n",
       "      <td>4.530812</td>\n",
       "      <td>...</td>\n",
       "      <td>2.505267</td>\n",
       "      <td>1.378377e+05</td>\n",
       "      <td>27.756930</td>\n",
       "      <td>9.359194</td>\n",
       "      <td>4.593804</td>\n",
       "      <td>17495.137508</td>\n",
       "      <td>17.168798</td>\n",
       "      <td>1.754280</td>\n",
       "      <td>19.665588</td>\n",
       "      <td>2.854723</td>\n",
       "    </tr>\n",
       "    <tr>\n",
       "      <th>min</th>\n",
       "      <td>2000.000000</td>\n",
       "      <td>36.227360</td>\n",
       "      <td>10.728000</td>\n",
       "      <td>49.201850</td>\n",
       "      <td>0.001470</td>\n",
       "      <td>0.000065</td>\n",
       "      <td>0.000000</td>\n",
       "      <td>19.800000</td>\n",
       "      <td>0.100000</td>\n",
       "      <td>0.100000</td>\n",
       "      <td>...</td>\n",
       "      <td>1.025160</td>\n",
       "      <td>7.601600e+01</td>\n",
       "      <td>1.600000</td>\n",
       "      <td>39.441000</td>\n",
       "      <td>0.100000</td>\n",
       "      <td>420.000000</td>\n",
       "      <td>0.100000</td>\n",
       "      <td>0.787440</td>\n",
       "      <td>14.376040</td>\n",
       "      <td>0.559340</td>\n",
       "    </tr>\n",
       "    <tr>\n",
       "      <th>25%</th>\n",
       "      <td>2004.000000</td>\n",
       "      <td>63.200095</td>\n",
       "      <td>16.619485</td>\n",
       "      <td>108.269750</td>\n",
       "      <td>0.008255</td>\n",
       "      <td>0.000355</td>\n",
       "      <td>1.198030</td>\n",
       "      <td>23.300000</td>\n",
       "      <td>1.800000</td>\n",
       "      <td>2.000000</td>\n",
       "      <td>...</td>\n",
       "      <td>4.238798</td>\n",
       "      <td>2.195105e+03</td>\n",
       "      <td>8.000000</td>\n",
       "      <td>62.844500</td>\n",
       "      <td>0.100000</td>\n",
       "      <td>2970.000000</td>\n",
       "      <td>0.600000</td>\n",
       "      <td>3.262830</td>\n",
       "      <td>72.701130</td>\n",
       "      <td>7.735940</td>\n",
       "    </tr>\n",
       "    <tr>\n",
       "      <th>50%</th>\n",
       "      <td>2008.000000</td>\n",
       "      <td>71.597200</td>\n",
       "      <td>18.508260</td>\n",
       "      <td>164.822200</td>\n",
       "      <td>0.019995</td>\n",
       "      <td>0.000895</td>\n",
       "      <td>3.993560</td>\n",
       "      <td>25.500000</td>\n",
       "      <td>3.800000</td>\n",
       "      <td>5.200000</td>\n",
       "      <td>...</td>\n",
       "      <td>5.758030</td>\n",
       "      <td>8.544297e+03</td>\n",
       "      <td>19.500000</td>\n",
       "      <td>71.409000</td>\n",
       "      <td>0.400000</td>\n",
       "      <td>8340.000000</td>\n",
       "      <td>3.100000</td>\n",
       "      <td>4.425410</td>\n",
       "      <td>90.953740</td>\n",
       "      <td>10.270400</td>\n",
       "    </tr>\n",
       "    <tr>\n",
       "      <th>75%</th>\n",
       "      <td>2012.000000</td>\n",
       "      <td>75.537030</td>\n",
       "      <td>21.099175</td>\n",
       "      <td>250.832300</td>\n",
       "      <td>0.051720</td>\n",
       "      <td>0.004877</td>\n",
       "      <td>7.723420</td>\n",
       "      <td>26.500000</td>\n",
       "      <td>7.800000</td>\n",
       "      <td>8.900000</td>\n",
       "      <td>...</td>\n",
       "      <td>7.850327</td>\n",
       "      <td>2.509552e+04</td>\n",
       "      <td>48.050000</td>\n",
       "      <td>75.570645</td>\n",
       "      <td>1.500000</td>\n",
       "      <td>20482.500000</td>\n",
       "      <td>12.400000</td>\n",
       "      <td>5.494980</td>\n",
       "      <td>95.786975</td>\n",
       "      <td>12.070610</td>\n",
       "    </tr>\n",
       "    <tr>\n",
       "      <th>max</th>\n",
       "      <td>2016.000000</td>\n",
       "      <td>84.166160</td>\n",
       "      <td>26.394020</td>\n",
       "      <td>696.874200</td>\n",
       "      <td>0.164515</td>\n",
       "      <td>0.039095</td>\n",
       "      <td>20.182460</td>\n",
       "      <td>32.200000</td>\n",
       "      <td>28.100000</td>\n",
       "      <td>26.700000</td>\n",
       "      <td>...</td>\n",
       "      <td>20.413410</td>\n",
       "      <td>1.414049e+06</td>\n",
       "      <td>142.400000</td>\n",
       "      <td>83.984880</td>\n",
       "      <td>28.200000</td>\n",
       "      <td>122670.000000</td>\n",
       "      <td>94.100000</td>\n",
       "      <td>14.059080</td>\n",
       "      <td>99.998190</td>\n",
       "      <td>14.378800</td>\n",
       "    </tr>\n",
       "  </tbody>\n",
       "</table>\n",
       "<p>9 rows × 29 columns</p>\n",
       "</div>"
      ],
      "text/plain": [
       "                      year  life_expect   life_exp60  adult_mortality  \\\n",
       "missing_ratio     0.000000     0.000000     0.000000         0.000000   \n",
       "count          3111.000000  3111.000000  3111.000000      3111.000000   \n",
       "mean           2008.000000    69.146384    18.912060       193.527786   \n",
       "std               4.899767     9.129761     2.885412       114.007447   \n",
       "min            2000.000000    36.227360    10.728000        49.201850   \n",
       "25%            2004.000000    63.200095    16.619485       108.269750   \n",
       "50%            2008.000000    71.597200    18.508260       164.822200   \n",
       "75%            2012.000000    75.537030    21.099175       250.832300   \n",
       "max            2016.000000    84.166160    26.394020       696.874200   \n",
       "\n",
       "               infant_mort   age1-4mort      alcohol          bmi  \\\n",
       "missing_ratio     0.000000     0.000000     1.607200     1.092896   \n",
       "count          3111.000000  3111.000000  3061.000000  3077.000000   \n",
       "mean              0.032496     0.003489     4.834781    25.052714   \n",
       "std               0.030361     0.005146     3.998741     2.193445   \n",
       "min               0.001470     0.000065     0.000000    19.800000   \n",
       "25%               0.008255     0.000355     1.198030    23.300000   \n",
       "50%               0.019995     0.000895     3.993560    25.500000   \n",
       "75%               0.051720     0.004877     7.723420    26.500000   \n",
       "max               0.164515     0.039095    20.182460    32.200000   \n",
       "\n",
       "               age5-19thinness  age5-19obesity  ...      che_gdp  \\\n",
       "missing_ratio         1.092896        1.092896  ...     3.760849   \n",
       "count              3077.000000     3077.000000  ...  2994.000000   \n",
       "mean                  5.312447        5.972278  ...     6.110353   \n",
       "std                   4.652408        4.530812  ...     2.505267   \n",
       "min                   0.100000        0.100000  ...     1.025160   \n",
       "25%                   1.800000        2.000000  ...     4.238798   \n",
       "50%                   3.800000        5.200000  ...     5.758030   \n",
       "75%                   7.800000        8.900000  ...     7.850327   \n",
       "max                  28.100000       26.700000  ...    20.413410   \n",
       "\n",
       "                    une_pop   une_infant     une_life      une_hiv  \\\n",
       "missing_ratio  1.189328e+00     0.000000     0.000000    23.818708   \n",
       "count          3.074000e+03  3111.000000  3111.000000  2370.000000   \n",
       "mean           3.707550e+04    30.488428    68.957352     2.038397   \n",
       "std            1.378377e+05    27.756930     9.359194     4.593804   \n",
       "min            7.601600e+01     1.600000    39.441000     0.100000   \n",
       "25%            2.195105e+03     8.000000    62.844500     0.100000   \n",
       "50%            8.544297e+03    19.500000    71.409000     0.400000   \n",
       "75%            2.509552e+04    48.050000    75.570645     1.500000   \n",
       "max            1.414049e+06   142.400000    83.984880    28.200000   \n",
       "\n",
       "                     une_gni  une_poverty  une_edu_spend  une_literacy  \\\n",
       "missing_ratio       3.760849    70.652523      41.337191     81.645773   \n",
       "count            2994.000000   913.000000    1825.000000    571.000000   \n",
       "mean            14964.832999    10.845893       4.532930     81.984472   \n",
       "std             17495.137508    17.168798       1.754280     19.665588   \n",
       "min               420.000000     0.100000       0.787440     14.376040   \n",
       "25%              2970.000000     0.600000       3.262830     72.701130   \n",
       "50%              8340.000000     3.100000       4.425410     90.953740   \n",
       "75%             20482.500000    12.400000       5.494980     95.786975   \n",
       "max            122670.000000    94.100000      14.059080     99.998190   \n",
       "\n",
       "               une_school  \n",
       "missing_ratio   74.124076  \n",
       "count          805.000000  \n",
       "mean             9.712214  \n",
       "std              2.854723  \n",
       "min              0.559340  \n",
       "25%              7.735940  \n",
       "50%             10.270400  \n",
       "75%             12.070610  \n",
       "max             14.378800  \n",
       "\n",
       "[9 rows x 29 columns]"
      ]
     },
     "execution_count": 8,
     "metadata": {},
     "output_type": "execute_result"
    }
   ],
   "source": [
    "def missing_ratio(s):\n",
    "    return s.isna().mean() * 100\n",
    "missing_df = life_exp_df.iloc[:,3:].agg([missing_ratio])\n",
    "nume_col_df = pd.concat([missing_df, life_exp_df.iloc[:,3:].describe()])\n",
    "nume_col_df"
   ]
  },
  {
   "cell_type": "markdown",
   "id": "7560eee5",
   "metadata": {},
   "source": [
    "**Nhận xét:** Sau khi khám phá sự phân bố của các cột dữ liệu, ta nhận thấy có 4 cột numeric với missing ratio trên 50% là \"hospitals\", \"une_poverty\", \"une_literacy\", \"une_school\". Việc dùng các cột nào trong phân tích dữ liệu có thể cho ra kết quả không tốt, vì vậy ta cần loại bỏ chúng trong bước tiền xử lý."
   ]
  },
  {
   "cell_type": "markdown",
   "id": "298cdfaa",
   "metadata": {
    "id": "ugRuFiUXYbA0"
   },
   "source": [
    "### Với mỗi cột có kiểu dữ liệu dạng categorical, các giá trị được phân bố như thế nào?"
   ]
  },
  {
   "cell_type": "markdown",
   "id": "a14d52cf",
   "metadata": {},
   "source": [
    "* Theo khám phá ở trên có 3 cột là `country`, `country_code` và `region` dạng `object` (cụ thể hơn là `str`). Do đó, kiểu dữ liệu dạng categorical của tập dữ liệu này gồm 3 cột đẫ nêu. \n",
    "* Với mỗi cột dạng categorical, tính tỉ lệ % giá trị thiếu (từ 0 đến 100), số lượng giá trị khác nhau (không xét giá trị thiếu), list/array các giá trị khác nhau (không xét giá trị thiếu). Kết quả được lưu vào Data Frame `cate_col_df`. Dataframe này có 3 dòng là \"missing_ratio\", \"num_diff_vals\", \"diff_vals\"; và có 3 cột là 'country', 'country_code', 'region'. "
   ]
  },
  {
   "cell_type": "code",
   "execution_count": 9,
   "id": "8a46cfbc",
   "metadata": {},
   "outputs": [
    {
     "data": {
      "text/html": [
       "<div>\n",
       "<style scoped>\n",
       "    .dataframe tbody tr th:only-of-type {\n",
       "        vertical-align: middle;\n",
       "    }\n",
       "\n",
       "    .dataframe tbody tr th {\n",
       "        vertical-align: top;\n",
       "    }\n",
       "\n",
       "    .dataframe thead th {\n",
       "        text-align: right;\n",
       "    }\n",
       "</style>\n",
       "<table border=\"1\" class=\"dataframe\">\n",
       "  <thead>\n",
       "    <tr style=\"text-align: right;\">\n",
       "      <th></th>\n",
       "      <th>country</th>\n",
       "      <th>country_code</th>\n",
       "      <th>region</th>\n",
       "    </tr>\n",
       "  </thead>\n",
       "  <tbody>\n",
       "    <tr>\n",
       "      <th>missing_ratio</th>\n",
       "      <td>0.0</td>\n",
       "      <td>0.0</td>\n",
       "      <td>0.0</td>\n",
       "    </tr>\n",
       "    <tr>\n",
       "      <th>num_diff_vals</th>\n",
       "      <td>183</td>\n",
       "      <td>183</td>\n",
       "      <td>6</td>\n",
       "    </tr>\n",
       "    <tr>\n",
       "      <th>diff_vals</th>\n",
       "      <td>[Angola, Burundi, Benin, Burkina Faso, Botswan...</td>\n",
       "      <td>[AGO, BDI, BEN, BFA, BWA, CAF, TZA, UGA, ZAF, ...</td>\n",
       "      <td>[Africa, Americas, Eastern Mediterranean, Euro...</td>\n",
       "    </tr>\n",
       "  </tbody>\n",
       "</table>\n",
       "</div>"
      ],
      "text/plain": [
       "                                                         country  \\\n",
       "missing_ratio                                                0.0   \n",
       "num_diff_vals                                                183   \n",
       "diff_vals      [Angola, Burundi, Benin, Burkina Faso, Botswan...   \n",
       "\n",
       "                                                    country_code  \\\n",
       "missing_ratio                                                0.0   \n",
       "num_diff_vals                                                183   \n",
       "diff_vals      [AGO, BDI, BEN, BFA, BWA, CAF, TZA, UGA, ZAF, ...   \n",
       "\n",
       "                                                          region  \n",
       "missing_ratio                                                0.0  \n",
       "num_diff_vals                                                  6  \n",
       "diff_vals      [Africa, Americas, Eastern Mediterranean, Euro...  "
      ]
     },
     "execution_count": 9,
     "metadata": {},
     "output_type": "execute_result"
    }
   ],
   "source": [
    "def unique_not_miss(s):\n",
    "    return s.dropna().unique()\n",
    "cate_col_df = life_exp_df.iloc[:,:3] \\\n",
    "                            .agg([missing_ratio, pd.Series.nunique, unique_not_miss])\n",
    "\n",
    "cate_col_df.index = ['missing_ratio','num_diff_vals','diff_vals']\n",
    "cate_col_df"
   ]
  },
  {
   "cell_type": "markdown",
   "id": "920020b3",
   "metadata": {},
   "source": [
    "**Nhận xét:** Cả 3 cột dạng categorical đều không có giá trị thiếu. Hai cột `country` và `country_code` có 183 giá trị khác nhau, riêng cột `region` có 6 giá trị khác nhau. Điều này hoàn toàn phù hợp vì có 183 quốc gia được khảo sát trong tập dữ liệu này, các quốc gia khác nhau có thể thuộc chung 1 khu vực."
   ]
  },
  {
   "cell_type": "markdown",
   "id": "605ca058",
   "metadata": {},
   "source": [
    "## Tiền xử lý"
   ]
  },
  {
   "cell_type": "markdown",
   "id": "050e3303",
   "metadata": {},
   "source": [
    "Ta sẽ thực hiện drop các cột với tỉ lệ thiếu hụt thông tin lớn hơn 50%, sau đó lưu vào 1 Data Frame mới là `life_exp_pro_df` để sử dụng cho việc phân tích về sau."
   ]
  },
  {
   "cell_type": "code",
   "execution_count": 10,
   "id": "58710d77",
   "metadata": {
    "scrolled": true
   },
   "outputs": [
    {
     "data": {
      "text/plain": [
       "hospitals       95.821279\n",
       "une_poverty     70.652523\n",
       "une_literacy    81.645773\n",
       "une_school      74.124076\n",
       "dtype: float64"
      ]
     },
     "execution_count": 10,
     "metadata": {},
     "output_type": "execute_result"
    }
   ],
   "source": [
    "missing_df = life_exp_df.agg(missing_ratio)\n",
    "cols_to_drop = missing_df[missing_df > 50]\n",
    "cols_to_drop"
   ]
  },
  {
   "cell_type": "code",
   "execution_count": 11,
   "id": "047d0147",
   "metadata": {
    "scrolled": true
   },
   "outputs": [
    {
     "data": {
      "text/plain": [
       "(3111, 28)"
      ]
     },
     "execution_count": 11,
     "metadata": {},
     "output_type": "execute_result"
    }
   ],
   "source": [
    "life_exp_pro_df = life_exp_df.drop(cols_to_drop.index, axis = 1)\n",
    "life_exp_pro_df.shape"
   ]
  },
  {
   "cell_type": "markdown",
   "id": "99638dbd",
   "metadata": {},
   "source": [
    "Sau khi tiền xử lý xóa 4 cột, bộ dữ liệu còn 3111 dòng và 28 cột dữ liệu. Ta sẽ tiến hành phân tích trên dataframe `life_exp_pro_df` này."
   ]
  },
  {
   "cell_type": "markdown",
   "id": "3a369e1c",
   "metadata": {},
   "source": [
    "## Khám phá dữ liệu (tiếp tục)"
   ]
  },
  {
   "cell_type": "markdown",
   "id": "727acc9b",
   "metadata": {},
   "source": [
    "### Khảo sát mối tương quan giữa các cột dạng numeric"
   ]
  },
  {
   "cell_type": "markdown",
   "id": "89f54796",
   "metadata": {},
   "source": [
    "Các cột của tập dữ liệu thể hiện các nhân tố ảnh hưởng đến tuổi thọ, vì thế ta cần khảo sát mối tương quan giữa các cột này (dạng numeric). Để làm được, ta thực hiện: \n",
    "* Tính độ tương quan giữa các cột bằng phương thức `corr` của Pandas.\n",
    "* Trực quan hóa ma trận thể hiện độ tương quan đã tính thông qua thư viện Matplotlib."
   ]
  },
  {
   "cell_type": "markdown",
   "id": "45bdb133",
   "metadata": {},
   "source": [
    "**Bước 01:** Tính độ tương quan giữa các cột\n"
   ]
  },
  {
   "cell_type": "code",
   "execution_count": 12,
   "id": "65d0d074",
   "metadata": {},
   "outputs": [
    {
     "data": {
      "text/html": [
       "<div>\n",
       "<style scoped>\n",
       "    .dataframe tbody tr th:only-of-type {\n",
       "        vertical-align: middle;\n",
       "    }\n",
       "\n",
       "    .dataframe tbody tr th {\n",
       "        vertical-align: top;\n",
       "    }\n",
       "\n",
       "    .dataframe thead th {\n",
       "        text-align: right;\n",
       "    }\n",
       "</style>\n",
       "<table border=\"1\" class=\"dataframe\">\n",
       "  <thead>\n",
       "    <tr style=\"text-align: right;\">\n",
       "      <th></th>\n",
       "      <th>year</th>\n",
       "      <th>life_expect</th>\n",
       "      <th>life_exp60</th>\n",
       "      <th>adult_mortality</th>\n",
       "      <th>infant_mort</th>\n",
       "      <th>age1-4mort</th>\n",
       "      <th>alcohol</th>\n",
       "      <th>bmi</th>\n",
       "      <th>age5-19thinness</th>\n",
       "      <th>age5-19obesity</th>\n",
       "      <th>...</th>\n",
       "      <th>doctors</th>\n",
       "      <th>gni_capita</th>\n",
       "      <th>gghe-d</th>\n",
       "      <th>che_gdp</th>\n",
       "      <th>une_pop</th>\n",
       "      <th>une_infant</th>\n",
       "      <th>une_life</th>\n",
       "      <th>une_hiv</th>\n",
       "      <th>une_gni</th>\n",
       "      <th>une_edu_spend</th>\n",
       "    </tr>\n",
       "  </thead>\n",
       "  <tbody>\n",
       "    <tr>\n",
       "      <th>year</th>\n",
       "      <td>1.000000</td>\n",
       "      <td>0.190961</td>\n",
       "      <td>0.192872</td>\n",
       "      <td>-0.170946</td>\n",
       "      <td>-0.195293</td>\n",
       "      <td>-0.191723</td>\n",
       "      <td>0.006428</td>\n",
       "      <td>0.170244</td>\n",
       "      <td>-0.081810</td>\n",
       "      <td>0.278359</td>\n",
       "      <td>...</td>\n",
       "      <td>0.012124</td>\n",
       "      <td>0.118967</td>\n",
       "      <td>0.081852</td>\n",
       "      <td>0.112887</td>\n",
       "      <td>0.016757</td>\n",
       "      <td>-0.187952</td>\n",
       "      <td>0.185664</td>\n",
       "      <td>-0.018294</td>\n",
       "      <td>0.147887</td>\n",
       "      <td>0.021240</td>\n",
       "    </tr>\n",
       "    <tr>\n",
       "      <th>life_expect</th>\n",
       "      <td>0.190961</td>\n",
       "      <td>1.000000</td>\n",
       "      <td>0.886159</td>\n",
       "      <td>-0.946419</td>\n",
       "      <td>-0.930113</td>\n",
       "      <td>-0.864414</td>\n",
       "      <td>0.399797</td>\n",
       "      <td>0.597996</td>\n",
       "      <td>-0.565396</td>\n",
       "      <td>0.621000</td>\n",
       "      <td>...</td>\n",
       "      <td>0.651891</td>\n",
       "      <td>0.585603</td>\n",
       "      <td>0.609787</td>\n",
       "      <td>0.284920</td>\n",
       "      <td>0.032126</td>\n",
       "      <td>-0.931899</td>\n",
       "      <td>0.991448</td>\n",
       "      <td>-0.511821</td>\n",
       "      <td>0.603019</td>\n",
       "      <td>0.261548</td>\n",
       "    </tr>\n",
       "    <tr>\n",
       "      <th>life_exp60</th>\n",
       "      <td>0.192872</td>\n",
       "      <td>0.886159</td>\n",
       "      <td>1.000000</td>\n",
       "      <td>-0.775321</td>\n",
       "      <td>-0.769839</td>\n",
       "      <td>-0.661082</td>\n",
       "      <td>0.465785</td>\n",
       "      <td>0.458839</td>\n",
       "      <td>-0.556536</td>\n",
       "      <td>0.547764</td>\n",
       "      <td>...</td>\n",
       "      <td>0.571336</td>\n",
       "      <td>0.582539</td>\n",
       "      <td>0.670995</td>\n",
       "      <td>0.388805</td>\n",
       "      <td>0.004131</td>\n",
       "      <td>-0.776510</td>\n",
       "      <td>0.869439</td>\n",
       "      <td>-0.343894</td>\n",
       "      <td>0.602258</td>\n",
       "      <td>0.280849</td>\n",
       "    </tr>\n",
       "    <tr>\n",
       "      <th>adult_mortality</th>\n",
       "      <td>-0.170946</td>\n",
       "      <td>-0.946419</td>\n",
       "      <td>-0.775321</td>\n",
       "      <td>1.000000</td>\n",
       "      <td>0.813210</td>\n",
       "      <td>0.756230</td>\n",
       "      <td>-0.246530</td>\n",
       "      <td>-0.517095</td>\n",
       "      <td>0.455205</td>\n",
       "      <td>-0.571792</td>\n",
       "      <td>...</td>\n",
       "      <td>-0.547177</td>\n",
       "      <td>-0.527650</td>\n",
       "      <td>-0.485836</td>\n",
       "      <td>-0.198618</td>\n",
       "      <td>-0.061503</td>\n",
       "      <td>0.814884</td>\n",
       "      <td>-0.943640</td>\n",
       "      <td>0.680558</td>\n",
       "      <td>-0.544664</td>\n",
       "      <td>-0.147110</td>\n",
       "    </tr>\n",
       "    <tr>\n",
       "      <th>infant_mort</th>\n",
       "      <td>-0.195293</td>\n",
       "      <td>-0.930113</td>\n",
       "      <td>-0.769839</td>\n",
       "      <td>0.813210</td>\n",
       "      <td>1.000000</td>\n",
       "      <td>0.909032</td>\n",
       "      <td>-0.444580</td>\n",
       "      <td>-0.641874</td>\n",
       "      <td>0.578230</td>\n",
       "      <td>-0.602402</td>\n",
       "      <td>...</td>\n",
       "      <td>-0.644034</td>\n",
       "      <td>-0.539514</td>\n",
       "      <td>-0.576804</td>\n",
       "      <td>-0.238393</td>\n",
       "      <td>-0.003967</td>\n",
       "      <td>0.996975</td>\n",
       "      <td>-0.926927</td>\n",
       "      <td>0.341615</td>\n",
       "      <td>-0.549928</td>\n",
       "      <td>-0.318738</td>\n",
       "    </tr>\n",
       "    <tr>\n",
       "      <th>age1-4mort</th>\n",
       "      <td>-0.191723</td>\n",
       "      <td>-0.864414</td>\n",
       "      <td>-0.661082</td>\n",
       "      <td>0.756230</td>\n",
       "      <td>0.909032</td>\n",
       "      <td>1.000000</td>\n",
       "      <td>-0.305744</td>\n",
       "      <td>-0.615242</td>\n",
       "      <td>0.486846</td>\n",
       "      <td>-0.544587</td>\n",
       "      <td>...</td>\n",
       "      <td>-0.569178</td>\n",
       "      <td>-0.417762</td>\n",
       "      <td>-0.447373</td>\n",
       "      <td>-0.162339</td>\n",
       "      <td>-0.032953</td>\n",
       "      <td>0.902324</td>\n",
       "      <td>-0.855848</td>\n",
       "      <td>0.292005</td>\n",
       "      <td>-0.421805</td>\n",
       "      <td>-0.283001</td>\n",
       "    </tr>\n",
       "    <tr>\n",
       "      <th>alcohol</th>\n",
       "      <td>0.006428</td>\n",
       "      <td>0.399797</td>\n",
       "      <td>0.465785</td>\n",
       "      <td>-0.246530</td>\n",
       "      <td>-0.444580</td>\n",
       "      <td>-0.305744</td>\n",
       "      <td>1.000000</td>\n",
       "      <td>0.272832</td>\n",
       "      <td>-0.481989</td>\n",
       "      <td>0.140611</td>\n",
       "      <td>...</td>\n",
       "      <td>0.560723</td>\n",
       "      <td>0.304989</td>\n",
       "      <td>0.529580</td>\n",
       "      <td>0.372205</td>\n",
       "      <td>-0.037812</td>\n",
       "      <td>-0.449387</td>\n",
       "      <td>0.394807</td>\n",
       "      <td>-0.038341</td>\n",
       "      <td>0.296187</td>\n",
       "      <td>0.215987</td>\n",
       "    </tr>\n",
       "    <tr>\n",
       "      <th>bmi</th>\n",
       "      <td>0.170244</td>\n",
       "      <td>0.597996</td>\n",
       "      <td>0.458839</td>\n",
       "      <td>-0.517095</td>\n",
       "      <td>-0.641874</td>\n",
       "      <td>-0.615242</td>\n",
       "      <td>0.272832</td>\n",
       "      <td>1.000000</td>\n",
       "      <td>-0.685819</td>\n",
       "      <td>0.807143</td>\n",
       "      <td>...</td>\n",
       "      <td>0.463434</td>\n",
       "      <td>0.410808</td>\n",
       "      <td>0.461679</td>\n",
       "      <td>0.248024</td>\n",
       "      <td>-0.166194</td>\n",
       "      <td>-0.644441</td>\n",
       "      <td>0.587912</td>\n",
       "      <td>-0.154689</td>\n",
       "      <td>0.413644</td>\n",
       "      <td>0.312443</td>\n",
       "    </tr>\n",
       "    <tr>\n",
       "      <th>age5-19thinness</th>\n",
       "      <td>-0.081810</td>\n",
       "      <td>-0.565396</td>\n",
       "      <td>-0.556536</td>\n",
       "      <td>0.455205</td>\n",
       "      <td>0.578230</td>\n",
       "      <td>0.486846</td>\n",
       "      <td>-0.481989</td>\n",
       "      <td>-0.685819</td>\n",
       "      <td>1.000000</td>\n",
       "      <td>-0.548601</td>\n",
       "      <td>...</td>\n",
       "      <td>-0.582657</td>\n",
       "      <td>-0.370173</td>\n",
       "      <td>-0.573455</td>\n",
       "      <td>-0.396721</td>\n",
       "      <td>0.265009</td>\n",
       "      <td>0.586277</td>\n",
       "      <td>-0.551026</td>\n",
       "      <td>0.193470</td>\n",
       "      <td>-0.368289</td>\n",
       "      <td>-0.281627</td>\n",
       "    </tr>\n",
       "    <tr>\n",
       "      <th>age5-19obesity</th>\n",
       "      <td>0.278359</td>\n",
       "      <td>0.621000</td>\n",
       "      <td>0.547764</td>\n",
       "      <td>-0.571792</td>\n",
       "      <td>-0.602402</td>\n",
       "      <td>-0.544587</td>\n",
       "      <td>0.140611</td>\n",
       "      <td>0.807143</td>\n",
       "      <td>-0.548601</td>\n",
       "      <td>1.000000</td>\n",
       "      <td>...</td>\n",
       "      <td>0.342439</td>\n",
       "      <td>0.584749</td>\n",
       "      <td>0.432588</td>\n",
       "      <td>0.210695</td>\n",
       "      <td>-0.044698</td>\n",
       "      <td>-0.606526</td>\n",
       "      <td>0.613217</td>\n",
       "      <td>-0.243627</td>\n",
       "      <td>0.565269</td>\n",
       "      <td>0.238316</td>\n",
       "    </tr>\n",
       "    <tr>\n",
       "      <th>hepatitis</th>\n",
       "      <td>0.128042</td>\n",
       "      <td>0.341137</td>\n",
       "      <td>0.238058</td>\n",
       "      <td>-0.276921</td>\n",
       "      <td>-0.425655</td>\n",
       "      <td>-0.388905</td>\n",
       "      <td>0.119041</td>\n",
       "      <td>0.291555</td>\n",
       "      <td>-0.265812</td>\n",
       "      <td>0.268885</td>\n",
       "      <td>...</td>\n",
       "      <td>0.183593</td>\n",
       "      <td>0.186008</td>\n",
       "      <td>0.164603</td>\n",
       "      <td>0.069192</td>\n",
       "      <td>-0.120477</td>\n",
       "      <td>-0.428513</td>\n",
       "      <td>0.335922</td>\n",
       "      <td>-0.047606</td>\n",
       "      <td>0.213110</td>\n",
       "      <td>0.149778</td>\n",
       "    </tr>\n",
       "    <tr>\n",
       "      <th>measles</th>\n",
       "      <td>0.142717</td>\n",
       "      <td>0.640408</td>\n",
       "      <td>0.504875</td>\n",
       "      <td>-0.526185</td>\n",
       "      <td>-0.720169</td>\n",
       "      <td>-0.698573</td>\n",
       "      <td>0.291679</td>\n",
       "      <td>0.468788</td>\n",
       "      <td>-0.439146</td>\n",
       "      <td>0.399031</td>\n",
       "      <td>...</td>\n",
       "      <td>0.416341</td>\n",
       "      <td>0.343571</td>\n",
       "      <td>0.397029</td>\n",
       "      <td>0.203850</td>\n",
       "      <td>-0.015849</td>\n",
       "      <td>-0.723022</td>\n",
       "      <td>0.634170</td>\n",
       "      <td>-0.110764</td>\n",
       "      <td>0.357171</td>\n",
       "      <td>0.270067</td>\n",
       "    </tr>\n",
       "    <tr>\n",
       "      <th>polio</th>\n",
       "      <td>0.128699</td>\n",
       "      <td>0.646486</td>\n",
       "      <td>0.501654</td>\n",
       "      <td>-0.537973</td>\n",
       "      <td>-0.728603</td>\n",
       "      <td>-0.700788</td>\n",
       "      <td>0.289802</td>\n",
       "      <td>0.441274</td>\n",
       "      <td>-0.415575</td>\n",
       "      <td>0.376953</td>\n",
       "      <td>...</td>\n",
       "      <td>0.425552</td>\n",
       "      <td>0.356950</td>\n",
       "      <td>0.412707</td>\n",
       "      <td>0.223872</td>\n",
       "      <td>-0.029698</td>\n",
       "      <td>-0.729671</td>\n",
       "      <td>0.641438</td>\n",
       "      <td>-0.107839</td>\n",
       "      <td>0.367155</td>\n",
       "      <td>0.314252</td>\n",
       "    </tr>\n",
       "    <tr>\n",
       "      <th>diphtheria</th>\n",
       "      <td>0.141351</td>\n",
       "      <td>0.640473</td>\n",
       "      <td>0.503303</td>\n",
       "      <td>-0.529967</td>\n",
       "      <td>-0.720741</td>\n",
       "      <td>-0.694145</td>\n",
       "      <td>0.294311</td>\n",
       "      <td>0.446225</td>\n",
       "      <td>-0.418306</td>\n",
       "      <td>0.380033</td>\n",
       "      <td>...</td>\n",
       "      <td>0.404923</td>\n",
       "      <td>0.355730</td>\n",
       "      <td>0.409616</td>\n",
       "      <td>0.224228</td>\n",
       "      <td>-0.028161</td>\n",
       "      <td>-0.721966</td>\n",
       "      <td>0.632861</td>\n",
       "      <td>-0.093512</td>\n",
       "      <td>0.362230</td>\n",
       "      <td>0.298042</td>\n",
       "    </tr>\n",
       "    <tr>\n",
       "      <th>basic_water</th>\n",
       "      <td>0.109352</td>\n",
       "      <td>0.831099</td>\n",
       "      <td>0.680990</td>\n",
       "      <td>-0.732704</td>\n",
       "      <td>-0.851514</td>\n",
       "      <td>-0.802324</td>\n",
       "      <td>0.407690</td>\n",
       "      <td>0.673261</td>\n",
       "      <td>-0.474768</td>\n",
       "      <td>0.588918</td>\n",
       "      <td>...</td>\n",
       "      <td>0.626980</td>\n",
       "      <td>0.521022</td>\n",
       "      <td>0.510005</td>\n",
       "      <td>0.205403</td>\n",
       "      <td>0.028914</td>\n",
       "      <td>-0.850791</td>\n",
       "      <td>0.830581</td>\n",
       "      <td>-0.287143</td>\n",
       "      <td>0.532326</td>\n",
       "      <td>0.271050</td>\n",
       "    </tr>\n",
       "    <tr>\n",
       "      <th>doctors</th>\n",
       "      <td>0.012124</td>\n",
       "      <td>0.651891</td>\n",
       "      <td>0.571336</td>\n",
       "      <td>-0.547177</td>\n",
       "      <td>-0.644034</td>\n",
       "      <td>-0.569178</td>\n",
       "      <td>0.560723</td>\n",
       "      <td>0.463434</td>\n",
       "      <td>-0.582657</td>\n",
       "      <td>0.342439</td>\n",
       "      <td>...</td>\n",
       "      <td>1.000000</td>\n",
       "      <td>0.420878</td>\n",
       "      <td>0.649893</td>\n",
       "      <td>0.470777</td>\n",
       "      <td>-0.104054</td>\n",
       "      <td>-0.650026</td>\n",
       "      <td>0.651090</td>\n",
       "      <td>-0.346252</td>\n",
       "      <td>0.475194</td>\n",
       "      <td>0.346693</td>\n",
       "    </tr>\n",
       "    <tr>\n",
       "      <th>gni_capita</th>\n",
       "      <td>0.118967</td>\n",
       "      <td>0.585603</td>\n",
       "      <td>0.582539</td>\n",
       "      <td>-0.527650</td>\n",
       "      <td>-0.539514</td>\n",
       "      <td>-0.417762</td>\n",
       "      <td>0.304989</td>\n",
       "      <td>0.410808</td>\n",
       "      <td>-0.370173</td>\n",
       "      <td>0.584749</td>\n",
       "      <td>...</td>\n",
       "      <td>0.420878</td>\n",
       "      <td>1.000000</td>\n",
       "      <td>0.424780</td>\n",
       "      <td>0.127437</td>\n",
       "      <td>-0.038913</td>\n",
       "      <td>-0.547087</td>\n",
       "      <td>0.581836</td>\n",
       "      <td>-0.190708</td>\n",
       "      <td>0.995786</td>\n",
       "      <td>0.225688</td>\n",
       "    </tr>\n",
       "    <tr>\n",
       "      <th>gghe-d</th>\n",
       "      <td>0.081852</td>\n",
       "      <td>0.609787</td>\n",
       "      <td>0.670995</td>\n",
       "      <td>-0.485836</td>\n",
       "      <td>-0.576804</td>\n",
       "      <td>-0.447373</td>\n",
       "      <td>0.529580</td>\n",
       "      <td>0.461679</td>\n",
       "      <td>-0.573455</td>\n",
       "      <td>0.432588</td>\n",
       "      <td>...</td>\n",
       "      <td>0.649893</td>\n",
       "      <td>0.424780</td>\n",
       "      <td>1.000000</td>\n",
       "      <td>0.689880</td>\n",
       "      <td>-0.081169</td>\n",
       "      <td>-0.588625</td>\n",
       "      <td>0.597990</td>\n",
       "      <td>-0.086570</td>\n",
       "      <td>0.443471</td>\n",
       "      <td>0.521580</td>\n",
       "    </tr>\n",
       "    <tr>\n",
       "      <th>che_gdp</th>\n",
       "      <td>0.112887</td>\n",
       "      <td>0.284920</td>\n",
       "      <td>0.388805</td>\n",
       "      <td>-0.198618</td>\n",
       "      <td>-0.238393</td>\n",
       "      <td>-0.162339</td>\n",
       "      <td>0.372205</td>\n",
       "      <td>0.248024</td>\n",
       "      <td>-0.396721</td>\n",
       "      <td>0.210695</td>\n",
       "      <td>...</td>\n",
       "      <td>0.470777</td>\n",
       "      <td>0.127437</td>\n",
       "      <td>0.689880</td>\n",
       "      <td>1.000000</td>\n",
       "      <td>-0.070979</td>\n",
       "      <td>-0.246567</td>\n",
       "      <td>0.275515</td>\n",
       "      <td>0.024850</td>\n",
       "      <td>0.136916</td>\n",
       "      <td>0.341504</td>\n",
       "    </tr>\n",
       "    <tr>\n",
       "      <th>une_pop</th>\n",
       "      <td>0.016757</td>\n",
       "      <td>0.032126</td>\n",
       "      <td>0.004131</td>\n",
       "      <td>-0.061503</td>\n",
       "      <td>-0.003967</td>\n",
       "      <td>-0.032953</td>\n",
       "      <td>-0.037812</td>\n",
       "      <td>-0.166194</td>\n",
       "      <td>0.265009</td>\n",
       "      <td>-0.044698</td>\n",
       "      <td>...</td>\n",
       "      <td>-0.104054</td>\n",
       "      <td>-0.038913</td>\n",
       "      <td>-0.081169</td>\n",
       "      <td>-0.070979</td>\n",
       "      <td>1.000000</td>\n",
       "      <td>0.000892</td>\n",
       "      <td>0.030840</td>\n",
       "      <td>-0.102309</td>\n",
       "      <td>-0.043031</td>\n",
       "      <td>-0.100813</td>\n",
       "    </tr>\n",
       "    <tr>\n",
       "      <th>une_infant</th>\n",
       "      <td>-0.187952</td>\n",
       "      <td>-0.931899</td>\n",
       "      <td>-0.776510</td>\n",
       "      <td>0.814884</td>\n",
       "      <td>0.996975</td>\n",
       "      <td>0.902324</td>\n",
       "      <td>-0.449387</td>\n",
       "      <td>-0.644441</td>\n",
       "      <td>0.586277</td>\n",
       "      <td>-0.606526</td>\n",
       "      <td>...</td>\n",
       "      <td>-0.650026</td>\n",
       "      <td>-0.547087</td>\n",
       "      <td>-0.588625</td>\n",
       "      <td>-0.246567</td>\n",
       "      <td>0.000892</td>\n",
       "      <td>1.000000</td>\n",
       "      <td>-0.928764</td>\n",
       "      <td>0.341339</td>\n",
       "      <td>-0.557588</td>\n",
       "      <td>-0.318997</td>\n",
       "    </tr>\n",
       "    <tr>\n",
       "      <th>une_life</th>\n",
       "      <td>0.185664</td>\n",
       "      <td>0.991448</td>\n",
       "      <td>0.869439</td>\n",
       "      <td>-0.943640</td>\n",
       "      <td>-0.926927</td>\n",
       "      <td>-0.855848</td>\n",
       "      <td>0.394807</td>\n",
       "      <td>0.587912</td>\n",
       "      <td>-0.551026</td>\n",
       "      <td>0.613217</td>\n",
       "      <td>...</td>\n",
       "      <td>0.651090</td>\n",
       "      <td>0.581836</td>\n",
       "      <td>0.597990</td>\n",
       "      <td>0.275515</td>\n",
       "      <td>0.030840</td>\n",
       "      <td>-0.928764</td>\n",
       "      <td>1.000000</td>\n",
       "      <td>-0.543800</td>\n",
       "      <td>0.598395</td>\n",
       "      <td>0.246174</td>\n",
       "    </tr>\n",
       "    <tr>\n",
       "      <th>une_hiv</th>\n",
       "      <td>-0.018294</td>\n",
       "      <td>-0.511821</td>\n",
       "      <td>-0.343894</td>\n",
       "      <td>0.680558</td>\n",
       "      <td>0.341615</td>\n",
       "      <td>0.292005</td>\n",
       "      <td>-0.038341</td>\n",
       "      <td>-0.154689</td>\n",
       "      <td>0.193470</td>\n",
       "      <td>-0.243627</td>\n",
       "      <td>...</td>\n",
       "      <td>-0.346252</td>\n",
       "      <td>-0.190708</td>\n",
       "      <td>-0.086570</td>\n",
       "      <td>0.024850</td>\n",
       "      <td>-0.102309</td>\n",
       "      <td>0.341339</td>\n",
       "      <td>-0.543800</td>\n",
       "      <td>1.000000</td>\n",
       "      <td>-0.190072</td>\n",
       "      <td>0.188755</td>\n",
       "    </tr>\n",
       "    <tr>\n",
       "      <th>une_gni</th>\n",
       "      <td>0.147887</td>\n",
       "      <td>0.603019</td>\n",
       "      <td>0.602258</td>\n",
       "      <td>-0.544664</td>\n",
       "      <td>-0.549928</td>\n",
       "      <td>-0.421805</td>\n",
       "      <td>0.296187</td>\n",
       "      <td>0.413644</td>\n",
       "      <td>-0.368289</td>\n",
       "      <td>0.565269</td>\n",
       "      <td>...</td>\n",
       "      <td>0.475194</td>\n",
       "      <td>0.995786</td>\n",
       "      <td>0.443471</td>\n",
       "      <td>0.136916</td>\n",
       "      <td>-0.043031</td>\n",
       "      <td>-0.557588</td>\n",
       "      <td>0.598395</td>\n",
       "      <td>-0.190072</td>\n",
       "      <td>1.000000</td>\n",
       "      <td>0.243935</td>\n",
       "    </tr>\n",
       "    <tr>\n",
       "      <th>une_edu_spend</th>\n",
       "      <td>0.021240</td>\n",
       "      <td>0.261548</td>\n",
       "      <td>0.280849</td>\n",
       "      <td>-0.147110</td>\n",
       "      <td>-0.318738</td>\n",
       "      <td>-0.283001</td>\n",
       "      <td>0.215987</td>\n",
       "      <td>0.312443</td>\n",
       "      <td>-0.281627</td>\n",
       "      <td>0.238316</td>\n",
       "      <td>...</td>\n",
       "      <td>0.346693</td>\n",
       "      <td>0.225688</td>\n",
       "      <td>0.521580</td>\n",
       "      <td>0.341504</td>\n",
       "      <td>-0.100813</td>\n",
       "      <td>-0.318997</td>\n",
       "      <td>0.246174</td>\n",
       "      <td>0.188755</td>\n",
       "      <td>0.243935</td>\n",
       "      <td>1.000000</td>\n",
       "    </tr>\n",
       "  </tbody>\n",
       "</table>\n",
       "<p>25 rows × 25 columns</p>\n",
       "</div>"
      ],
      "text/plain": [
       "                     year  life_expect  life_exp60  adult_mortality  \\\n",
       "year             1.000000     0.190961    0.192872        -0.170946   \n",
       "life_expect      0.190961     1.000000    0.886159        -0.946419   \n",
       "life_exp60       0.192872     0.886159    1.000000        -0.775321   \n",
       "adult_mortality -0.170946    -0.946419   -0.775321         1.000000   \n",
       "infant_mort     -0.195293    -0.930113   -0.769839         0.813210   \n",
       "age1-4mort      -0.191723    -0.864414   -0.661082         0.756230   \n",
       "alcohol          0.006428     0.399797    0.465785        -0.246530   \n",
       "bmi              0.170244     0.597996    0.458839        -0.517095   \n",
       "age5-19thinness -0.081810    -0.565396   -0.556536         0.455205   \n",
       "age5-19obesity   0.278359     0.621000    0.547764        -0.571792   \n",
       "hepatitis        0.128042     0.341137    0.238058        -0.276921   \n",
       "measles          0.142717     0.640408    0.504875        -0.526185   \n",
       "polio            0.128699     0.646486    0.501654        -0.537973   \n",
       "diphtheria       0.141351     0.640473    0.503303        -0.529967   \n",
       "basic_water      0.109352     0.831099    0.680990        -0.732704   \n",
       "doctors          0.012124     0.651891    0.571336        -0.547177   \n",
       "gni_capita       0.118967     0.585603    0.582539        -0.527650   \n",
       "gghe-d           0.081852     0.609787    0.670995        -0.485836   \n",
       "che_gdp          0.112887     0.284920    0.388805        -0.198618   \n",
       "une_pop          0.016757     0.032126    0.004131        -0.061503   \n",
       "une_infant      -0.187952    -0.931899   -0.776510         0.814884   \n",
       "une_life         0.185664     0.991448    0.869439        -0.943640   \n",
       "une_hiv         -0.018294    -0.511821   -0.343894         0.680558   \n",
       "une_gni          0.147887     0.603019    0.602258        -0.544664   \n",
       "une_edu_spend    0.021240     0.261548    0.280849        -0.147110   \n",
       "\n",
       "                 infant_mort  age1-4mort   alcohol       bmi  age5-19thinness  \\\n",
       "year               -0.195293   -0.191723  0.006428  0.170244        -0.081810   \n",
       "life_expect        -0.930113   -0.864414  0.399797  0.597996        -0.565396   \n",
       "life_exp60         -0.769839   -0.661082  0.465785  0.458839        -0.556536   \n",
       "adult_mortality     0.813210    0.756230 -0.246530 -0.517095         0.455205   \n",
       "infant_mort         1.000000    0.909032 -0.444580 -0.641874         0.578230   \n",
       "age1-4mort          0.909032    1.000000 -0.305744 -0.615242         0.486846   \n",
       "alcohol            -0.444580   -0.305744  1.000000  0.272832        -0.481989   \n",
       "bmi                -0.641874   -0.615242  0.272832  1.000000        -0.685819   \n",
       "age5-19thinness     0.578230    0.486846 -0.481989 -0.685819         1.000000   \n",
       "age5-19obesity     -0.602402   -0.544587  0.140611  0.807143        -0.548601   \n",
       "hepatitis          -0.425655   -0.388905  0.119041  0.291555        -0.265812   \n",
       "measles            -0.720169   -0.698573  0.291679  0.468788        -0.439146   \n",
       "polio              -0.728603   -0.700788  0.289802  0.441274        -0.415575   \n",
       "diphtheria         -0.720741   -0.694145  0.294311  0.446225        -0.418306   \n",
       "basic_water        -0.851514   -0.802324  0.407690  0.673261        -0.474768   \n",
       "doctors            -0.644034   -0.569178  0.560723  0.463434        -0.582657   \n",
       "gni_capita         -0.539514   -0.417762  0.304989  0.410808        -0.370173   \n",
       "gghe-d             -0.576804   -0.447373  0.529580  0.461679        -0.573455   \n",
       "che_gdp            -0.238393   -0.162339  0.372205  0.248024        -0.396721   \n",
       "une_pop            -0.003967   -0.032953 -0.037812 -0.166194         0.265009   \n",
       "une_infant          0.996975    0.902324 -0.449387 -0.644441         0.586277   \n",
       "une_life           -0.926927   -0.855848  0.394807  0.587912        -0.551026   \n",
       "une_hiv             0.341615    0.292005 -0.038341 -0.154689         0.193470   \n",
       "une_gni            -0.549928   -0.421805  0.296187  0.413644        -0.368289   \n",
       "une_edu_spend      -0.318738   -0.283001  0.215987  0.312443        -0.281627   \n",
       "\n",
       "                 age5-19obesity  ...   doctors  gni_capita    gghe-d  \\\n",
       "year                   0.278359  ...  0.012124    0.118967  0.081852   \n",
       "life_expect            0.621000  ...  0.651891    0.585603  0.609787   \n",
       "life_exp60             0.547764  ...  0.571336    0.582539  0.670995   \n",
       "adult_mortality       -0.571792  ... -0.547177   -0.527650 -0.485836   \n",
       "infant_mort           -0.602402  ... -0.644034   -0.539514 -0.576804   \n",
       "age1-4mort            -0.544587  ... -0.569178   -0.417762 -0.447373   \n",
       "alcohol                0.140611  ...  0.560723    0.304989  0.529580   \n",
       "bmi                    0.807143  ...  0.463434    0.410808  0.461679   \n",
       "age5-19thinness       -0.548601  ... -0.582657   -0.370173 -0.573455   \n",
       "age5-19obesity         1.000000  ...  0.342439    0.584749  0.432588   \n",
       "hepatitis              0.268885  ...  0.183593    0.186008  0.164603   \n",
       "measles                0.399031  ...  0.416341    0.343571  0.397029   \n",
       "polio                  0.376953  ...  0.425552    0.356950  0.412707   \n",
       "diphtheria             0.380033  ...  0.404923    0.355730  0.409616   \n",
       "basic_water            0.588918  ...  0.626980    0.521022  0.510005   \n",
       "doctors                0.342439  ...  1.000000    0.420878  0.649893   \n",
       "gni_capita             0.584749  ...  0.420878    1.000000  0.424780   \n",
       "gghe-d                 0.432588  ...  0.649893    0.424780  1.000000   \n",
       "che_gdp                0.210695  ...  0.470777    0.127437  0.689880   \n",
       "une_pop               -0.044698  ... -0.104054   -0.038913 -0.081169   \n",
       "une_infant            -0.606526  ... -0.650026   -0.547087 -0.588625   \n",
       "une_life               0.613217  ...  0.651090    0.581836  0.597990   \n",
       "une_hiv               -0.243627  ... -0.346252   -0.190708 -0.086570   \n",
       "une_gni                0.565269  ...  0.475194    0.995786  0.443471   \n",
       "une_edu_spend          0.238316  ...  0.346693    0.225688  0.521580   \n",
       "\n",
       "                  che_gdp   une_pop  une_infant  une_life   une_hiv   une_gni  \\\n",
       "year             0.112887  0.016757   -0.187952  0.185664 -0.018294  0.147887   \n",
       "life_expect      0.284920  0.032126   -0.931899  0.991448 -0.511821  0.603019   \n",
       "life_exp60       0.388805  0.004131   -0.776510  0.869439 -0.343894  0.602258   \n",
       "adult_mortality -0.198618 -0.061503    0.814884 -0.943640  0.680558 -0.544664   \n",
       "infant_mort     -0.238393 -0.003967    0.996975 -0.926927  0.341615 -0.549928   \n",
       "age1-4mort      -0.162339 -0.032953    0.902324 -0.855848  0.292005 -0.421805   \n",
       "alcohol          0.372205 -0.037812   -0.449387  0.394807 -0.038341  0.296187   \n",
       "bmi              0.248024 -0.166194   -0.644441  0.587912 -0.154689  0.413644   \n",
       "age5-19thinness -0.396721  0.265009    0.586277 -0.551026  0.193470 -0.368289   \n",
       "age5-19obesity   0.210695 -0.044698   -0.606526  0.613217 -0.243627  0.565269   \n",
       "hepatitis        0.069192 -0.120477   -0.428513  0.335922 -0.047606  0.213110   \n",
       "measles          0.203850 -0.015849   -0.723022  0.634170 -0.110764  0.357171   \n",
       "polio            0.223872 -0.029698   -0.729671  0.641438 -0.107839  0.367155   \n",
       "diphtheria       0.224228 -0.028161   -0.721966  0.632861 -0.093512  0.362230   \n",
       "basic_water      0.205403  0.028914   -0.850791  0.830581 -0.287143  0.532326   \n",
       "doctors          0.470777 -0.104054   -0.650026  0.651090 -0.346252  0.475194   \n",
       "gni_capita       0.127437 -0.038913   -0.547087  0.581836 -0.190708  0.995786   \n",
       "gghe-d           0.689880 -0.081169   -0.588625  0.597990 -0.086570  0.443471   \n",
       "che_gdp          1.000000 -0.070979   -0.246567  0.275515  0.024850  0.136916   \n",
       "une_pop         -0.070979  1.000000    0.000892  0.030840 -0.102309 -0.043031   \n",
       "une_infant      -0.246567  0.000892    1.000000 -0.928764  0.341339 -0.557588   \n",
       "une_life         0.275515  0.030840   -0.928764  1.000000 -0.543800  0.598395   \n",
       "une_hiv          0.024850 -0.102309    0.341339 -0.543800  1.000000 -0.190072   \n",
       "une_gni          0.136916 -0.043031   -0.557588  0.598395 -0.190072  1.000000   \n",
       "une_edu_spend    0.341504 -0.100813   -0.318997  0.246174  0.188755  0.243935   \n",
       "\n",
       "                 une_edu_spend  \n",
       "year                  0.021240  \n",
       "life_expect           0.261548  \n",
       "life_exp60            0.280849  \n",
       "adult_mortality      -0.147110  \n",
       "infant_mort          -0.318738  \n",
       "age1-4mort           -0.283001  \n",
       "alcohol               0.215987  \n",
       "bmi                   0.312443  \n",
       "age5-19thinness      -0.281627  \n",
       "age5-19obesity        0.238316  \n",
       "hepatitis             0.149778  \n",
       "measles               0.270067  \n",
       "polio                 0.314252  \n",
       "diphtheria            0.298042  \n",
       "basic_water           0.271050  \n",
       "doctors               0.346693  \n",
       "gni_capita            0.225688  \n",
       "gghe-d                0.521580  \n",
       "che_gdp               0.341504  \n",
       "une_pop              -0.100813  \n",
       "une_infant           -0.318997  \n",
       "une_life              0.246174  \n",
       "une_hiv               0.188755  \n",
       "une_gni               0.243935  \n",
       "une_edu_spend         1.000000  \n",
       "\n",
       "[25 rows x 25 columns]"
      ]
     },
     "execution_count": 12,
     "metadata": {},
     "output_type": "execute_result"
    }
   ],
   "source": [
    "corr = life_exp_pro_df.corr()\n",
    "corr"
   ]
  },
  {
   "cell_type": "markdown",
   "id": "1390f2e0",
   "metadata": {},
   "source": [
    "**Bước 02:** Trực quan hóa ma trận thể hiện độ tương quan thông qua heatmap của thư viện Seaborn.\n"
   ]
  },
  {
   "cell_type": "code",
   "execution_count": null,
   "id": "c81da217",
   "metadata": {},
   "outputs": [],
   "source": [
    "mask = np.zeros_like(corr, dtype=bool)\n",
    "mask[np.triu_indices_from(mask)] = True\n",
    "plt.subplots(figsize=(18,12))\n",
    "dataplot = sns.heatmap(corr, cmap=\"coolwarm\", annot=True, mask=mask)\n",
    "plt.title(\"Correlation Heatmap\")\n",
    "plt.show()"
   ]
  },
  {
   "cell_type": "markdown",
   "id": "0e921c6e",
   "metadata": {},
   "source": [
    "**Nhận xét:** Từ Heatmap trên, ta rút ra:\n",
    "* Các cặp (`une_life`, `life_expect`), (`une_infant`, `infant_mort`) và (`une_gni`, `gni_capita`) có độ tương quan cao thể hiện sự đồng biến (0.99 và 1.00). \n",
    "* Các cặp (`adult_mortality`, `life_expect`), (`une_life`, `adult_mortality`), (`une_life`, `infant_mort`),... có độ tương quan thấp (nghịch biến).\n",
    "* Các mối quan hệ giữa 2 cột có độ tương quan càng cao hoặc càng thấp (nghĩa là càng tiến về 1 nếu đồng biến hoặc -1 nếu nghịch biến) càng có sự ảnh hưởng lẫn nhau và được xem là \"good relationship\". Các mối quan hệ có độ tương quan càng tiến về 0 cho thấy sự thay đổi giữa 2 cột không ổn định (nghĩa là khi cột này tăng, cột kia có thể tăng hoặc giảm, không có sự ổn định nhất định)."
   ]
  },
  {
   "cell_type": "markdown",
   "id": "d30f9681",
   "metadata": {},
   "source": [
    "### Tiền xử lý"
   ]
  },
  {
   "cell_type": "markdown",
   "id": "e0f420bc",
   "metadata": {},
   "source": [
    "Quan sát các cặp cột có độ tương quan là 1.00 ở nhận xét trên, kết hợp với việc khảo sát sự phân bổ các giá trị numeric ở trên, ta thấy rằng: \n",
    "* Với 2 cột `une_infant` và `infant_mort`, tỉ lệ thiếu cả 2 cột là 0%, các giá trị về min, max, mean đều xấp xỉ nhau, chỉ khác về đơn vị (`une_infant` được tính trên 1000 người). \n",
    "* Với 2 cột `une_gni`, `gni_capita`, cột `gni_capita` có tỉ lệ thiếu là 21.92% trong khi đó cột `une_gni` tỉ lệ thiếu là 3.76%. \n",
    "Do đó, ta tiến hành loại bỏ các cột `infant_mort` và `gni_capita`"
   ]
  },
  {
   "cell_type": "code",
   "execution_count": null,
   "id": "51cf94c9",
   "metadata": {},
   "outputs": [],
   "source": [
    "life_exp_pro_df = life_exp_pro_df.drop(columns=['infant_mort','gni_capita'])\n",
    "life_exp_pro_df.shape"
   ]
  },
  {
   "cell_type": "markdown",
   "id": "cb1c6077",
   "metadata": {},
   "source": [
    "## Khám phá dữ liệu (tiếp tục)"
   ]
  },
  {
   "cell_type": "markdown",
   "id": "09003314",
   "metadata": {},
   "source": [
    "### Kiểm tra dữ liệu có sự bất thường ở 4 cột country, country_code, region và year không? "
   ]
  },
  {
   "cell_type": "markdown",
   "id": "b07ea476",
   "metadata": {},
   "source": [
    "Mỗi nước phải được khảo sát trong 17 năm, liên tục từ 2000 đến 2016, country_code và region phải giống nhau qua từng năm ở mỗi nước qua trong các năm khảo sát. Kết quả được lưu vào biến `is_normal`, nếu biến này là `True` thì dữ liệu bình thường, hợp lý; ngược lại biến này mang giá trị là `False`."
   ]
  },
  {
   "cell_type": "code",
   "execution_count": null,
   "id": "4c8958b5",
   "metadata": {},
   "outputs": [],
   "source": [
    "values, counts = np.unique(life_exp_pro_df.groupby(['country', 'country_code', 'region']).size().values, \\\n",
    "                           return_counts=True)\n",
    "\n",
    "max_year = life_exp_pro_df['year'].max()\n",
    "min_year = life_exp_pro_df['year'].min()\n",
    "\n",
    "num_countries = life_exp_pro_df['country'].nunique()\n",
    "\n",
    "if len(values) == 1 and len(counts) == 1 \\\n",
    "    and values[0] == max_year - min_year + 1 and counts[0] == num_countries:\n",
    "    is_normal = True\n",
    "else: \n",
    "    is_normal = False\n",
    "    \n",
    "is_normal"
   ]
  },
  {
   "cell_type": "markdown",
   "id": "494b2ec9",
   "metadata": {},
   "source": [
    "### Khảo sát về tuổi thọ kỳ vọng ở các quốc gia"
   ]
  },
  {
   "cell_type": "code",
   "execution_count": null,
   "id": "a5be47b8",
   "metadata": {},
   "outputs": [],
   "source": [
    "fig, ax = plt.subplots(figsize=(16, 9))\n",
    "\n",
    "cdict = {'Africa': 'orange', 'Americas': 'red', 'Western Pacific': 'blue', \\\n",
    "         'South-East Asia': 'green', 'Europe': 'purple', 'Eastern Mediterranean':'yellow'}\n",
    "\n",
    "grouped = life_exp_pro_df.groupby('region')\n",
    "for key, group in grouped:\n",
    "    group.plot(ax=ax, kind='scatter', x='year', y='life_expect', label=key, color=cdict[key])\n",
    "plt.show()"
   ]
  },
  {
   "cell_type": "markdown",
   "id": "33947d13",
   "metadata": {},
   "source": [
    "**Nhận xét:** Ta thấy dữ liệu có 1 điểm bất thường, điểm này thể hiện ở khu vực châu Mỹ vào năm 2010. Ta tiếp tục khảo sát tỉ lệ tử vong xem có gì bất thường không?"
   ]
  },
  {
   "cell_type": "markdown",
   "id": "a513502d",
   "metadata": {},
   "source": [
    "Để có thể lấy được tỉ lệ tử vong, ta cần tính tổng 3 cột thể hiện tỉ lệ tử vong vốn có là `une_infant` (Tỉ lệ tử vong trẻ sơ sinh), `age1-4mort` (Tỉ lệ tử vong từ 1-4 tuổi) và `adult_mortality` (Tỉ lệ tử vong ở người trưởng thành).\n",
    "\n",
    "Tuy nhiên để làm được việc này ta cũng cần biến đổi cột `age1-4mort` từ đơn vị tỉ lệ trên tổng số dân thành trên 1000 người giống 2 cột còn lại. Ta sẽ nhân cột `age1-4mort` cho 1000."
   ]
  },
  {
   "cell_type": "code",
   "execution_count": null,
   "id": "711197d0",
   "metadata": {},
   "outputs": [],
   "source": [
    "fig, ax = plt.subplots(figsize=(16, 9))\n",
    "\n",
    "mort_df = life_exp_pro_df[['region', \n",
    "                           'year',\n",
    "                           'country']]\n",
    "mort_df.insert(3, \"mort_rate\", life_exp_pro_df['une_infant'] \\\n",
    "                        + life_exp_pro_df['age1-4mort'] * 1000 \\\n",
    "                        + life_exp_pro_df['adult_mortality'])\n",
    "# mort_df.['mort_rate'] = ...\n",
    "mean_mort = mort_df.groupby('year')['mort_rate'].mean()\n",
    "mean_mort.plot.line()\n",
    "grouped = mort_df.groupby('region')\n",
    "\n",
    "cdict = {'Africa': 'orange', 'Americas': 'red', 'Western Pacific': 'blue', \\\n",
    "         'South-East Asia': 'green', 'Europe': 'purple', 'Eastern Mediterranean':'yellow'}\n",
    "\n",
    "for key, group in grouped:\n",
    "    group.plot(ax=ax, kind='scatter', x='year', y='mort_rate', label=key, color=cdict[key])\n",
    "    \n",
    "plt.title('The distribution of life expectancy by country by year',size=16)\n",
    "plt.show()"
   ]
  },
  {
   "cell_type": "markdown",
   "id": "1b76c687",
   "metadata": {},
   "source": [
    "**Nhận xét:** Tỉ lệ tử vong của 1 quốc gia nào đó ở chây Mỹ năm 2010 tăng bất thường. Ta kiểm tra xem đây là quốc gia nào."
   ]
  },
  {
   "cell_type": "code",
   "execution_count": null,
   "id": "51330278",
   "metadata": {},
   "outputs": [],
   "source": [
    "ame_2010_df = mort_df[(mort_df['region'] == 'Americas') \n",
    "                          & (mort_df['year'] == 2010)]\n",
    "idx_max = ame_2010_df['mort_rate'].idxmax()\n",
    "max_mort_country = ame_2010_df.loc[idx_max]['country']\n",
    "mort_df[mort_df['country'] == max_mort_country]"
   ]
  },
  {
   "cell_type": "markdown",
   "id": "9ff40a71",
   "metadata": {},
   "source": [
    "Vậy quốc gia gây ra outlier chính là Haiti, với tỉ lệ tử vong năm 2010 vào xấp xỉ 789/1000 người, tăng khoảng gấp đôi so với các năm còn lại. Khám phá thêm về Haiti năm 2010 ta tìm được thông tin về [trận động đất năm 2010](https://www.history.com/this-day-in-history/massive-earthquake-strikes-haiti) gây thương vong vào khoản 200,000 người. Đó là nguyên nhân gây ra outlier trong tập dữ liệu.\n",
    "\n",
    "Ta nhận thấy có thể dùng dataframe `mort_df` đã có để khảo sát thêm liệu còn các trường hợp quốc gia nào có biến động tương tự hay không. Ta sẽ vẽ line graph cho từng quốc gia trong từng khu vực qua các năm."
   ]
  },
  {
   "cell_type": "code",
   "execution_count": null,
   "id": "6e06bfa4",
   "metadata": {
    "scrolled": true
   },
   "outputs": [],
   "source": [
    "region_names = mort_df['region'].unique()\n",
    "fig, axs = plt.subplots(3, 2)\n",
    "fig.set_size_inches(12.0, 20.0)\n",
    "for ireg, region in enumerate(region_names):\n",
    "    ix = ireg//2\n",
    "    iy = ireg%2\n",
    "    axs[ix, iy].set_title(region)\n",
    "    temp_df = mort_df[mort_df['region'] == region]\n",
    "    for country in temp_df['country'].unique():\n",
    "        axs[ix, iy].plot(temp_df[temp_df['country']==country]['year'], \n",
    "                         temp_df[temp_df['country']==country]['mort_rate'])\n",
    "    axs[ix, iy].set_xlabel('year')\n",
    "    axs[ix, iy].set_ylabel('mortality rate')\n",
    "plt.tight_layout()\n",
    "plt.show()"
   ]
  },
  {
   "cell_type": "markdown",
   "id": "0f3206a0",
   "metadata": {},
   "source": [
    "Ngoài khu vực Americas ra, khu vực SEA có một quốc gia cũng tăng đột tiến tỉ lệ tử vong vào năm 2008. Ta sẽ xem đây là quốc gia nào."
   ]
  },
  {
   "cell_type": "code",
   "execution_count": null,
   "id": "c21d737c",
   "metadata": {
    "scrolled": true
   },
   "outputs": [],
   "source": [
    "sea_2008_df = mort_df[(mort_df['region'] == 'South-East Asia') \n",
    "                          & (mort_df['year'] == 2008)]\n",
    "idx_max = sea_2008_df['mort_rate'].idxmax()\n",
    "max_mort_country = sea_2008_df.loc[idx_max]['country']\n",
    "mort_df[mort_df['country'] == max_mort_country]"
   ]
  },
  {
   "cell_type": "markdown",
   "id": "d3846278",
   "metadata": {},
   "source": [
    "Vậy quốc gia đó là Myanmar. Sau khi nhóm em thử tra cứu về Myanmar năm 2008 thì tìm hiểu được vào ngày 2/5/2008 có [cơn bão Nargis] (https://en.wikipedia.org/wiki/Cyclone_Nargis) diễn ra khiến ít nhất 138,373 người thiệt mạng. Như vậy xảy ra outlier này là hoàn toàn hợp lý."
   ]
  },
  {
   "cell_type": "markdown",
   "id": "28a7fe59",
   "metadata": {},
   "source": [
    "Ngoài ra thấy ở khu vực Eastern Mediterranean cũng có một quốc gia có tỉ lệ tử vong tăng liên tục từ năm 2011 đến năm 2014. Ta khảo sát thử xem đây là quốc gia nào."
   ]
  },
  {
   "cell_type": "code",
   "execution_count": null,
   "id": "c7ea9947",
   "metadata": {},
   "outputs": [],
   "source": [
    " mort_dif_df = mort_df[(mort_df['region'] == 'Eastern Mediterranean') \n",
    "                          & ((mort_df['year'] == 2011) \\\n",
    "                             | (mort_df['year'] == 2014))]\n",
    "idx_max = pd.DataFrame(abs(mort_dif_df['mort_rate'].values[1::2] \\\n",
    "                           - mort_dif_df['mort_rate'].values[::2]), \n",
    "             columns=['mort_rate']).idxmax()\n",
    "EM_country = mort_dif_df.reset_index().loc[idx_max * 2]['country'].values[0]\n",
    "mort_df[mort_df['country'] == EM_country]"
   ]
  },
  {
   "cell_type": "markdown",
   "id": "7b53799a",
   "metadata": {},
   "source": [
    "Vậy quốc gia đó là Ả Rập Syrian. Ta sẽ  Sau khi tìm hiểu về Syrian năm 2011, nhóm đã phát hiện từ tháng 3 năm 2011 Syrian xảy ra [cuộc nội chiến đa đảng](https://en.wikipedia.org/wiki/Human_rights_in_Syria) và kéo dài đến tận ngày nay, gây thương vong về người rất lớn. Theo số liệu, tỉ lệ tử vong tăng mạnh (khoảng gấp đôi) từ 2011 đến 2014 và vẫn còn cao trong những năm sau đó."
   ]
  },
  {
   "cell_type": "markdown",
   "id": "11fa1ccb",
   "metadata": {},
   "source": [
    "- Ta thấy cần loại bỏ outlier của quốc gia Haiti vì mức tăng là khoảng 200% gây ra để tránh kết quả xấu khi thực hiện phân tích dữ liệu. \n",
    "- Trái lại, đối với trường hợp Myanmar, outlier này có mức tăng không đáng kể như Haiti. Ta không cần loại outlier này.\n",
    "- Đối với Ả Rập Syrian, tuy mức tăng cũng vào khoảng trên 200% (năm 2014 so với 2011) nhưng những năm sau đó tỉ lệ tử vong ổn định và không có đột biến. Ta cũng giữ lại không loại outlier này.\n",
    "\n",
    "=> Ta sẽ tiến hành loại dòng dữ liệu Haiti năm 2010"
   ]
  },
  {
   "cell_type": "code",
   "execution_count": null,
   "id": "e42e1279",
   "metadata": {},
   "outputs": [],
   "source": [
    "life_exp_pro_df.drop(life_exp_pro_df[(life_exp_pro_df['country'] == 'Haiti') \n",
    "                             & (life_exp_pro_df['year'] == 2010)].index, \n",
    "                 inplace=True)\n",
    "life_exp_pro_df.shape"
   ]
  },
  {
   "cell_type": "markdown",
   "id": "876a87a9",
   "metadata": {},
   "source": [
    "### Khảo sát cột Region"
   ]
  },
  {
   "cell_type": "markdown",
   "id": "a3a4aaa2",
   "metadata": {},
   "source": [
    "Quan sát một vài giá trị đầu và cuối của dữ liệu"
   ]
  },
  {
   "cell_type": "code",
   "execution_count": null,
   "id": "cfca9c9e",
   "metadata": {},
   "outputs": [],
   "source": [
    "life_exp_pro_df"
   ]
  },
  {
   "cell_type": "markdown",
   "id": "27581db4",
   "metadata": {},
   "source": [
    "**Nhận xét:** Nước Lào thuộc vào khu vực Tây Thái Bình Dương (đáng lẽ theo lẽ thường Lào phải thuộc về Đông Nam Á (South-East Asia)). Ta kiểm tra kỹ hơn về các khu vực có trong tập dữ liệu."
   ]
  },
  {
   "cell_type": "markdown",
   "id": "ee87ca8d",
   "metadata": {},
   "source": [
    "#### Có tất cả bao nhiêu khu vực và đó là những khu vực nào?"
   ]
  },
  {
   "cell_type": "code",
   "execution_count": null,
   "id": "acb37f86",
   "metadata": {},
   "outputs": [],
   "source": [
    "life_exp_pro_df.groupby(['region']).size() / (max_year - min_year + 1)"
   ]
  },
  {
   "cell_type": "markdown",
   "id": "e47add7c",
   "metadata": {},
   "source": [
    "Có 6 khu vực trong tập dữ liệu, khu vực châu Phi có 47 nước, châu Mỹ 33 nước, Đông Địa Trung Hải 21 nước, châu Âu 50 nước, Đông Nam Á 11 nước, Tây Thái Bình Dương 21 nước. Tiếp túc kiểm tra 2 khu vực Tây Thái Bình Dương và Đông Nam Á, xem thử có nước nào như nước Lào không?"
   ]
  },
  {
   "cell_type": "code",
   "execution_count": null,
   "id": "cedcb876",
   "metadata": {},
   "outputs": [],
   "source": [
    "life_exp_pro_df[life_exp_pro_df['region'] == 'Western Pacific']['country'].unique()"
   ]
  },
  {
   "cell_type": "code",
   "execution_count": null,
   "id": "62cef646",
   "metadata": {},
   "outputs": [],
   "source": [
    "life_exp_pro_df[life_exp_pro_df['region'] == 'South-East Asia']['country'].unique()"
   ]
  },
  {
   "cell_type": "markdown",
   "id": "60041346",
   "metadata": {},
   "source": [
    "**Nhận xét:** Dường như cột `region` không phân chia theo khu vực mà đã học trong môn địa lý. Theo nhóm em có tìm hiểu thì WHO sẽ chia các nước trên thế giới thành 6 khu vực, ở mỗi khu vực sẽ có các văn phòng tương ứng. Cụ thể có thể xem tại [đây](https://www.who.int/about/who-we-are/regional-offices) hoặc [Wikipedia](https://en.wikipedia.org/wiki/List_of_WHO_regions)."
   ]
  },
  {
   "cell_type": "markdown",
   "id": "f6d0a7d9",
   "metadata": {},
   "source": [
    "---"
   ]
  },
  {
   "cell_type": "markdown",
   "id": "8fa3fda2",
   "metadata": {
    "id": "4XnnpjXqYbAv"
   },
   "source": [
    "## Đưa ra câu hỏi cần trả lời"
   ]
  },
  {
   "cell_type": "markdown",
   "id": "6a24fff4",
   "metadata": {},
   "source": [
    "* **Câu hỏi 1:** Các quốc gia và khu vực trên thế giới có tuổi thọ biến động như thế nào từ năm 2000 đến năm 2016? Việt Nam có tuổi thọ như thế nào so với các quốc gia khác trên thế giới và khu vực?\n",
    "\t\n",
    "* **Câu hỏi 2:** Các vấn đề về y tế, kinh tế, xã hội có tác động như thế nào đến tuổi thọ của các quốc gia và các khu vực trên thế giới trong những năm 2000 đến năm 2016?\n",
    "\n",
    "\t* Y tế: Khảo sát sự tác động của tỷ lệ tiêm chủng (viêm gan, sởi, bại liệt, bạch hầu). \n",
    "\t* Kinh tế: Khảo sát sự tác động của tổng thu nhập quốc dân, chi tiêu của chính phủ cho y tế, chi phí dân bỏ ra cho y tế, chi tiêu cho giáo dục giới tính.\n",
    "\t* Xã hội: Khảo sát sự tác động của tiêu thụ rượu, tỷ lệ người dân tiếp cận được nước sạch, tỷ lệ HIV/AIDS, dân số.\n",
    "\n",
    "* **Câu hỏi 3:** Các vấn đề về y tế, kinh tế, xã hội ở các quốc gia đang phát triển và các quốc gia phát triển có gì khác biệt không? Nếu có thì sự khác biệt này như thế nào?"
   ]
  },
  {
   "cell_type": "markdown",
   "id": "34859c60",
   "metadata": {
    "id": "qMEXHbSyYbA1"
   },
   "source": [
    "### Phân tích dữ liệu để trả lời cho các câu hỏi "
   ]
  },
  {
   "cell_type": "markdown",
   "id": "750933fc",
   "metadata": {},
   "source": [
    "#### Câu hỏi 1: Các quốc gia và khu vực trên thế giới có tuổi thọ biến động như thế nào từ năm 2000 đến năm 2016? Việt Nam có tuổi thọ như thế nào so với các quốc gia khác trên thế giới và khu vực?"
   ]
  },
  {
   "cell_type": "markdown",
   "id": "067e2001",
   "metadata": {},
   "source": [
    "**Ý nghĩa khi trả lời câu hỏi:** Biết được cái nhìn tổng quan về tuổi thọ trung bình của các quốc gia (trong đó có Việt Nam) cũng như các khu vực trên thế giới, cụ thể: \n",
    "* Về phía Chính phủ, Nhà nước: Biết được quốc gia mình đang ở vị trí nào trong khu vực và thế giới, từ đó đề ra các giải pháp, chiến lược để duy trì và phát huy nhằm đạt được tuổi thọ trung bình cao hơn.\n",
    "* Về phía người dân: có thể là **một trong số** các nhân tố dùng để tham khảo khi có ý định du học, định cư,...\n",
    "* Ngoài ra, tạo tiền đề để các phân tích, nghiên cứu khác ra đời.\n",
    "\n",
    "**Hướng tiếp cận để trả lời câu hỏi:**\n",
    "Để trả lời câu hỏi này, nhóm tiếp cận theo hướng tách nhỏ thành các câu hỏi nhỏ hơn, cụ thể:\n",
    "* Tổng quan thế giới:\n",
    "    * Tuổi thọ trung bình trên thế giới biến động như thế nào qua các năm?\n",
    "* Về phía từng quốc gia: \n",
    "    * Tuổi thọ trung bình của các quốc gia như thế nào?\n",
    "    * Top 10 quốc gia có tuổi thọ trung bình cao nhất, thấp nhất?\n",
    "    * Độ chênh lệch tuổi thọ năm 2016 và năm 2000 của các quốc gia như thế nào? \n",
    "    * Giải thích sự biến động về mặt tuổi thọ trung bình của các quốc gia trên thế giới.\n",
    "* Về phía từng khu vực:\n",
    "    * Tuổi thọ trung bình của các khu vực như thế nào? Đâu là khu vực có tuổi thọ trung bình cao nhất, thấp nhất?\n",
    "    * Nhận xét về sự phân bố tuổi thọ trung bình của các khu vực trên thế giới.\n",
    "* Về tuổi thọ của Việt Nam:\n",
    "    * Việt Nam đang ở vị trí nào về mặt tuổi thọ trên thế giới và trong khu vực? \n",
    "    * Tốc độ biến động tuổi thọ ở Việt Nam qua các năm có xu hướng như thế nào?"
   ]
  },
  {
   "cell_type": "markdown",
   "id": "a48b66e3",
   "metadata": {},
   "source": [
    "##### Tổng quan thế giới"
   ]
  },
  {
   "cell_type": "markdown",
   "id": "d3f2e19e",
   "metadata": {},
   "source": [
    "**Tuổi thọ trung bình trên thế giới biến động như thế nào qua các năm?**"
   ]
  },
  {
   "cell_type": "markdown",
   "id": "063a16c0",
   "metadata": {},
   "source": [
    "Các bước thực hiện: \n",
    "* **Bước 1:** Tính trung bình tuổi thọ của 183 quốc gia trong tập dữ liệu theo từng năm. \n",
    "* **Bước 2:** Vẽ đồ thị thể hiện sự biến động tuổi thọ trung bình của các quốc gia trên thế giới. \n",
    "* **Bước 3:** Vẽ đồ thị histogram thể hiện phân phối tuổi thọ trung bình của thế giới năm 2000 và 2016.\n",
    "* **Bước 4:** Kết luận."
   ]
  },
  {
   "cell_type": "markdown",
   "id": "5c7e69f8",
   "metadata": {},
   "source": [
    "**Bước 1:** Tính trung bình tuổi thọ của 183 quốc gia trong tập dữ liệu theo từng năm. Kết quả được lưu vào `life_exp_mean`"
   ]
  },
  {
   "cell_type": "markdown",
   "id": "15a71659",
   "metadata": {},
   "source": [
    "Tiến hành gom nhóm dữ liệu theo năm (`year`). Sau đó, tính trung bình trên cột `life_expect`. Kết quả thu được lưu vào Series `life_exp_mean`."
   ]
  },
  {
   "cell_type": "code",
   "execution_count": null,
   "id": "fa7f87b6",
   "metadata": {},
   "outputs": [],
   "source": [
    "life_exp_mean = life_exp_pro_df.groupby('year').agg(pd.Series.mean)['life_expect']\n",
    "life_exp_mean"
   ]
  },
  {
   "cell_type": "markdown",
   "id": "b74da9cb",
   "metadata": {},
   "source": [
    "**Bước 2:** Vẽ đồ thị đường thể hiện sự biến động tuổi thọ trung bình của các quốc gia trên thế giới"
   ]
  },
  {
   "cell_type": "code",
   "execution_count": null,
   "id": "b0d617df",
   "metadata": {},
   "outputs": [],
   "source": [
    "fig = plt.figure(figsize = (10, 5))\n",
    " \n",
    "life_exp_mean.plot.line(ylabel='Life Expectancy (years)',xlabel='Year', marker='o')\n",
    " \n",
    "plt.title(\"Mean life expectancy of countries in the world (2000-2016)\", weight='bold', fontsize=14)\n",
    "plt.tight_layout()\n",
    "plt.show()"
   ]
  },
  {
   "cell_type": "markdown",
   "id": "8cb54112",
   "metadata": {},
   "source": [
    "**Nhận xét:** Tuổi thọ trung bình của thế giới tăng qua các năm, cụ thể năm 2016 tăng so với năm 2000 khoảng 5 tuổi (~8.14%). Nguyên nhân có lẽ là do thế giới ngày càng phát triển và hiện đại, sức khỏe được quan tâm hơn trước dẫn đến tuổi thọ tăng."
   ]
  },
  {
   "cell_type": "markdown",
   "id": "7ab54df0",
   "metadata": {},
   "source": [
    "**Bước 3:** Vẽ đồ thị histogram thể hiện phân phối tuổi thọ trung bình của thế giới năm 2000 và 2016"
   ]
  },
  {
   "cell_type": "markdown",
   "id": "f622dd7b",
   "metadata": {},
   "source": [
    "Để phân tích rõ hơn sự biến động tuổi thọ ở năm 2000 và năm 2016, tiến hành vẽ biểu đồ histogram và đường biểu diễn mật độ số lượng quốc gia thể hiện sự phân phối tuổi thọ trung bình. Nhóm sử dụng thư viện Seaborn để hỗ trợ vẽ kết hợp biểu đồ histogram và đường mật độ thay vì thư viện Matplotlib."
   ]
  },
  {
   "cell_type": "code",
   "execution_count": null,
   "id": "d3d84e3d",
   "metadata": {},
   "outputs": [],
   "source": [
    "fig = plt.figure(figsize = (10, 10))\n",
    "\n",
    "sns.histplot(life_exp_pro_df[life_exp_pro_df.year.eq(life_exp_pro_df.year.min())][\"life_expect\"],\n",
    "             color='orange', label=str(life_exp_pro_df.year.min()),\n",
    "             kde=True, stat=\"density\", linewidth=0)\n",
    "sns.histplot(life_exp_pro_df[life_exp_pro_df.year.eq(life_exp_pro_df.year.max())][\"life_expect\"],\n",
    "             color='blue', label=str(life_exp_pro_df.year.max()),\n",
    "             kde=True, stat=\"density\", linewidth=0)\n",
    "plt.legend()\n",
    "plt.xlabel(\"Life Expectancy (years)\")\n",
    "plt.ylabel(\"Density of countries\")\n",
    "plt.title(\"Life Expectancy Distribution\",\n",
    "          fontsize=14, weight='bold')\n",
    "plt.tight_layout()\n",
    "plt.show()"
   ]
  },
  {
   "cell_type": "markdown",
   "id": "703f2d23",
   "metadata": {},
   "source": [
    "**Nhận xét:** Ta thấy sự khác biệt về tuổi thọ giữa các quốc gia có xu hướng giảm xuống và có sự gia tăng tuổi thọ từ năm 2000 đến năm 2016."
   ]
  },
  {
   "cell_type": "markdown",
   "id": "f7639501",
   "metadata": {},
   "source": [
    "**Bước 4:**  Kết luận"
   ]
  },
  {
   "cell_type": "markdown",
   "id": "b727a1ee",
   "metadata": {},
   "source": [
    "Nhìn chung về tổng quan thế giới, xu hướng tuổi thọ trung bình có sự gia **tăng** qua từng năm. "
   ]
  },
  {
   "cell_type": "markdown",
   "id": "5a701f62",
   "metadata": {},
   "source": [
    "##### Về các quốc gia"
   ]
  },
  {
   "cell_type": "markdown",
   "id": "52163bcc",
   "metadata": {},
   "source": [
    "**Tuổi thọ trung bình của các quốc gia như thế nào?**"
   ]
  },
  {
   "cell_type": "markdown",
   "id": "66d71eb7",
   "metadata": {},
   "source": [
    "Các bước thực hiện: \n",
    "* Bước 1: Tính trung bình tuổi thọ của **từng** quốc gia trong tập dữ liệu trong 17 năm từ năm 2000 đến 2016.\n",
    "* Bước 2: Trực quan hóa giá trị đã tính ở bước 1. \n",
    "* Bước 3: Tách dataframe gồm năm, quốc gia, khu vực và tuổi thọ\n",
    "* Bước 4: Tính toán để đưa ra các quốc gia có tuổi thọ cao nhất ở từng năm\n",
    "* Bước 5: Tính toán để đưa ra các quốc gia có tuổi thọ thấp nhất ở từng năm\n",
    "* Bước 6: Viết hàm để trực quan hóa các kết quả đã tính ở bước 4,5\n",
    "* Bước 7: Trực quan hóa các quốc gia có tuổi thọ cao nhất, thấp nhất ở từng năm\n",
    "* Bước 8: Đưa ra nhận xét"
   ]
  },
  {
   "cell_type": "markdown",
   "id": "47c335be",
   "metadata": {},
   "source": [
    "**Bước 1:** Tính trung bình tuổi thọ của **từng** quốc gia trong tập dữ liệu trong 17 năm từ năm 2000 đến 2016."
   ]
  },
  {
   "cell_type": "markdown",
   "id": "12ee1e61",
   "metadata": {},
   "source": [
    "Tiến hành gom nhóm dữ liệu theo quốc gia (`country`). Sau đó, tính trung bình trên cột `life_expect`, cuối cùng sắp xếp kết quả theo thứ tự tăng dần dựa trên `life_expect`. Kết quả thu được lưu vào Series `life_exp_country`."
   ]
  },
  {
   "cell_type": "code",
   "execution_count": null,
   "id": "06f7a994",
   "metadata": {},
   "outputs": [],
   "source": [
    "life_exp_country =  life_exp_pro_df.groupby(['country','region']).agg(pd.Series.mean)['life_expect'].sort_values()\n",
    "life_exp_country_df = life_exp_country.to_frame().reset_index()\n",
    "life_exp_country_df"
   ]
  },
  {
   "cell_type": "markdown",
   "id": "e37eae7a",
   "metadata": {},
   "source": [
    "**Bước 2:** Trực quan hóa giá trị đã tính ở bước 1. \n"
   ]
  },
  {
   "cell_type": "code",
   "execution_count": null,
   "id": "6de9d928",
   "metadata": {},
   "outputs": [],
   "source": [
    "# Make barplot and sort bars by height\n",
    "plt.figure(figsize=(16, 8))\n",
    "sns.barplot(x=life_exp_country_df['country'],\n",
    "            y=life_exp_country_df['life_expect'])\n",
    "\n",
    "# Format axis' ticks\n",
    "plt.xticks(fontsize=6, rotation=90)\n",
    "plt.yticks(fontsize=8)\n",
    "\n",
    "# Format labels and title\n",
    "plt.xlabel('Country', size=12)\n",
    "plt.ylabel(\"Mean Life Expectancy\", size=12)\n",
    "plt.title(\"Life Expectancy By Country\",\n",
    "          size=16, weight='bold')\n",
    "\n",
    "plt.tight_layout()"
   ]
  },
  {
   "cell_type": "markdown",
   "id": "ee2ce188",
   "metadata": {},
   "source": [
    "**Nhận xét:** Nhật Bản là quốc gia có tuổi thọ trung bình cao nhất thế giới (2000 - 2016) với 82.75 năm, trong khi đó Sierra Leone là quốc gia có tuổi thọ trung bình thấp nhất với 46.79 năm. "
   ]
  },
  {
   "cell_type": "markdown",
   "id": "7aa4b5ef",
   "metadata": {},
   "source": [
    "**Bước 3:** Tách dataframe gồm năm, quốc gia, khu vực và tuổi thọ và lưu vào biến `year_country_df`"
   ]
  },
  {
   "cell_type": "code",
   "execution_count": null,
   "id": "117461a0",
   "metadata": {},
   "outputs": [],
   "source": [
    "year_country_df = life_exp_pro_df[['year', 'country', 'region', 'life_expect']]"
   ]
  },
  {
   "cell_type": "markdown",
   "id": "ee513adc",
   "metadata": {},
   "source": [
    "**Bước 4:** Tính toán để đưa ra các quốc gia có tuổi thọ cao nhất ở từng năm."
   ]
  },
  {
   "cell_type": "markdown",
   "id": "0baf7c1c",
   "metadata": {},
   "source": [
    "Đầu tiên tìm index của các quốc gia có tuổi thọ cao nhất theo từng năm, sau đó dựa vào index vừa tìm được để truy xuất ra các quốc gia có tuổi thọ cao nhất và lưu vào biến `countries_max`."
   ]
  },
  {
   "cell_type": "code",
   "execution_count": null,
   "id": "00228858",
   "metadata": {},
   "outputs": [],
   "source": [
    "idx_max =  year_country_df.groupby(['year'])['life_expect'].idxmax()\n",
    "countries_max = year_country_df.loc[idx_max]\n",
    "countries_max"
   ]
  },
  {
   "cell_type": "markdown",
   "id": "9e4dcbd0",
   "metadata": {},
   "source": [
    "**Bước 5:** Tính toán để đưa ra các quốc gia có tuổi thọ thấp nhất ở từng năm."
   ]
  },
  {
   "cell_type": "markdown",
   "id": "119e38a8",
   "metadata": {},
   "source": [
    "Đầu tiên tìm index của các quốc gia có tuổi thọ thấp nhất theo từng năm, sau đó dựa vào index vừa tìm được để truy xuất ra các quốc gia có tuổi thọ thấp nhất và lưu vào biến `countries_min`."
   ]
  },
  {
   "cell_type": "code",
   "execution_count": null,
   "id": "83a493a7",
   "metadata": {},
   "outputs": [],
   "source": [
    "idx_min =  year_country_df.groupby(['year'])['life_expect'].idxmin()\n",
    "countries_min = year_country_df.loc[idx_min]\n",
    "countries_min"
   ]
  },
  {
   "cell_type": "markdown",
   "id": "407565cf",
   "metadata": {},
   "source": [
    "**Bước 6:** Viết hàm để trực quan hóa các kết quả đã tính ở bước 4,5"
   ]
  },
  {
   "cell_type": "code",
   "execution_count": null,
   "id": "7101fe4d",
   "metadata": {},
   "outputs": [],
   "source": [
    "YEARS = tuple(set(life_exp_pro_df['year'].to_numpy()))"
   ]
  },
  {
   "cell_type": "code",
   "execution_count": null,
   "id": "a768fd19",
   "metadata": {},
   "outputs": [],
   "source": [
    "def plot_timeline_countries(title, countries): \n",
    "    levels = np.tile([-5, 5, -3, 3, -1, 1],\n",
    "                         int(np.ceil(len(YEARS)/6)))[:len(YEARS)]\n",
    "    # Create figure\n",
    "    fig, ax = plt.subplots(figsize=(18, 6), constrained_layout=True)\n",
    "    plt.title(title, weight='bold', fontsize=20)\n",
    "\n",
    "    # Plot stem plot; place vertical lines at each year from baseline to vertical levels\n",
    "    markerline, stemline, baseline = ax.stem(YEARS, levels,\\\n",
    "                                             linefmt=\"C0-\", basefmt=\"C9-\",\\\n",
    "                                             use_line_collection=True)\n",
    "\n",
    "    # Format markers\n",
    "    plt.setp(markerline, mec='orange', mfc='orange', zorder=3)\n",
    "\n",
    "    # Shift markers to the baseline by replacing y-data with zeros\n",
    "    markerline.set_ydata(np.zeros(len(YEARS)))\n",
    "\n",
    "    # Annotate stem lines\n",
    "    vert = np.array(['top', 'bottom'])[(levels > 0).astype(int)]\n",
    "    for yr, l, c, v in zip(YEARS, levels, countries, vert):\n",
    "        ax.annotate(c, xy=(yr, l), xytext=(-3, np.sign(l)*3),\n",
    "                    textcoords=\"offset points\", va=v, ha=\"right\", fontsize=12)\n",
    "\n",
    "    # Format year tick labels \n",
    "    plt.setp(ax.get_xticklabels(), rotation=30, ha=\"right\")\n",
    "\n",
    "    # Remove y-axis and lines denoting data area boundaries (spines)\n",
    "    ax.get_yaxis().set_visible(False)\n",
    "    for spine in [\"left\", \"top\", \"right\"]:\n",
    "        ax.spines[spine].set_visible(False)\n",
    "\n",
    "    # Set padding between stemlines and x-axis\n",
    "    ax.margins(y=0.1)"
   ]
  },
  {
   "cell_type": "markdown",
   "id": "24e62898",
   "metadata": {},
   "source": [
    "**Bước 7:** Trực quan hóa các quốc gia có tuổi thọ cao nhất, thấp nhất ở từng năm"
   ]
  },
  {
   "cell_type": "code",
   "execution_count": null,
   "id": "8184bd94",
   "metadata": {},
   "outputs": [],
   "source": [
    "plot_timeline_countries(\"Countries with longest life expectancy over the years\",\\\n",
    "                        countries_max['country'].to_numpy())\n",
    "plot_timeline_countries(\"Countries with shortest life expectancy over the years\",\\\n",
    "                        countries_min['country'].to_numpy())"
   ]
  },
  {
   "cell_type": "markdown",
   "id": "ad5b99d6",
   "metadata": {},
   "source": [
    "**Bước 8:** Đưa ra nhận xét"
   ]
  },
  {
   "cell_type": "markdown",
   "id": "5843efd0",
   "metadata": {},
   "source": [
    "* Nhật Bản là quốc gia liên tiếp có tuổi thọ cao nhất thế giới trong 17 năm khảo sát. Nguyên nhân theo nhóm tìm hiểu là do người Nhật chăm chỉ thể thao, ăn uống điều độ, nguồn gốc thực phẩm được kiểm định nghiêm ngặt,... do đó người Nhật Bản có được sức khỏe tốt, kéo dài tuổi thọ. \n",
    "* Sierra Leone, Central African Republic và Lesotho là 3 nước xuất hiện trong danh sách có tuổi thọ thấp nhất thế giới trong 17 năm khảo sát, trong đó Sierra Leone xuất hiện nhiều nhất (13 năm), Central African Republic (3 năm) và Lesotho (1 năm). Các nước này nằm cho khu vực châu Phi, có lẽ do các cuộc nội chiến, dịch vụ y tế còn yếu kém, vệ sinh an toàn thực phẩm không cao,... nên ảnh hưởng đến tuổi thọ ở các quốc gia này."
   ]
  },
  {
   "cell_type": "markdown",
   "id": "06b2f17e",
   "metadata": {},
   "source": [
    "**Top 10 quốc gia có tuổi thọ trung bình cao nhất, thấp nhất?**"
   ]
  },
  {
   "cell_type": "markdown",
   "id": "17e7a4be",
   "metadata": {},
   "source": [
    "Các bước thực hiện: \n",
    "* **Bước 1:** Lấy ra 10 quốc gia có tuổi thọ trung bình cao nhất, 10 quốc gia có tuổi thọ trung bình thấp nhất.\n",
    "* **Bước 2:** Vẽ biểu đồ tròn thể hiện sự phân bổ 10 quốc gia có tuổi thọ trung bình cao nhất / thấp nhất theo khu vực.\n",
    "* **Bước 3:** Nhận xét"
   ]
  },
  {
   "cell_type": "markdown",
   "id": "b1e6f2f5",
   "metadata": {},
   "source": [
    "**Bước 1:** Lấy ra 10 quốc gia có tuổi thọ trung bình cao nhất, 10 quốc gia có tuổi thọ trung bình thấp nhất."
   ]
  },
  {
   "cell_type": "markdown",
   "id": "2cd1e946",
   "metadata": {},
   "source": [
    "Với 10 quốc gia có tuổi thọ trung bình cao nhất, kết quả trả về được sắp xếp theo thứ tự giảm dần dựa trên `life_expect` và lưu vào `top_10_longest_life`. Tương tự, với 10 quốc gia có tuổi thọ trung bình thấp nhất, kết quả trả về được sắp xếp theo thứ tự tăng dần dựa trên `life_expect` và lưu vào `top_10_shortest_life`"
   ]
  },
  {
   "cell_type": "code",
   "execution_count": null,
   "id": "64c394df",
   "metadata": {},
   "outputs": [],
   "source": [
    "top_10_longest_life = life_exp_country_df.tail(10).sort_values(by='life_expect', ascending=False)\n",
    "top_10_longest_life"
   ]
  },
  {
   "cell_type": "code",
   "execution_count": null,
   "id": "d455e290",
   "metadata": {},
   "outputs": [],
   "source": [
    "top_10_shortest_life = life_exp_country_df.head(10)\n",
    "top_10_shortest_life"
   ]
  },
  {
   "cell_type": "markdown",
   "id": "2bdb0c53",
   "metadata": {},
   "source": [
    "**Bước 2:** Vẽ biểu đồ tròn thể hiện sự phân bổ 10 quốc gia có tuổi thọ trung bình cao nhất / thấp nhất theo khu vực."
   ]
  },
  {
   "cell_type": "markdown",
   "id": "5943e44f",
   "metadata": {},
   "source": [
    "Đầu tiên, tính số lượng quốc gia trong các khu vực xuất hiện. Sau đó vẽ biểu đồ tròn thể hiện."
   ]
  },
  {
   "cell_type": "code",
   "execution_count": null,
   "id": "27f7faa3",
   "metadata": {},
   "outputs": [],
   "source": [
    "num_countries_region_longest = top_10_longest_life.groupby(['region']).size()\n",
    "fig = plt.figure()\n",
    "ax = fig.add_axes([0,0,1,1])\n",
    "ax.pie(num_countries_region_longest.values, labels = num_countries_region_longest.index,autopct='%1.2f%%')\n",
    "ax.axis('equal')\n",
    "ax.set_title('Percentage of the top 10 countries with longest life expect by region')\n",
    "plt.show()"
   ]
  },
  {
   "cell_type": "code",
   "execution_count": null,
   "id": "3e90a16f",
   "metadata": {},
   "outputs": [],
   "source": [
    "num_countries_region_shortest = top_10_shortest_life.groupby(['region']).size()\n",
    "fig = plt.figure()\n",
    "ax = fig.add_axes([0,0,1,1])\n",
    "ax.pie(num_countries_region_shortest.values, labels = num_countries_region_shortest.index,autopct='%1.2f%%')\n",
    "ax.axis('equal')\n",
    "ax.set_title('Percentage of the top 10 countries with shortest life expect by region')\n",
    "plt.show()"
   ]
  },
  {
   "cell_type": "markdown",
   "id": "ac420316",
   "metadata": {},
   "source": [
    "**Bước 3:** Nhận xét\n",
    "* Các quốc gia có tuổi thọ trung bình cao nhất tập trung ở khu vực châu Âu, kế đó là khu vực Tây Thái Bình Dương và khu vực châu Mỹ. \n",
    "* Các quốc gia có tuổi thọ trung bình thấp nhất tập trung chủ yếu ở khu vực châu Phi."
   ]
  },
  {
   "cell_type": "markdown",
   "id": "98ddfc2c",
   "metadata": {},
   "source": [
    "**Độ chênh lệch tuổi thọ năm 2016 và năm 2000 của các quốc gia như thế nào?**"
   ]
  },
  {
   "cell_type": "markdown",
   "id": "1b58fb9c",
   "metadata": {},
   "source": [
    "Các bước thực hiện:\n",
    "* **Bước 1:** Lọc ra danh sách các quốc gia (không trùng lắp) và lưu vào dataframe `change_life_exp_df`.\n",
    "* **Bước 2:** Thêm vào dataframe `change_life_exp_df` cột `change` thể hiện sự thay đổi tuổi thọ giữa năm 2016 và 2000.\n",
    "* **Bước 3:** Vẽ biểu đồ thể hiện và nhận xét."
   ]
  },
  {
   "cell_type": "markdown",
   "id": "c448d51f",
   "metadata": {},
   "source": [
    "**Bước 1:** Lọc ra danh sách các quốc gia (không trùng lắp) và lưu vào dataframe change_life_exp_df."
   ]
  },
  {
   "cell_type": "code",
   "execution_count": null,
   "id": "6c154284",
   "metadata": {},
   "outputs": [],
   "source": [
    "change_life_exp_df = pd.DataFrame(year_country_df['country'].unique(), columns = ['country'])\n",
    "change_life_exp_df"
   ]
  },
  {
   "cell_type": "markdown",
   "id": "7a3851aa",
   "metadata": {},
   "source": [
    "**Bước 2:** Thêm vào dataframe `change_life_exp_df` cột `change` thể hiện sự thay đổi tuổi thọ giữa năm 2016 và 2000."
   ]
  },
  {
   "cell_type": "code",
   "execution_count": null,
   "id": "f142d217",
   "metadata": {},
   "outputs": [],
   "source": [
    "change_life_exp = year_country_df[year_country_df['year'] == 2016]['life_expect'].values - \\\n",
    "year_country_df[year_country_df['year'] == 2000]['life_expect'].values\n",
    "change_life_exp_df['change'] = change_life_exp\n",
    "change_life_exp_df = change_life_exp_df.sort_values(by='change')\n",
    "change_life_exp_df"
   ]
  },
  {
   "cell_type": "markdown",
   "id": "4d442f9f",
   "metadata": {},
   "source": [
    "**Bước 3:** Vẽ biểu đồ thể hiện và nhận xét."
   ]
  },
  {
   "cell_type": "code",
   "execution_count": null,
   "id": "8f3453ce",
   "metadata": {},
   "outputs": [],
   "source": [
    "# Make barplot and sort bars by height\n",
    "plt.figure(figsize=(16, 8))\n",
    "sns.barplot(x='country',\n",
    "            y='change',\n",
    "            data=change_life_exp_df)\n",
    "\n",
    "# Format axis' ticks\n",
    "plt.xticks(fontsize=6, rotation=90)\n",
    "plt.yticks(fontsize=8)\n",
    "\n",
    "# Format labels and title\n",
    "plt.xlabel('Country', size=12)\n",
    "plt.ylabel(\"Change Life Expectancy\", size=12)\n",
    "plt.title(\"Change in Life Expectancy Between 2000 and 2016 By Country\",\n",
    "          size=16, weight='bold')\n",
    "\n",
    "plt.tight_layout()"
   ]
  },
  {
   "cell_type": "markdown",
   "id": "6be3e41a",
   "metadata": {},
   "source": [
    "**Nhận xét:** Nhìn chung các quốc gia có sự gia tăng tuổi thọ năm 2016 so với năm 2000, riêng quốc gia Syrian Arab Republic có sự chênh lệch mang giá trị âm, nghĩa là tuổi thọ năm 2016 giảm so với năm 2000, nguyên nhân là do nước này xảy ra cuộc nội chiến vào năm 2011 như đã trình bày ở phần khám phá dữ liệu."
   ]
  },
  {
   "cell_type": "markdown",
   "id": "362e2b90",
   "metadata": {},
   "source": [
    "**Giải thích sự biến động về mặt tuổi thọ trung bình của các quốc gia trên thế giới**"
   ]
  },
  {
   "cell_type": "markdown",
   "id": "532eca17",
   "metadata": {},
   "source": [
    "##### Về phía từng khu vực"
   ]
  },
  {
   "cell_type": "markdown",
   "id": "e8b66daf",
   "metadata": {},
   "source": [
    "**Tuổi thọ trung bình của các khu vực như thế nào? Đâu là khu vực có tuổi thọ trung bình cao nhất, thấp nhất?**"
   ]
  },
  {
   "cell_type": "markdown",
   "id": "ba8374f2",
   "metadata": {},
   "source": [
    "Các bước thực hiện:\n",
    "* **Bước 1:** Gom nhóm theo năm và khu vực và tính trung bình dựa trên `life_expect`.\n",
    "* **Bước 2:** Vẽ biểu độ đường thể hiện sự biến động tuổi thọ trung bình theo khu vực.\n",
    "* **Bước 3:** Tính tuổi thọ trung bình của các khu vực trên thế giới."
   ]
  },
  {
   "cell_type": "markdown",
   "id": "080615f9",
   "metadata": {},
   "source": [
    "**Bước 1:** Gom nhóm theo năm và khu vực và tính trung bình dựa trên `life_expect`."
   ]
  },
  {
   "cell_type": "code",
   "execution_count": null,
   "id": "2d1a673a",
   "metadata": {},
   "outputs": [],
   "source": [
    "life_exp_region = life_exp_pro_df.groupby(['year', 'region']).agg(pd.Series.mean)['life_expect'].unstack(1)\n",
    "life_exp_region"
   ]
  },
  {
   "cell_type": "markdown",
   "id": "d458f071",
   "metadata": {},
   "source": [
    "**Bước 2:** Vẽ biểu độ đường thể hiện sự biến động tuổi thọ trung bình theo khu vực."
   ]
  },
  {
   "cell_type": "code",
   "execution_count": null,
   "id": "07004034",
   "metadata": {},
   "outputs": [],
   "source": [
    "life_exp_region.plot.line(ylabel='Mean Life Expectancy (years)', xlabel='Year',\\\n",
    "                          marker='o', legend=True, figsize=(10,6))\n",
    "plt.title(\"Mean life expectancy of regions in the world (2000-2016)\", weight='bold', fontsize=14)\n",
    "plt.tight_layout()\n",
    "plt.show()"
   ]
  },
  {
   "cell_type": "markdown",
   "id": "e03e2f2f",
   "metadata": {},
   "source": [
    "**Bước 3:** Tính tuổi thọ trung bình của các khu vực trên thế giới."
   ]
  },
  {
   "cell_type": "code",
   "execution_count": null,
   "id": "4e38c3df",
   "metadata": {},
   "outputs": [],
   "source": [
    "life_exp_mean_region = life_exp_pro_df.groupby(['region']).agg(pd.Series.mean)['life_expect'].sort_values()\n",
    "life_exp_mean_region"
   ]
  },
  {
   "cell_type": "markdown",
   "id": "ab0e61ed",
   "metadata": {},
   "source": [
    "**Nhận xét về sự phân bố tuổi thọ trung bình của các khu vực trên thế giới**"
   ]
  },
  {
   "cell_type": "markdown",
   "id": "d8502cae",
   "metadata": {},
   "source": [
    "* Các khu vực có tuổi thọ trung bình không đồng đều. \n",
    "* Mỗi khu vực có sự biến động khác nhau (có năm tăng, có năm giảm) nhưng nhìn chung xu hướng tuổi thọ ở các khu vực tăng. \n",
    "* Khu vực châu Âu có tuổi thọ trung bình cao nhất (75.8 năm).\n",
    "* Khu vực châu Phi có tuổi thọ trung bình thấp nhất (57.7 năm).\n",
    "* Nguyên nhân dẫn đến sự không đồng đều này có thể là do mỗi khu vực có sự khác nhau về kinh tế, xã hội, y tế. Những yếu tố này sẽ được khảo sát kỹ ở Câu hỏi 2."
   ]
  },
  {
   "cell_type": "markdown",
   "id": "73117bb5",
   "metadata": {},
   "source": [
    "##### Về tuổi thọ của Việt Nam"
   ]
  },
  {
   "cell_type": "markdown",
   "id": "4a943a47",
   "metadata": {},
   "source": [
    "**Việt Nam đang ở vị trí nào về mặt tuổi thọ trên thế giới và trong khu vực?**"
   ]
  },
  {
   "cell_type": "markdown",
   "id": "4916c315",
   "metadata": {},
   "source": [
    "Các bước thực hiện: \n",
    "* **Bước 1:** Lấy ra dòng có giá trị `country` là `Viet Nam` từ dataframe `life_exp_country_df`\n",
    "* **Bước 2:** Lấy ra các quốc gia thuộc khu vực Western Pacific\n",
    "* **Bước 3:** Lấy ra dòng có giá trị `country` là `Viet Nam` từ dataframe đã tính ở bước 2."
   ]
  },
  {
   "cell_type": "markdown",
   "id": "20415601",
   "metadata": {},
   "source": [
    "**Bước 1:** Lấy ra dòng có giá trị country là Viet Nam từ dataframe life_exp_country_df"
   ]
  },
  {
   "cell_type": "code",
   "execution_count": null,
   "id": "faefd7cf",
   "metadata": {},
   "outputs": [],
   "source": [
    "life_exp_country_df[life_exp_country_df['country'] == 'Viet Nam']"
   ]
  },
  {
   "cell_type": "markdown",
   "id": "3997ae7d",
   "metadata": {},
   "source": [
    "**Nhận xét:** Việt Nam đứng ở vị trí 182 - 135 + 1 = 48 (vì số đếm tính từ 0) trong tổng số 183 quốc gia về tuổi thọ trung bình (tính từ cao xuống thấp)."
   ]
  },
  {
   "cell_type": "markdown",
   "id": "944e2a57",
   "metadata": {},
   "source": [
    "**Bước 2:** Lấy ra các quốc gia thuộc khu vực Western Pacific"
   ]
  },
  {
   "cell_type": "code",
   "execution_count": null,
   "id": "ffbdc1ba",
   "metadata": {},
   "outputs": [],
   "source": [
    "life_exp_WP_df = life_exp_country_df[life_exp_country_df['region'] == 'Western Pacific']. \\\n",
    "                sort_values(by='life_expect', ascending=False).reset_index().drop(columns = ['index'])\n",
    "print('So luong quoc gia trong khu vuc Tay Thai Binh Duong la: ', len(life_exp_WP_df))\n",
    "life_exp_WP_df.head()"
   ]
  },
  {
   "cell_type": "markdown",
   "id": "1e825027",
   "metadata": {},
   "source": [
    "**Bước 3:** Lấy ra dòng có giá trị `country` là `Viet Nam` từ dataframe đã tính ở bước 2."
   ]
  },
  {
   "cell_type": "code",
   "execution_count": null,
   "id": "3fccd8d9",
   "metadata": {},
   "outputs": [],
   "source": [
    "life_exp_WP_df[life_exp_WP_df['country'] == 'Viet Nam']"
   ]
  },
  {
   "cell_type": "markdown",
   "id": "9ace2fa7",
   "metadata": {},
   "source": [
    "**Nhận xét:** Việt Nam đứng ở vị trí 7 (vì số đếm tính từ 0 và dataframe đã được sort giảm dần) trong tổng số 21 quốc gia thuộc khu vực Tây Thái Bình Dương về tuổi thọ trung bình (tính từ cao xuống thấp) với tuổi thọ trung bình là 79.85 tuổi."
   ]
  },
  {
   "cell_type": "markdown",
   "id": "45fc40b9",
   "metadata": {},
   "source": [
    "**Tốc độ biến động tuổi thọ ở Việt Nam qua các năm có xu hướng như thế nào?**"
   ]
  },
  {
   "cell_type": "markdown",
   "id": "c10eb87c",
   "metadata": {},
   "source": [
    "Các bước thực hiện:\n",
    "* **Bước 1:** Lấy ra dòng có giá trị `country` là `Viet Nam` từ dataframe `life_exp_pro_df`\n",
    "* **Bước 2:** Vẽ biểu đồ đường thể hiện tuổi thọ của Việt Nam qua từng năm từ 2000 đến 2016"
   ]
  },
  {
   "cell_type": "markdown",
   "id": "929a9100",
   "metadata": {},
   "source": [
    "**Bước 1:** Lấy ra dòng có giá trị `country` là `Viet Nam` từ dataframe `life_exp_pro_df`"
   ]
  },
  {
   "cell_type": "code",
   "execution_count": null,
   "id": "d44ec46e",
   "metadata": {},
   "outputs": [],
   "source": [
    "life_exp_VN = life_exp_pro_df[life_exp_pro_df['country'] == 'Viet Nam']\n",
    "life_exp_VN.head()"
   ]
  },
  {
   "cell_type": "markdown",
   "id": "b66f43cf",
   "metadata": {},
   "source": [
    "**Bước 2:** Vẽ biểu đồ đường thể hiện tuổi thọ của Việt Nam qua từng năm từ 2000 đến 2016."
   ]
  },
  {
   "cell_type": "code",
   "execution_count": null,
   "id": "428abd7d",
   "metadata": {},
   "outputs": [],
   "source": [
    "life_exp_VN.plot.line(x='year', y='life_expect', ylabel='Life Expectancy (years)', xlabel='Year',\\\n",
    "                          marker='o', legend=True, figsize=(10,6))\n",
    "plt.title(\"Life expectancy of Vietnam (2000-2016)\", weight='bold', fontsize=14)\n",
    "plt.tight_layout()\n",
    "plt.show()"
   ]
  },
  {
   "cell_type": "markdown",
   "id": "5df8f666",
   "metadata": {},
   "source": [
    "**Nhận xét:** Việt Nam có tuổi thọ tăng qua các năm, cụ thể là 73.34 tuổi ở năm 2000 đến 76.34 tuổi ở năm 2016. Điều này có thể được giải thích là do Việt Nam là nước đang phát triển, điều kiện về kinh tế, xã hội, giáo dục, y tế,... được đầu tư phát triển qua từng năm. Nhưng điều này cũng đồng nghĩa với việc dân số Việt Nam đang bị già hoá, do đó chính phủ cần có các biện pháp để thích ứng với việc già hóa dân số này."
   ]
  },
  {
   "cell_type": "markdown",
   "id": "3796b446",
   "metadata": {},
   "source": [
    "---"
   ]
  },
  {
   "cell_type": "markdown",
   "id": "e142f319",
   "metadata": {},
   "source": [
    "## Nhìn lại quá trình làm đồ án"
   ]
  },
  {
   "cell_type": "markdown",
   "id": "766ec132",
   "metadata": {},
   "source": [
    "---"
   ]
  },
  {
   "cell_type": "markdown",
   "id": "8700d26f",
   "metadata": {},
   "source": [
    "## Tài liệu tham khảo"
   ]
  },
  {
   "cell_type": "markdown",
   "id": "1eb331d0",
   "metadata": {},
   "source": [
    "---"
   ]
  }
 ],
 "metadata": {
  "kernelspec": {
   "display_name": "Python 3 (ipykernel)",
   "language": "python",
   "name": "python3"
  },
  "language_info": {
   "codemirror_mode": {
    "name": "ipython",
    "version": 3
   },
   "file_extension": ".py",
   "mimetype": "text/x-python",
   "name": "python",
   "nbconvert_exporter": "python",
   "pygments_lexer": "ipython3",
   "version": "3.8.8"
  },
  "toc": {
   "base_numbering": 1,
   "nav_menu": {},
   "number_sections": true,
   "sideBar": true,
   "skip_h1_title": true,
   "title_cell": "Nội Dung",
   "title_sidebar": "Nội Dung",
   "toc_cell": true,
   "toc_position": {},
   "toc_section_display": true,
   "toc_window_display": true
  }
 },
 "nbformat": 4,
 "nbformat_minor": 5
}
