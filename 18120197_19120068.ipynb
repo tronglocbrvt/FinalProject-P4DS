{
 "cells": [
  {
   "cell_type": "markdown",
   "id": "ead738f4",
   "metadata": {
    "id": "Z2iropOgYbAs"
   },
   "source": [
    "# ĐỒ ÁN CUỐI KỲ MÔN LẬP TRÌNH CHO KHOA HỌC DỮ LIỆU\n",
    "\n",
    "*Giảng viên: Thầy Trần Trung Kiên*"
   ]
  },
  {
   "cell_type": "markdown",
   "id": "052c6802",
   "metadata": {},
   "source": [
    "---"
   ]
  },
  {
   "cell_type": "markdown",
   "id": "964c339a",
   "metadata": {},
   "source": [
    "**Nhóm sinh viên thực hiện:**\n",
    "\n",
    "Sinh viên 01: Trương Trọng Lộc - 18120197\n",
    "\n",
    "Sinh viên 02: Dương Nam Hải - 19120068"
   ]
  },
  {
   "cell_type": "markdown",
   "id": "d49e217e",
   "metadata": {},
   "source": [
    "---"
   ]
  },
  {
   "cell_type": "markdown",
   "id": "38363e05",
   "metadata": {
    "id": "qgrbCkoXYbAv"
   },
   "source": [
    "## Import các thư viện cần thiết"
   ]
  },
  {
   "cell_type": "code",
   "execution_count": 1,
   "id": "495c657c",
   "metadata": {
    "id": "J0fci4x1YbAv"
   },
   "outputs": [],
   "source": [
    "import pandas as pd\n",
    "import matplotlib.pyplot as plt\n",
    "import numpy as np"
   ]
  },
  {
   "cell_type": "markdown",
   "id": "5d68a2ed",
   "metadata": {
    "id": "cDgG0uJyYbAv"
   },
   "source": [
    "---"
   ]
  },
  {
   "cell_type": "markdown",
   "id": "1fd02c2b",
   "metadata": {
    "id": "qNGbzZGCYbAv"
   },
   "source": [
    "## Thu thập dữ liệu"
   ]
  },
  {
   "cell_type": "markdown",
   "id": "7c20df6c",
   "metadata": {},
   "source": [
    "- Tập dữ liệu sử dụng trong bài được lấy từ nguồn link (https://www.kaggle.com/mmattson/who-national-life-expectancy, phân tích về các yếu tố liên quan cố thể gây ảnh hưởng đến mức tuổi thọ trung bình của 1 quốc gia, một châu lục trong 1 năm nhất định nào đó.\n",
    "- Tập dữ liệu được đăng tải bởi người dùng MMattson, với license từ Creative Common Public Domain - CC0, có thể tùy ý sử dụng mà không cần được cấp phép.\n",
    "- Tập dữ liệu được thu thập từ 2 nguồn là GHO - Global Health Observatory và UNESCO, khảo sát 183 quốc gia trên khắp các khu vực và trong suốt giai đoạn từ năm 2000 đến 2016.\n",
    "- Tác giả đã thực hiện thu thập thủ công cho phần dữ liệu về UNESCO từ trang web UNESCO Databases of Resources on Education.\n",
    "- Tác giả đã dùng thư viện request thông qua GHO Data API portal để thu thập dữ liệu từ GHO.\n",
    "- Cụ thể về các bước thu thập dữ liệu: https://www.kaggle.com/mmattson/template-to-generate-the-dataset"
   ]
  },
  {
   "cell_type": "markdown",
   "id": "9054506a",
   "metadata": {},
   "source": [
    "---"
   ]
  },
  {
   "cell_type": "markdown",
   "id": "56471f2c",
   "metadata": {
    "id": "4XnnpjXqYbAv"
   },
   "source": [
    "## Khám phá dữ liệu"
   ]
  },
  {
   "cell_type": "markdown",
   "id": "6e672512",
   "metadata": {
    "id": "CTrxx-_BYbAv"
   },
   "source": [
    "### Đọc dữ liệu từ file csv vào dataframe"
   ]
  },
  {
   "cell_type": "code",
   "execution_count": 2,
   "id": "1dee8df2",
   "metadata": {},
   "outputs": [],
   "source": [
    "data = pd.read_csv(\"Data/who_life_exp.csv\")\n"
   ]
  },
  {
   "cell_type": "markdown",
   "id": "49970730",
   "metadata": {
    "id": "B0vNv-s-YbAv"
   },
   "source": [
    "### Dữ liệu gồm có bao nhiêu dòng và bao nhiêu cột?"
   ]
  },
  {
   "cell_type": "code",
   "execution_count": 3,
   "id": "6c275f13",
   "metadata": {},
   "outputs": [
    {
     "data": {
      "text/plain": [
       "(3111, 32)"
      ]
     },
     "execution_count": 3,
     "metadata": {},
     "output_type": "execute_result"
    }
   ],
   "source": [
    "num_rows, num_cols = data.shape\n",
    "num_rows, num_cols"
   ]
  },
  {
   "cell_type": "markdown",
   "id": "5bcf9fe6",
   "metadata": {},
   "source": [
    "=> Vậy dữ liệu có 3111 dòng và 32 cột."
   ]
  },
  {
   "cell_type": "markdown",
   "id": "ad479882",
   "metadata": {
    "id": "o0VBB5H5YbAw"
   },
   "source": [
    "### Mỗi dòng có ý nghĩa gì? Có vấn đề các dòng có ý nghĩa khác nhau không?"
   ]
  },
  {
   "cell_type": "markdown",
   "id": "ecd39dab",
   "metadata": {},
   "source": [
    "Mỗi dòng trong dữ liệu là thông tin dự đoán tuổi thọ trung bình qua từng năm của một quốc gia dựa vào các cột dữ liệu thể hiện nhiều yếu tố khác nhau."
   ]
  },
  {
   "cell_type": "markdown",
   "id": "15687dcf",
   "metadata": {
    "id": "ex8ptMwLYbAw"
   },
   "source": [
    "### Dữ liệu có các dòng bị lặp không?"
   ]
  },
  {
   "cell_type": "code",
   "execution_count": 4,
   "id": "9220ff34",
   "metadata": {},
   "outputs": [
    {
     "name": "stdout",
     "output_type": "stream",
     "text": [
      "Không có dữ liệu trùng lặp\n"
     ]
    }
   ],
   "source": [
    "if data.duplicated().sum() != 0:\n",
    "    print(\"Có dòng dữ liệu bị lặp\")\n",
    "else:\n",
    "    print(\"Không có dữ liệu trùng lặp\")\n"
   ]
  },
  {
   "cell_type": "markdown",
   "id": "e8eb2863",
   "metadata": {
    "id": "ssTC4vfKYbAx"
   },
   "source": [
    "### Mỗi cột có ý nghĩa gì?"
   ]
  },
  {
   "cell_type": "markdown",
   "id": "81d83d59",
   "metadata": {},
   "source": [
    "|Tên cột dữ liệu | Mô tả |\n",
    "|:------:| ---|\n",
    "|Country| Tên quốc gia khảo sát|\n",
    "|country_code| Mã rút gọn của quốc gia, gồm 3 chữ cái|\n",
    "|region| Lục địa của đất nước thuộc vào|\n",
    "|year| Năm khảo sát|\n",
    "|life_expect| Số năm tuổi dự đoán khi vừa sinh|\n",
    "|life_exp60| Số năm tuổi còn lại dự đoán khi đạt 60 tuổi|\n",
    "|adult_mortality|Tỷ lệ tử vong ở người trưởng thành (xác suất tử vong từ 15 đến 60 tuổi trên 1000 dân số)|\n",
    "|infant_mort|Tỷ lệ tử vong dưới 1 tuổi|\n",
    "|age1-4mort|Tỷ lệ tử vong từ 1 đến 4 tuổi|\n",
    "|alcohol|Mức tiêu thụ rượu bình quân đầu người (15+)|\n",
    "|bmi|BMI trung bình (ước tính chuẩn hóa theo độ tuổi)|\n",
    "|age5-19thinness|Tỷ lệ gầy trẻ em và thanh thiếu niên gầy|\n",
    "|age5-19obesity\t|Tỷ lệ trẻ em và thanh thiếu niên béo phì|\n",
    "|hepatitis|Tỷ lệ tiêm chủng viêm gan B (HepB) ở trẻ 1 tuổi (%)|\n",
    "|measles|Tỷ lệ tiêm chủng liều đầu tiên (MCV1) có chứa vắc xin sởi cho trẻ 1 tuổi (%)|\n",
    "|polio| Tỷ lệ tiêm chủng bại liệt (Pol3) ở trẻ 1 tuổi (%)|\n",
    "|diphtheria|Tỷ lệ tiêm chủng bạch hầu, uốn ván và ho gà (DTP3) cho trẻ 1 tuổi (%)|\n",
    "|basic_water|Tỷ lệ dân số được tiếp cận dịch vụ nước sạch tối thiểu|\n",
    "|doctors|Bác sĩ y khoa (trên 10.000)|\n",
    "|hospitals|Số lượng bệnh viện/100.000 dân|\n",
    "|gni_capita|Thu nhập quốc dân trên đầu người (tổng thu thập mà người dân và doanh nghiệp của quốc gia kiếm được)|\n",
    "|gghe-d\t|Chi tiêu từ ngân sách chính phủ cho lĩnh vực y tế tính theo tỷ lệ phần trăm của tổng sản phẩm quốc nội (GDP) (%)|\n",
    "|che_gdp|Chi phí người dân bỏ ra cho dịch vụ y tế (CHE) tính theo phần trăm tổng sản phẩm quốc nội (GDP) (%)|\n",
    "|une_pop|Dân số (hàng nghìn)|\n",
    "|une_infant|Tỷ lệ tử vong, trẻ sơ sinh (trên 1.000 trẻ sống)|\n",
    "|une_life|Tuổi thọ trung bình|\n",
    "|une_hiv|Tỷ lệ nhiễm HIV, tổng số (\\% dân số từ 15-49 tuổi)|\n",
    "|une_gni|Thu nhập quốc dân trên đầu người|\n",
    "|une_poverty|Tỷ lệ số người nghèo có mức sống 1,90 đô la một ngày (PPP) (\\% dân số)|\n",
    "|une_edu_spend|Chi tiêu của chính phủ cho giáo dục tính theo phần trăm GDP (\\%)|\n",
    "|une_literacy|Tỷ lệ người lớn biết chữ, dân số trên 15 tuổi, cả hai giới (\\%)|\n",
    "|une_school|Số năm đi học trung bình (ISCED 1 trở lên), dân số từ 25 tuổi trở lên, cả hai giới|\n",
    "\n",
    "**Các thuộc tính có tên `une_`** được thống kê bởi tổ chức UNESCO.\n",
    "\n",
    "**Các thuộc tính còn lại** được thống kê bởi GHO (Global Health Observatory).\n"
   ]
  },
  {
   "cell_type": "markdown",
   "id": "52b01abf",
   "metadata": {
    "id": "6oNfnkmyYbAx"
   },
   "source": [
    "### Mỗi cột hiện đang có kiểu dữ liệu gì? Có cột nào có kiểu dữ liệu chưa phù hợp để có thể xử lý tiếp không?"
   ]
  },
  {
   "cell_type": "code",
   "execution_count": 5,
   "id": "2e82a5f5",
   "metadata": {},
   "outputs": [
    {
     "data": {
      "text/plain": [
       "country             object\n",
       "country_code        object\n",
       "region              object\n",
       "year                 int64\n",
       "life_expect        float64\n",
       "life_exp60         float64\n",
       "adult_mortality    float64\n",
       "infant_mort        float64\n",
       "age1-4mort         float64\n",
       "alcohol            float64\n",
       "bmi                float64\n",
       "age5-19thinness    float64\n",
       "age5-19obesity     float64\n",
       "hepatitis          float64\n",
       "measles            float64\n",
       "polio              float64\n",
       "diphtheria         float64\n",
       "basic_water        float64\n",
       "doctors            float64\n",
       "hospitals          float64\n",
       "gni_capita         float64\n",
       "gghe-d             float64\n",
       "che_gdp            float64\n",
       "une_pop            float64\n",
       "une_infant         float64\n",
       "une_life           float64\n",
       "une_hiv            float64\n",
       "une_gni            float64\n",
       "une_poverty        float64\n",
       "une_edu_spend      float64\n",
       "une_literacy       float64\n",
       "une_school         float64\n",
       "dtype: object"
      ]
     },
     "execution_count": 5,
     "metadata": {},
     "output_type": "execute_result"
    }
   ],
   "source": [
    "data.dtypes"
   ]
  },
  {
   "cell_type": "markdown",
   "id": "d72b27dd",
   "metadata": {},
   "source": [
    "Ta sẽ tiến hành xem dữ liệu thật sự của những cột là object xem chúng có kiểu dữ liệu gì"
   ]
  },
  {
   "cell_type": "code",
   "execution_count": 6,
   "id": "baccbc88",
   "metadata": {},
   "outputs": [],
   "source": [
    "def open_object_dtype(s):\n",
    "    dtypes = set(s.apply(lambda x: type(x)).unique().tolist())\n",
    "    return dtypes"
   ]
  },
  {
   "cell_type": "code",
   "execution_count": 7,
   "id": "bcd4d401",
   "metadata": {},
   "outputs": [
    {
     "data": {
      "text/plain": [
       "country         {<class 'str'>}\n",
       "country_code    {<class 'str'>}\n",
       "region          {<class 'str'>}\n",
       "dtype: object"
      ]
     },
     "execution_count": 7,
     "metadata": {},
     "output_type": "execute_result"
    }
   ],
   "source": [
    "object_cols = data.select_dtypes(include = 'object').columns\n",
    "datatype = object_cols.map(lambda x: open_object_dtype(data[x]))\n",
    "pd.Series(datatype, index = object_cols)"
   ]
  },
  {
   "cell_type": "markdown",
   "id": "097ad34a",
   "metadata": {},
   "source": [
    "Có lẽ như các cột dữ liệu không có cột nào có kiểu dữ liệu chưa hợp lý cần phải chuyển đổi"
   ]
  },
  {
   "cell_type": "markdown",
   "id": "81986a54",
   "metadata": {
    "id": "re5wkImaYbAz"
   },
   "source": [
    "### Với mỗi cột có kiểu dữ liệu dạng numeric, các giá trị được phân bố như thế nào?"
   ]
  },
  {
   "cell_type": "code",
   "execution_count": 8,
   "id": "fcb7c7de",
   "metadata": {},
   "outputs": [
    {
     "data": {
      "text/html": [
       "<div>\n",
       "<style scoped>\n",
       "    .dataframe tbody tr th:only-of-type {\n",
       "        vertical-align: middle;\n",
       "    }\n",
       "\n",
       "    .dataframe tbody tr th {\n",
       "        vertical-align: top;\n",
       "    }\n",
       "\n",
       "    .dataframe thead th {\n",
       "        text-align: right;\n",
       "    }\n",
       "</style>\n",
       "<table border=\"1\" class=\"dataframe\">\n",
       "  <thead>\n",
       "    <tr style=\"text-align: right;\">\n",
       "      <th></th>\n",
       "      <th>year</th>\n",
       "      <th>life_expect</th>\n",
       "      <th>life_exp60</th>\n",
       "      <th>adult_mortality</th>\n",
       "      <th>infant_mort</th>\n",
       "      <th>age1-4mort</th>\n",
       "      <th>alcohol</th>\n",
       "      <th>bmi</th>\n",
       "      <th>age5-19thinness</th>\n",
       "      <th>age5-19obesity</th>\n",
       "      <th>...</th>\n",
       "      <th>che_gdp</th>\n",
       "      <th>une_pop</th>\n",
       "      <th>une_infant</th>\n",
       "      <th>une_life</th>\n",
       "      <th>une_hiv</th>\n",
       "      <th>une_gni</th>\n",
       "      <th>une_poverty</th>\n",
       "      <th>une_edu_spend</th>\n",
       "      <th>une_literacy</th>\n",
       "      <th>une_school</th>\n",
       "    </tr>\n",
       "  </thead>\n",
       "  <tbody>\n",
       "    <tr>\n",
       "      <th>missing_ratio</th>\n",
       "      <td>0.000000</td>\n",
       "      <td>0.000000</td>\n",
       "      <td>0.000000</td>\n",
       "      <td>0.000000</td>\n",
       "      <td>0.000000</td>\n",
       "      <td>0.000000</td>\n",
       "      <td>1.607200</td>\n",
       "      <td>1.092896</td>\n",
       "      <td>1.092896</td>\n",
       "      <td>1.092896</td>\n",
       "      <td>...</td>\n",
       "      <td>3.760849</td>\n",
       "      <td>1.189328e+00</td>\n",
       "      <td>0.000000</td>\n",
       "      <td>0.000000</td>\n",
       "      <td>23.818708</td>\n",
       "      <td>3.760849</td>\n",
       "      <td>70.652523</td>\n",
       "      <td>41.337191</td>\n",
       "      <td>81.645773</td>\n",
       "      <td>74.124076</td>\n",
       "    </tr>\n",
       "    <tr>\n",
       "      <th>count</th>\n",
       "      <td>3111.000000</td>\n",
       "      <td>3111.000000</td>\n",
       "      <td>3111.000000</td>\n",
       "      <td>3111.000000</td>\n",
       "      <td>3111.000000</td>\n",
       "      <td>3111.000000</td>\n",
       "      <td>3061.000000</td>\n",
       "      <td>3077.000000</td>\n",
       "      <td>3077.000000</td>\n",
       "      <td>3077.000000</td>\n",
       "      <td>...</td>\n",
       "      <td>2994.000000</td>\n",
       "      <td>3.074000e+03</td>\n",
       "      <td>3111.000000</td>\n",
       "      <td>3111.000000</td>\n",
       "      <td>2370.000000</td>\n",
       "      <td>2994.000000</td>\n",
       "      <td>913.000000</td>\n",
       "      <td>1825.000000</td>\n",
       "      <td>571.000000</td>\n",
       "      <td>805.000000</td>\n",
       "    </tr>\n",
       "    <tr>\n",
       "      <th>mean</th>\n",
       "      <td>2008.000000</td>\n",
       "      <td>69.146384</td>\n",
       "      <td>18.912060</td>\n",
       "      <td>193.527786</td>\n",
       "      <td>0.032496</td>\n",
       "      <td>0.003489</td>\n",
       "      <td>4.834781</td>\n",
       "      <td>25.052714</td>\n",
       "      <td>5.312447</td>\n",
       "      <td>5.972278</td>\n",
       "      <td>...</td>\n",
       "      <td>6.110353</td>\n",
       "      <td>3.707550e+04</td>\n",
       "      <td>30.488428</td>\n",
       "      <td>68.957352</td>\n",
       "      <td>2.038397</td>\n",
       "      <td>14964.832999</td>\n",
       "      <td>10.845893</td>\n",
       "      <td>4.532930</td>\n",
       "      <td>81.984472</td>\n",
       "      <td>9.712214</td>\n",
       "    </tr>\n",
       "    <tr>\n",
       "      <th>std</th>\n",
       "      <td>4.899767</td>\n",
       "      <td>9.129761</td>\n",
       "      <td>2.885412</td>\n",
       "      <td>114.007447</td>\n",
       "      <td>0.030361</td>\n",
       "      <td>0.005146</td>\n",
       "      <td>3.998741</td>\n",
       "      <td>2.193445</td>\n",
       "      <td>4.652408</td>\n",
       "      <td>4.530812</td>\n",
       "      <td>...</td>\n",
       "      <td>2.505267</td>\n",
       "      <td>1.378377e+05</td>\n",
       "      <td>27.756930</td>\n",
       "      <td>9.359194</td>\n",
       "      <td>4.593804</td>\n",
       "      <td>17495.137508</td>\n",
       "      <td>17.168798</td>\n",
       "      <td>1.754280</td>\n",
       "      <td>19.665588</td>\n",
       "      <td>2.854723</td>\n",
       "    </tr>\n",
       "    <tr>\n",
       "      <th>min</th>\n",
       "      <td>2000.000000</td>\n",
       "      <td>36.227360</td>\n",
       "      <td>10.728000</td>\n",
       "      <td>49.201850</td>\n",
       "      <td>0.001470</td>\n",
       "      <td>0.000065</td>\n",
       "      <td>0.000000</td>\n",
       "      <td>19.800000</td>\n",
       "      <td>0.100000</td>\n",
       "      <td>0.100000</td>\n",
       "      <td>...</td>\n",
       "      <td>1.025160</td>\n",
       "      <td>7.601600e+01</td>\n",
       "      <td>1.600000</td>\n",
       "      <td>39.441000</td>\n",
       "      <td>0.100000</td>\n",
       "      <td>420.000000</td>\n",
       "      <td>0.100000</td>\n",
       "      <td>0.787440</td>\n",
       "      <td>14.376040</td>\n",
       "      <td>0.559340</td>\n",
       "    </tr>\n",
       "    <tr>\n",
       "      <th>25%</th>\n",
       "      <td>2004.000000</td>\n",
       "      <td>63.200095</td>\n",
       "      <td>16.619485</td>\n",
       "      <td>108.269750</td>\n",
       "      <td>0.008255</td>\n",
       "      <td>0.000355</td>\n",
       "      <td>1.198030</td>\n",
       "      <td>23.300000</td>\n",
       "      <td>1.800000</td>\n",
       "      <td>2.000000</td>\n",
       "      <td>...</td>\n",
       "      <td>4.238798</td>\n",
       "      <td>2.195105e+03</td>\n",
       "      <td>8.000000</td>\n",
       "      <td>62.844500</td>\n",
       "      <td>0.100000</td>\n",
       "      <td>2970.000000</td>\n",
       "      <td>0.600000</td>\n",
       "      <td>3.262830</td>\n",
       "      <td>72.701130</td>\n",
       "      <td>7.735940</td>\n",
       "    </tr>\n",
       "    <tr>\n",
       "      <th>50%</th>\n",
       "      <td>2008.000000</td>\n",
       "      <td>71.597200</td>\n",
       "      <td>18.508260</td>\n",
       "      <td>164.822200</td>\n",
       "      <td>0.019995</td>\n",
       "      <td>0.000895</td>\n",
       "      <td>3.993560</td>\n",
       "      <td>25.500000</td>\n",
       "      <td>3.800000</td>\n",
       "      <td>5.200000</td>\n",
       "      <td>...</td>\n",
       "      <td>5.758030</td>\n",
       "      <td>8.544297e+03</td>\n",
       "      <td>19.500000</td>\n",
       "      <td>71.409000</td>\n",
       "      <td>0.400000</td>\n",
       "      <td>8340.000000</td>\n",
       "      <td>3.100000</td>\n",
       "      <td>4.425410</td>\n",
       "      <td>90.953740</td>\n",
       "      <td>10.270400</td>\n",
       "    </tr>\n",
       "    <tr>\n",
       "      <th>75%</th>\n",
       "      <td>2012.000000</td>\n",
       "      <td>75.537030</td>\n",
       "      <td>21.099175</td>\n",
       "      <td>250.832300</td>\n",
       "      <td>0.051720</td>\n",
       "      <td>0.004877</td>\n",
       "      <td>7.723420</td>\n",
       "      <td>26.500000</td>\n",
       "      <td>7.800000</td>\n",
       "      <td>8.900000</td>\n",
       "      <td>...</td>\n",
       "      <td>7.850327</td>\n",
       "      <td>2.509552e+04</td>\n",
       "      <td>48.050000</td>\n",
       "      <td>75.570645</td>\n",
       "      <td>1.500000</td>\n",
       "      <td>20482.500000</td>\n",
       "      <td>12.400000</td>\n",
       "      <td>5.494980</td>\n",
       "      <td>95.786975</td>\n",
       "      <td>12.070610</td>\n",
       "    </tr>\n",
       "    <tr>\n",
       "      <th>max</th>\n",
       "      <td>2016.000000</td>\n",
       "      <td>84.166160</td>\n",
       "      <td>26.394020</td>\n",
       "      <td>696.874200</td>\n",
       "      <td>0.164515</td>\n",
       "      <td>0.039095</td>\n",
       "      <td>20.182460</td>\n",
       "      <td>32.200000</td>\n",
       "      <td>28.100000</td>\n",
       "      <td>26.700000</td>\n",
       "      <td>...</td>\n",
       "      <td>20.413410</td>\n",
       "      <td>1.414049e+06</td>\n",
       "      <td>142.400000</td>\n",
       "      <td>83.984880</td>\n",
       "      <td>28.200000</td>\n",
       "      <td>122670.000000</td>\n",
       "      <td>94.100000</td>\n",
       "      <td>14.059080</td>\n",
       "      <td>99.998190</td>\n",
       "      <td>14.378800</td>\n",
       "    </tr>\n",
       "  </tbody>\n",
       "</table>\n",
       "<p>9 rows × 29 columns</p>\n",
       "</div>"
      ],
      "text/plain": [
       "                      year  life_expect   life_exp60  adult_mortality  \\\n",
       "missing_ratio     0.000000     0.000000     0.000000         0.000000   \n",
       "count          3111.000000  3111.000000  3111.000000      3111.000000   \n",
       "mean           2008.000000    69.146384    18.912060       193.527786   \n",
       "std               4.899767     9.129761     2.885412       114.007447   \n",
       "min            2000.000000    36.227360    10.728000        49.201850   \n",
       "25%            2004.000000    63.200095    16.619485       108.269750   \n",
       "50%            2008.000000    71.597200    18.508260       164.822200   \n",
       "75%            2012.000000    75.537030    21.099175       250.832300   \n",
       "max            2016.000000    84.166160    26.394020       696.874200   \n",
       "\n",
       "               infant_mort   age1-4mort      alcohol          bmi  \\\n",
       "missing_ratio     0.000000     0.000000     1.607200     1.092896   \n",
       "count          3111.000000  3111.000000  3061.000000  3077.000000   \n",
       "mean              0.032496     0.003489     4.834781    25.052714   \n",
       "std               0.030361     0.005146     3.998741     2.193445   \n",
       "min               0.001470     0.000065     0.000000    19.800000   \n",
       "25%               0.008255     0.000355     1.198030    23.300000   \n",
       "50%               0.019995     0.000895     3.993560    25.500000   \n",
       "75%               0.051720     0.004877     7.723420    26.500000   \n",
       "max               0.164515     0.039095    20.182460    32.200000   \n",
       "\n",
       "               age5-19thinness  age5-19obesity  ...      che_gdp  \\\n",
       "missing_ratio         1.092896        1.092896  ...     3.760849   \n",
       "count              3077.000000     3077.000000  ...  2994.000000   \n",
       "mean                  5.312447        5.972278  ...     6.110353   \n",
       "std                   4.652408        4.530812  ...     2.505267   \n",
       "min                   0.100000        0.100000  ...     1.025160   \n",
       "25%                   1.800000        2.000000  ...     4.238798   \n",
       "50%                   3.800000        5.200000  ...     5.758030   \n",
       "75%                   7.800000        8.900000  ...     7.850327   \n",
       "max                  28.100000       26.700000  ...    20.413410   \n",
       "\n",
       "                    une_pop   une_infant     une_life      une_hiv  \\\n",
       "missing_ratio  1.189328e+00     0.000000     0.000000    23.818708   \n",
       "count          3.074000e+03  3111.000000  3111.000000  2370.000000   \n",
       "mean           3.707550e+04    30.488428    68.957352     2.038397   \n",
       "std            1.378377e+05    27.756930     9.359194     4.593804   \n",
       "min            7.601600e+01     1.600000    39.441000     0.100000   \n",
       "25%            2.195105e+03     8.000000    62.844500     0.100000   \n",
       "50%            8.544297e+03    19.500000    71.409000     0.400000   \n",
       "75%            2.509552e+04    48.050000    75.570645     1.500000   \n",
       "max            1.414049e+06   142.400000    83.984880    28.200000   \n",
       "\n",
       "                     une_gni  une_poverty  une_edu_spend  une_literacy  \\\n",
       "missing_ratio       3.760849    70.652523      41.337191     81.645773   \n",
       "count            2994.000000   913.000000    1825.000000    571.000000   \n",
       "mean            14964.832999    10.845893       4.532930     81.984472   \n",
       "std             17495.137508    17.168798       1.754280     19.665588   \n",
       "min               420.000000     0.100000       0.787440     14.376040   \n",
       "25%              2970.000000     0.600000       3.262830     72.701130   \n",
       "50%              8340.000000     3.100000       4.425410     90.953740   \n",
       "75%             20482.500000    12.400000       5.494980     95.786975   \n",
       "max            122670.000000    94.100000      14.059080     99.998190   \n",
       "\n",
       "               une_school  \n",
       "missing_ratio   74.124076  \n",
       "count          805.000000  \n",
       "mean             9.712214  \n",
       "std              2.854723  \n",
       "min              0.559340  \n",
       "25%              7.735940  \n",
       "50%             10.270400  \n",
       "75%             12.070610  \n",
       "max             14.378800  \n",
       "\n",
       "[9 rows x 29 columns]"
      ]
     },
     "execution_count": 8,
     "metadata": {},
     "output_type": "execute_result"
    }
   ],
   "source": [
    "def missing_ratio(series):\n",
    "    return series.isna().mean() * 100\n",
    "\n",
    "num_df = data.select_dtypes(exclude='object')\n",
    "pd.concat([num_df.agg([missing_ratio]), num_df.describe()])"
   ]
  },
  {
   "cell_type": "markdown",
   "id": "298cdfaa",
   "metadata": {
    "id": "ugRuFiUXYbA0"
   },
   "source": [
    "### Với mỗi cột có kiểu dữ liệu dạng categorical, các giá trị được phân bố như thế nào?"
   ]
  },
  {
   "cell_type": "code",
   "execution_count": 9,
   "id": "da899b33",
   "metadata": {
    "scrolled": true
   },
   "outputs": [
    {
     "data": {
      "text/html": [
       "<div>\n",
       "<style scoped>\n",
       "    .dataframe tbody tr th:only-of-type {\n",
       "        vertical-align: middle;\n",
       "    }\n",
       "\n",
       "    .dataframe tbody tr th {\n",
       "        vertical-align: top;\n",
       "    }\n",
       "\n",
       "    .dataframe thead th {\n",
       "        text-align: right;\n",
       "    }\n",
       "</style>\n",
       "<table border=\"1\" class=\"dataframe\">\n",
       "  <thead>\n",
       "    <tr style=\"text-align: right;\">\n",
       "      <th></th>\n",
       "      <th>country</th>\n",
       "      <th>country_code</th>\n",
       "      <th>region</th>\n",
       "    </tr>\n",
       "  </thead>\n",
       "  <tbody>\n",
       "    <tr>\n",
       "      <th>missing_ratio</th>\n",
       "      <td>0.0</td>\n",
       "      <td>0.0</td>\n",
       "      <td>0.0</td>\n",
       "    </tr>\n",
       "    <tr>\n",
       "      <th>num_diff_vals</th>\n",
       "      <td>183</td>\n",
       "      <td>183</td>\n",
       "      <td>6</td>\n",
       "    </tr>\n",
       "    <tr>\n",
       "      <th>value_ratios</th>\n",
       "      <td>{'Angola': 17, 'Netherlands': 17, 'Poland': 17...</td>\n",
       "      <td>{'AGO': 17, 'NLD': 17, 'POL': 17, 'PRT': 17, '...</td>\n",
       "      <td>{'Europe': 850, 'Africa': 799, 'Americas': 561...</td>\n",
       "    </tr>\n",
       "  </tbody>\n",
       "</table>\n",
       "</div>"
      ],
      "text/plain": [
       "                                                         country  \\\n",
       "missing_ratio                                                0.0   \n",
       "num_diff_vals                                                183   \n",
       "value_ratios   {'Angola': 17, 'Netherlands': 17, 'Poland': 17...   \n",
       "\n",
       "                                                    country_code  \\\n",
       "missing_ratio                                                0.0   \n",
       "num_diff_vals                                                183   \n",
       "value_ratios   {'AGO': 17, 'NLD': 17, 'POL': 17, 'PRT': 17, '...   \n",
       "\n",
       "                                                          region  \n",
       "missing_ratio                                                0.0  \n",
       "num_diff_vals                                                  6  \n",
       "value_ratios   {'Europe': 850, 'Africa': 799, 'Americas': 561...  "
      ]
     },
     "execution_count": 9,
     "metadata": {},
     "output_type": "execute_result"
    }
   ],
   "source": [
    "def num_diff_vals(series):\n",
    "    return series.nunique()\n",
    "def value_ratios(series):\n",
    "    return dict((series.value_counts()))\n",
    "\n",
    "cate_df = data.select_dtypes(include = 'object')\n",
    "cate_col_profiles_df = cate_df.agg([missing_ratio, num_diff_vals, value_ratios])\n",
    "cate_col_profiles_df"
   ]
  },
  {
   "cell_type": "markdown",
   "id": "fe261047",
   "metadata": {},
   "source": [
    "Sau khi khám phá sự phân bố của các cột dữ liệu, ta nhận thấy có 4 cột numeric với missing ratio trên 50% là \"hospitals\", \"une_poverty\", \"une_literacy\", \"une_school\". Việc dùng các cột nào trong phân tích dữ liệu có thể cho ra kết quả không tốt, vì vậy ta cần loại bỏ chúng trong bước tiền xử lý."
   ]
  },
  {
   "cell_type": "markdown",
   "id": "14f6efc5",
   "metadata": {},
   "source": [
    "### Tiền xử lý dữ liệu ###"
   ]
  },
  {
   "cell_type": "code",
   "execution_count": 10,
   "id": "d7a61fce",
   "metadata": {
    "scrolled": true
   },
   "outputs": [
    {
     "data": {
      "text/plain": [
       "hospitals       95.821279\n",
       "une_poverty     70.652523\n",
       "une_literacy    81.645773\n",
       "une_school      74.124076\n",
       "dtype: float64"
      ]
     },
     "execution_count": 10,
     "metadata": {},
     "output_type": "execute_result"
    }
   ],
   "source": [
    "missing_df = data.agg(missing_ratio)\n",
    "cols_to_drop = missing_df[missing_df > 50]\n",
    "cols_to_drop"
   ]
  },
  {
   "cell_type": "code",
   "execution_count": 11,
   "id": "15ffd810",
   "metadata": {
    "scrolled": false
   },
   "outputs": [
    {
     "data": {
      "text/plain": [
       "(3111, 28)"
      ]
     },
     "execution_count": 11,
     "metadata": {},
     "output_type": "execute_result"
    }
   ],
   "source": [
    "data_df = data.drop(cols_to_drop.index.tolist(), axis = 1)\n",
    "data_df.shape"
   ]
  },
  {
   "cell_type": "markdown",
   "id": "f6d0a7d9",
   "metadata": {},
   "source": [
    "---"
   ]
  },
  {
   "cell_type": "markdown",
   "id": "8fa3fda2",
   "metadata": {
    "id": "4XnnpjXqYbAv"
   },
   "source": [
    "## Đưa ra câu hỏi cần trả lời"
   ]
  },
  {
   "cell_type": "markdown",
   "id": "f54ddca0",
   "metadata": {
    "id": "CfhtUtmhYbA1"
   },
   "source": [
    "### Tiền xử lý"
   ]
  },
  {
   "cell_type": "markdown",
   "id": "34859c60",
   "metadata": {
    "id": "qMEXHbSyYbA1"
   },
   "source": [
    "### Phân tích dữ liệu để trả lời cho các câu hỏi "
   ]
  },
  {
   "cell_type": "markdown",
   "id": "3796b446",
   "metadata": {},
   "source": [
    "---"
   ]
  },
  {
   "cell_type": "markdown",
   "id": "e142f319",
   "metadata": {},
   "source": [
    "## Nhìn lại quá trình làm đồ án"
   ]
  },
  {
   "cell_type": "markdown",
   "id": "766ec132",
   "metadata": {},
   "source": [
    "---"
   ]
  },
  {
   "cell_type": "markdown",
   "id": "8700d26f",
   "metadata": {},
   "source": [
    "## Tài liệu tham khảo"
   ]
  },
  {
   "cell_type": "markdown",
   "id": "1eb331d0",
   "metadata": {},
   "source": [
    "---"
   ]
  }
 ],
 "metadata": {
  "kernelspec": {
   "display_name": "Python 3 (ipykernel)",
   "language": "python",
   "name": "python3"
  },
  "language_info": {
   "codemirror_mode": {
    "name": "ipython",
    "version": 3
   },
   "file_extension": ".py",
   "mimetype": "text/x-python",
   "name": "python",
   "nbconvert_exporter": "python",
   "pygments_lexer": "ipython3",
   "version": "3.10.1"
  }
 },
 "nbformat": 4,
 "nbformat_minor": 5
}
