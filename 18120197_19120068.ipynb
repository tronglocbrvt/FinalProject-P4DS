{
 "cells": [
  {
   "cell_type": "markdown",
   "id": "ead738f4",
   "metadata": {
    "id": "Z2iropOgYbAs"
   },
   "source": [
    "# ĐỒ ÁN CUỐI KỲ MÔN LẬP TRÌNH CHO KHOA HỌC DỮ LIỆU\n",
    "\n",
    "*Giảng viên: Thầy Trần Trung Kiên*"
   ]
  },
  {
   "cell_type": "markdown",
   "id": "052c6802",
   "metadata": {},
   "source": [
    "---"
   ]
  },
  {
   "cell_type": "markdown",
   "id": "964c339a",
   "metadata": {},
   "source": [
    "**Nhóm sinh viên thực hiện:**\n",
    "\n",
    "Sinh viên 01: Trương Trọng Lộc - 18120197\n",
    "\n",
    "Sinh viên 02: Dương Nam Hải - 19120068"
   ]
  },
  {
   "cell_type": "markdown",
   "id": "d49e217e",
   "metadata": {},
   "source": [
    "---"
   ]
  },
  {
   "cell_type": "markdown",
   "id": "38363e05",
   "metadata": {
    "id": "qgrbCkoXYbAv"
   },
   "source": [
    "## Import các thư viện cần thiết"
   ]
  },
  {
   "cell_type": "code",
   "execution_count": 2,
   "id": "495c657c",
   "metadata": {
    "id": "J0fci4x1YbAv"
   },
   "outputs": [],
   "source": [
    "import pandas as pd\n",
    "import matplotlib.pyplot as plt\n",
    "import numpy as np"
   ]
  },
  {
   "cell_type": "markdown",
   "id": "5d68a2ed",
   "metadata": {
    "id": "cDgG0uJyYbAv"
   },
   "source": [
    "---"
   ]
  },
  {
   "cell_type": "markdown",
   "id": "1fd02c2b",
   "metadata": {
    "id": "qNGbzZGCYbAv"
   },
   "source": [
    "## Thu thập dữ liệu"
   ]
  },
  {
   "cell_type": "markdown",
   "id": "7c20df6c",
   "metadata": {},
   "source": [
    "### Tổng quan về dữ liệu"
   ]
  },
  {
   "cell_type": "markdown",
   "id": "468a4e26",
   "metadata": {},
   "source": [
    "- Tập dữ liệu được sử dụng trong đồ án là tập dữ liệu về các **nhân tố có thể tác động đến tuổi thọ** con người \n",
    "(chẳng hạn về giáo dục, y tế, kinh tế) của 183 quốc gia trên thế giới từ năm 2000-2016. Tập dữ liệu tên là **WHO national life expectancy**.\n",
    "- Tập dữ liệu được lấy và download từ Kaggle thông qua [đường dẫn](https://www.kaggle.com/mmattson/who-national-life-expectancy), bộ dữ liệu do tác giả MMattson thu thập."
   ]
  },
  {
   "cell_type": "markdown",
   "id": "a3d83210",
   "metadata": {},
   "source": [
    "### Dữ liệu được phép sử dụng hay không?"
   ]
  },
  {
   "cell_type": "markdown",
   "id": "f0a44235",
   "metadata": {},
   "source": [
    "License của tập dữ liệu này là [CC0 - Public Domain](https://creativecommons.org/publicdomain/zero/1.0/). Với license này thì ta có thể sử dụng tập dữ liệu mà không cần xin phép tác giả. Cụ thể, license này thể hiện tác giả đã từ bỏ quyền sở hữu của bản thân để trao quyền cho người khác có thể sử dụng để chỉnh sửa, phân phối,... dưới bất kỳ hình thức nào trong phạm vi pháp luật (có thể là học tập, nghiên cứu, thương mại,...)."
   ]
  },
  {
   "cell_type": "markdown",
   "id": "8434a8d9",
   "metadata": {},
   "source": [
    "### Dữ liệu được thu thập như thế nào?"
   ]
  },
  {
   "cell_type": "markdown",
   "id": "ffdf7568",
   "metadata": {},
   "source": [
    "* Dữ liệu được thu thập từ dữ liệu của Tổ chức Y tế Thế giới (World Health Organization) thông qua cả 3 cách sau: \n",
    "    * Trang web dữ liệu Thống kê về Giáo dục các Quốc gia của Viện thống kê UNESCO ([UNESCO Databases of Resources on Education](https://en.unesco.org/themes/education/databases));\n",
    "    * API từ [GHO (Global Health Observatory)](https://www.who.int/data/gho/);\n",
    "    * Thủ công.\n",
    "* Chi tiết về cách thu thập dữ liệu có thể tham khảo tại notebook của tác giả tại [đây](https://www.kaggle.com/mmattson/template-to-generate-the-dataset)."
   ]
  },
  {
   "cell_type": "markdown",
   "id": "9054506a",
   "metadata": {},
   "source": [
    "---"
   ]
  },
  {
   "cell_type": "markdown",
   "id": "56471f2c",
   "metadata": {
    "id": "4XnnpjXqYbAv"
   },
   "source": [
    "## Khám phá dữ liệu"
   ]
  },
  {
   "cell_type": "markdown",
   "id": "6e672512",
   "metadata": {
    "id": "CTrxx-_BYbAv"
   },
   "source": [
    "### Đọc dữ liệu từ file CSV vào dataframe"
   ]
  },
  {
   "cell_type": "markdown",
   "id": "a05f75b3",
   "metadata": {},
   "source": [
    "Dữ liệu được lưu trong 1 file CSV duy nhất `who_life_exp.csv` và được chứa trong thư mục Data. Ta sử dụng thư viện Pandas để đọc dữ liệu từ CSV này vào Data Frame."
   ]
  },
  {
   "cell_type": "code",
   "execution_count": 3,
   "id": "307c50f6",
   "metadata": {},
   "outputs": [
    {
     "data": {
      "text/html": [
       "<div>\n",
       "<style scoped>\n",
       "    .dataframe tbody tr th:only-of-type {\n",
       "        vertical-align: middle;\n",
       "    }\n",
       "\n",
       "    .dataframe tbody tr th {\n",
       "        vertical-align: top;\n",
       "    }\n",
       "\n",
       "    .dataframe thead th {\n",
       "        text-align: right;\n",
       "    }\n",
       "</style>\n",
       "<table border=\"1\" class=\"dataframe\">\n",
       "  <thead>\n",
       "    <tr style=\"text-align: right;\">\n",
       "      <th></th>\n",
       "      <th>country</th>\n",
       "      <th>country_code</th>\n",
       "      <th>region</th>\n",
       "      <th>year</th>\n",
       "      <th>life_expect</th>\n",
       "      <th>life_exp60</th>\n",
       "      <th>adult_mortality</th>\n",
       "      <th>infant_mort</th>\n",
       "      <th>age1-4mort</th>\n",
       "      <th>alcohol</th>\n",
       "      <th>...</th>\n",
       "      <th>che_gdp</th>\n",
       "      <th>une_pop</th>\n",
       "      <th>une_infant</th>\n",
       "      <th>une_life</th>\n",
       "      <th>une_hiv</th>\n",
       "      <th>une_gni</th>\n",
       "      <th>une_poverty</th>\n",
       "      <th>une_edu_spend</th>\n",
       "      <th>une_literacy</th>\n",
       "      <th>une_school</th>\n",
       "    </tr>\n",
       "  </thead>\n",
       "  <tbody>\n",
       "    <tr>\n",
       "      <th>0</th>\n",
       "      <td>Angola</td>\n",
       "      <td>AGO</td>\n",
       "      <td>Africa</td>\n",
       "      <td>2000</td>\n",
       "      <td>47.33730</td>\n",
       "      <td>14.73400</td>\n",
       "      <td>383.5583</td>\n",
       "      <td>0.137985</td>\n",
       "      <td>0.025695</td>\n",
       "      <td>1.47439</td>\n",
       "      <td>...</td>\n",
       "      <td>1.90860</td>\n",
       "      <td>16395.473</td>\n",
       "      <td>122.2</td>\n",
       "      <td>46.522</td>\n",
       "      <td>1.0</td>\n",
       "      <td>2530.0</td>\n",
       "      <td>32.3</td>\n",
       "      <td>2.60753</td>\n",
       "      <td>NaN</td>\n",
       "      <td>NaN</td>\n",
       "    </tr>\n",
       "    <tr>\n",
       "      <th>1</th>\n",
       "      <td>Angola</td>\n",
       "      <td>AGO</td>\n",
       "      <td>Africa</td>\n",
       "      <td>2001</td>\n",
       "      <td>48.19789</td>\n",
       "      <td>14.95963</td>\n",
       "      <td>372.3876</td>\n",
       "      <td>0.133675</td>\n",
       "      <td>0.024500</td>\n",
       "      <td>1.94025</td>\n",
       "      <td>...</td>\n",
       "      <td>4.48352</td>\n",
       "      <td>16945.753</td>\n",
       "      <td>118.9</td>\n",
       "      <td>47.059</td>\n",
       "      <td>1.1</td>\n",
       "      <td>2630.0</td>\n",
       "      <td>NaN</td>\n",
       "      <td>NaN</td>\n",
       "      <td>67.40542</td>\n",
       "      <td>NaN</td>\n",
       "    </tr>\n",
       "    <tr>\n",
       "      <th>2</th>\n",
       "      <td>Angola</td>\n",
       "      <td>AGO</td>\n",
       "      <td>Africa</td>\n",
       "      <td>2002</td>\n",
       "      <td>49.42569</td>\n",
       "      <td>15.20010</td>\n",
       "      <td>354.5147</td>\n",
       "      <td>0.128320</td>\n",
       "      <td>0.023260</td>\n",
       "      <td>2.07512</td>\n",
       "      <td>...</td>\n",
       "      <td>3.32946</td>\n",
       "      <td>17519.417</td>\n",
       "      <td>115.1</td>\n",
       "      <td>47.702</td>\n",
       "      <td>1.2</td>\n",
       "      <td>3180.0</td>\n",
       "      <td>NaN</td>\n",
       "      <td>NaN</td>\n",
       "      <td>NaN</td>\n",
       "      <td>NaN</td>\n",
       "    </tr>\n",
       "    <tr>\n",
       "      <th>3</th>\n",
       "      <td>Angola</td>\n",
       "      <td>AGO</td>\n",
       "      <td>Africa</td>\n",
       "      <td>2003</td>\n",
       "      <td>50.50266</td>\n",
       "      <td>15.39144</td>\n",
       "      <td>343.2169</td>\n",
       "      <td>0.122040</td>\n",
       "      <td>0.021925</td>\n",
       "      <td>2.20275</td>\n",
       "      <td>...</td>\n",
       "      <td>3.54797</td>\n",
       "      <td>18121.479</td>\n",
       "      <td>110.8</td>\n",
       "      <td>48.440</td>\n",
       "      <td>1.3</td>\n",
       "      <td>3260.0</td>\n",
       "      <td>NaN</td>\n",
       "      <td>NaN</td>\n",
       "      <td>NaN</td>\n",
       "      <td>NaN</td>\n",
       "    </tr>\n",
       "    <tr>\n",
       "      <th>4</th>\n",
       "      <td>Angola</td>\n",
       "      <td>AGO</td>\n",
       "      <td>Africa</td>\n",
       "      <td>2004</td>\n",
       "      <td>51.52863</td>\n",
       "      <td>15.56860</td>\n",
       "      <td>333.8711</td>\n",
       "      <td>0.115700</td>\n",
       "      <td>0.020545</td>\n",
       "      <td>2.41274</td>\n",
       "      <td>...</td>\n",
       "      <td>3.96720</td>\n",
       "      <td>18758.145</td>\n",
       "      <td>106.2</td>\n",
       "      <td>49.263</td>\n",
       "      <td>1.3</td>\n",
       "      <td>3560.0</td>\n",
       "      <td>NaN</td>\n",
       "      <td>NaN</td>\n",
       "      <td>NaN</td>\n",
       "      <td>NaN</td>\n",
       "    </tr>\n",
       "  </tbody>\n",
       "</table>\n",
       "<p>5 rows × 32 columns</p>\n",
       "</div>"
      ],
      "text/plain": [
       "  country country_code  region  year  life_expect  life_exp60  \\\n",
       "0  Angola          AGO  Africa  2000     47.33730    14.73400   \n",
       "1  Angola          AGO  Africa  2001     48.19789    14.95963   \n",
       "2  Angola          AGO  Africa  2002     49.42569    15.20010   \n",
       "3  Angola          AGO  Africa  2003     50.50266    15.39144   \n",
       "4  Angola          AGO  Africa  2004     51.52863    15.56860   \n",
       "\n",
       "   adult_mortality  infant_mort  age1-4mort  alcohol  ...  che_gdp    une_pop  \\\n",
       "0         383.5583     0.137985    0.025695  1.47439  ...  1.90860  16395.473   \n",
       "1         372.3876     0.133675    0.024500  1.94025  ...  4.48352  16945.753   \n",
       "2         354.5147     0.128320    0.023260  2.07512  ...  3.32946  17519.417   \n",
       "3         343.2169     0.122040    0.021925  2.20275  ...  3.54797  18121.479   \n",
       "4         333.8711     0.115700    0.020545  2.41274  ...  3.96720  18758.145   \n",
       "\n",
       "   une_infant  une_life  une_hiv  une_gni  une_poverty  une_edu_spend  \\\n",
       "0       122.2    46.522      1.0   2530.0         32.3        2.60753   \n",
       "1       118.9    47.059      1.1   2630.0          NaN            NaN   \n",
       "2       115.1    47.702      1.2   3180.0          NaN            NaN   \n",
       "3       110.8    48.440      1.3   3260.0          NaN            NaN   \n",
       "4       106.2    49.263      1.3   3560.0          NaN            NaN   \n",
       "\n",
       "   une_literacy  une_school  \n",
       "0           NaN         NaN  \n",
       "1      67.40542         NaN  \n",
       "2           NaN         NaN  \n",
       "3           NaN         NaN  \n",
       "4           NaN         NaN  \n",
       "\n",
       "[5 rows x 32 columns]"
      ]
     },
     "execution_count": 3,
     "metadata": {},
     "output_type": "execute_result"
    }
   ],
   "source": [
    "life_exp_df = pd.read_csv('./Data/who_life_exp.csv')\n",
    "life_exp_df.head()"
   ]
  },
  {
   "cell_type": "markdown",
   "id": "49970730",
   "metadata": {
    "id": "B0vNv-s-YbAv"
   },
   "source": [
    "### Dữ liệu gồm có bao nhiêu dòng và bao nhiêu cột?"
   ]
  },
  {
   "cell_type": "code",
   "execution_count": 4,
   "id": "686609c7",
   "metadata": {},
   "outputs": [
    {
     "data": {
      "text/plain": [
       "(3111, 32)"
      ]
     },
     "execution_count": 4,
     "metadata": {},
     "output_type": "execute_result"
    }
   ],
   "source": [
    "num_rows, num_cols = life_exp_df.shape\n",
    "num_rows, num_cols"
   ]
  },
  {
   "cell_type": "markdown",
   "id": "e76c7c4f",
   "metadata": {},
   "source": [
    "**Nhận xét:** \n",
    "* Tập dữ liệu gồm 3111 dòng và 32 cột.\n",
    "* Ngoài ra, theo thông tin của bộ dữ liệu, dữ liệu được khảo sát từ năm 2000-2016 ở 183 quốc gia, điều này hoàn toàn phù hợp với kết quả là 3111 dòng (nói cách dễ hiểu là do 2000-2016 là 17 năm, ta lấy 17 năm * 183 quốc gia = 3111 dòng, dự đoán ban đầu của nhóm em là vậy ^^ Nhóm em sẽ khảo sát ở phần sau xem thử có đúng như dự đoán không)."
   ]
  },
  {
   "cell_type": "markdown",
   "id": "ad479882",
   "metadata": {
    "id": "o0VBB5H5YbAw"
   },
   "source": [
    "### Mỗi dòng có ý nghĩa gì? Có vấn đề các dòng có ý nghĩa khác nhau không?"
   ]
  },
  {
   "cell_type": "markdown",
   "id": "ecd39dab",
   "metadata": {},
   "source": [
    "* Theo quan sát, mỗi dòng thể hiện thông tin về các yếu tố có thể ảnh hưởng đến tuổi thọ (tỉ lệ tiêm chủng, dân số, tỉ lệ người lớn biết chữ, thu nhập bình quân,...) của **một quốc gia** trong **một năm**. \n",
    "* Có vẻ **không** có dòng nào có ý nghĩa khác nhau. "
   ]
  },
  {
   "cell_type": "markdown",
   "id": "15687dcf",
   "metadata": {
    "id": "ex8ptMwLYbAw"
   },
   "source": [
    "### Dữ liệu có các dòng bị lặp không?"
   ]
  },
  {
   "cell_type": "markdown",
   "id": "43cd4443",
   "metadata": {},
   "source": [
    "Kiểm tra việc này và lưu kết quả vào biến `have_duplicated_rows`. Biến này sẽ có giá trị True nếu dữ liệu có các dòng bị lặp và có giá trị False nếu ngược lại."
   ]
  },
  {
   "cell_type": "code",
   "execution_count": 6,
   "id": "4e808ce6",
   "metadata": {},
   "outputs": [
    {
     "name": "stdout",
     "output_type": "stream",
     "text": [
      "Không có dữ liệu trùng lặp\n"
     ]
    }
   ],
   "source": [
    "have_duplicated_rows = life_exp_df.duplicated().sum()\n",
    "if have_duplicated_rows != 0:\n",
    "    print(\"Có dòng dữ liệu bị lặp\")\n",
    "else:\n",
    "    print(\"Không có dữ liệu trùng lặp\")"
   ]
  },
  {
   "cell_type": "markdown",
   "id": "e8eb2863",
   "metadata": {
    "id": "ssTC4vfKYbAx"
   },
   "source": [
    "### Mỗi cột có ý nghĩa gì?"
   ]
  },
  {
   "cell_type": "markdown",
   "id": "81d83d59",
   "metadata": {},
   "source": [
    "Theo mô tả trên Kaggle, mỗi cột có ý nghĩa như sau:\n",
    "\n",
    "|Tên cột dữ liệu | Mô tả |\n",
    "|:------:| ---|\n",
    "|Country| Tên quốc gia khảo sát |\n",
    "|country_code| Mã định danh quốc gia (3 chữ cái)|\n",
    "|region| Khu vực của quốc gia khảo sát|\n",
    "|year| Năm khảo sát|\n",
    "|life_expect| Tuổi thọ kì vọng khi sinh (đơn vị năm) |\n",
    "|life_exp60| Tuổi thọ kì vọng còn lại khi 60 tuổi (đơn vị năm)|\n",
    "|adult_mortality|Tỷ lệ tử vong của người trưởng thành (xác suất tử vong từ 15 đến 60 tuổi trên 1000 dân số)|\n",
    "|infant_mort|Tỷ lệ tử vong dưới 1 tuổi|\n",
    "|age1-4mort|Tỷ lệ tử vong từ 1 đến 4 tuổi|\n",
    "|alcohol|Mức tiêu thụ rượu bình quân đầu người từ 15 tuổi trở lên (tính bằng rượu nguyên chất)|\n",
    "|bmi|BMI trung bình (từ 18 tuổi trở lên) (ước tính chuẩn hóa theo độ tuổi)|\n",
    "|age5-19thinness|Tỷ lệ suy dinh dưỡng ở trẻ em và thanh thiếu niên (%)|\n",
    "|age5-19obesity\t|Tỷ lệ béo phì ở trẻ em và thanh thiếu niên (%)|\n",
    "|hepatitis|Tỷ lệ tiêm ngừa viêm gan siêu vi B (HepB) ở trẻ 1 tuổi (%)|\n",
    "|measles|Tỷ lệ tiêm ngừa sởi mũi đầu tiên (MCV1) ở trẻ 1 tuổi (%)|\n",
    "|polio| Tỷ lệ tiêm ngừa bại liệt (Pol3) ở trẻ 1 tuổi (%)|\n",
    "|diphtheria|Tỷ lệ tiêm ngừa bạch hầu, uốn ván và ho gà (DTP3) cho trẻ 1 tuổi (%)|\n",
    "|basic_water|Tỷ lệ dân số được tiếp cận các dịch vụ nước cơ bản|\n",
    "|doctors|Mật độ bác sĩ y khoa trên 10.000 dân|\n",
    "|hospitals|Mật độ bệnh viện trên 100.000 dân|\n",
    "|gni_capita|Tổng thu nhập quốc dân trên đầu người, đơn vị $ (tổng thu thập mà người dân và doanh nghiệp của quốc gia kiếm được)|\n",
    "|gghe-d\t|Chi tiêu từ ngân sách chính phủ cho lĩnh vực y tế tính theo tỷ lệ phần trăm của tổng sản phẩm quốc nội (GDP) (%)|\n",
    "|che_gdp|Chi phí người dân bỏ ra cho dịch vụ y tế (CHE) tính theo phần trăm tổng sản phẩm quốc nội (GDP) (%)|\n",
    "|une_pop|Dân số (đơn vị nghìn)|\n",
    "|une_infant|Tỷ lệ tử vong ở trẻ sơ sinh trên 1.000 ca sinh sống|\n",
    "|une_life|Tuổi thọ kì vọng nếu các hình thức tử vong phổ biến tại thời điểm được sinh ra không thay đổi trong suốt cuộc đời của trẻ|\n",
    "|une_hiv|Tỷ lệ nhiễm HIV, đơn vị \\% trên tổng dân số từ 15-49 tuổi|\n",
    "|une_gni|Thu nhập quốc dân trên đầu người|\n",
    "|une_poverty|Tỷ lệ số người nghèo có mức sống 1,90 đô la một ngày (PPP) (\\% trên dân số)|\n",
    "|une_edu_spend|Chi tiêu của chính phủ cho giáo dục tính theo phần trăm GDP (\\%)|\n",
    "|une_literacy|Tỷ lệ người lớn biết chữ, cả hai giới (dân số trên 15 tuổi) (\\%)|\n",
    "|une_school|Số năm đi học trung bình (ISCED 1 trở lên), cả hai giới (dân số trên 25 tuổi)|\n",
    "\n",
    "**Các thuộc tính có tên `une_`** được thống kê bởi tổ chức UNESCO.\n",
    "\n",
    "**Các thuộc tính còn lại** được thống kê bởi GHO (Global Health Observatory).\n"
   ]
  },
  {
   "cell_type": "markdown",
   "id": "52b01abf",
   "metadata": {
    "id": "6oNfnkmyYbAx"
   },
   "source": [
    "### Mỗi cột hiện đang có kiểu dữ liệu gì? Có cột nào có kiểu dữ liệu chưa phù hợp để có thể xử lý tiếp không?"
   ]
  },
  {
   "cell_type": "code",
   "execution_count": 5,
   "id": "b2d38e99",
   "metadata": {},
   "outputs": [
    {
     "data": {
      "text/plain": [
       "country             object\n",
       "country_code        object\n",
       "region              object\n",
       "year                 int64\n",
       "life_expect        float64\n",
       "life_exp60         float64\n",
       "adult_mortality    float64\n",
       "infant_mort        float64\n",
       "age1-4mort         float64\n",
       "alcohol            float64\n",
       "bmi                float64\n",
       "age5-19thinness    float64\n",
       "age5-19obesity     float64\n",
       "hepatitis          float64\n",
       "measles            float64\n",
       "polio              float64\n",
       "diphtheria         float64\n",
       "basic_water        float64\n",
       "doctors            float64\n",
       "hospitals          float64\n",
       "gni_capita         float64\n",
       "gghe-d             float64\n",
       "che_gdp            float64\n",
       "une_pop            float64\n",
       "une_infant         float64\n",
       "une_life           float64\n",
       "une_hiv            float64\n",
       "une_gni            float64\n",
       "une_poverty        float64\n",
       "une_edu_spend      float64\n",
       "une_literacy       float64\n",
       "une_school         float64\n",
       "dtype: object"
      ]
     },
     "execution_count": 5,
     "metadata": {},
     "output_type": "execute_result"
    }
   ],
   "source": [
    "col_dtypes = life_exp_df.dtypes\n",
    "col_dtypes"
   ]
  },
  {
   "cell_type": "markdown",
   "id": "49619775",
   "metadata": {},
   "source": [
    "**Nhận xét:** Các cột có kiểu dữ liệu không phải `object` phù hợp, cần làm rõ hơn 3 cột có kiểu dữ liệu đang là `object`, trong Python kiểu dữ liệu `object` thường chỉ chuỗi, nhưng thật chất nó có thể chứa đối tượng bất kỳ vì bên dưới lưu dưới dạng địa chỉ. Trong Data Frame, nếu một cột có `dtype` là `object` thì có thể các phần tử trong cột này sẽ có kiểu dữ liệu khác nhau. Do đó, cần khảo sát từng cột có `dtype` là `object`."
   ]
  },
  {
   "cell_type": "code",
   "execution_count": 6,
   "id": "3320b4ec",
   "metadata": {},
   "outputs": [],
   "source": [
    "# Hàm trả về các kiểu dữ liệu trong 1 cột\n",
    "def open_object_dtype(s):\n",
    "    dtypes = set()\n",
    "    \n",
    "    dtypes = set(s.apply(type))\n",
    "    \n",
    "    return dtypes"
   ]
  },
  {
   "cell_type": "code",
   "execution_count": 7,
   "id": "c4339b80",
   "metadata": {},
   "outputs": [
    {
     "name": "stdout",
     "output_type": "stream",
     "text": [
      "{<class 'str'>}\n",
      "{<class 'str'>}\n",
      "{<class 'str'>}\n"
     ]
    }
   ],
   "source": [
    "print(open_object_dtype(life_exp_df['country']))\n",
    "print(open_object_dtype(life_exp_df['country_code']))\n",
    "print(open_object_dtype(life_exp_df['region']))"
   ]
  },
  {
   "cell_type": "markdown",
   "id": "f5085250",
   "metadata": {},
   "source": [
    "Như vậy, cả 3 cột đều có 1 kiểu dữ liệu duy nhất là `str`. \n",
    "Do đó **tất cả các cột** trong tập dữ liệu đều đang có kiểu dữ liệu **phù hợp**."
   ]
  },
  {
   "cell_type": "markdown",
   "id": "81986a54",
   "metadata": {
    "id": "re5wkImaYbAz"
   },
   "source": [
    "### Với mỗi cột có kiểu dữ liệu dạng numeric, các giá trị được phân bố như thế nào?"
   ]
  },
  {
   "cell_type": "markdown",
   "id": "639178f0",
   "metadata": {},
   "source": [
    "* Trong 32 cột dữ liệu của dataset, theo khám phá ở trên có 3 cột là `country`, `country_code` và `region` dạng `object` (cụ thể hơn là `str`). Do đó, ta có tổng cộng 29 cột có kiểu dữ liệu dạng numeric (bài này là `in64` và `float64`). \n",
    "* Với mỗi cột numeric, tính tỉ lệ % giá trị thiếu (từ 0 đến 100), min, max. Kết quả được vào Data Frame `nume_col_df`. Dataframe này có 9 dòng là \"missing_ratio\", \"count\", \"mean\", \"std\", \"min\", \"25%\", \"50%\", \"75%\", \"max\"; và có 29 cột tương ứng với các cột có `dtype` là `int64` hoặc `float64`.  "
   ]
  },
  {
   "cell_type": "code",
   "execution_count": 8,
   "id": "bde3d617",
   "metadata": {},
   "outputs": [
    {
     "data": {
      "text/html": [
       "<div>\n",
       "<style scoped>\n",
       "    .dataframe tbody tr th:only-of-type {\n",
       "        vertical-align: middle;\n",
       "    }\n",
       "\n",
       "    .dataframe tbody tr th {\n",
       "        vertical-align: top;\n",
       "    }\n",
       "\n",
       "    .dataframe thead th {\n",
       "        text-align: right;\n",
       "    }\n",
       "</style>\n",
       "<table border=\"1\" class=\"dataframe\">\n",
       "  <thead>\n",
       "    <tr style=\"text-align: right;\">\n",
       "      <th></th>\n",
       "      <th>year</th>\n",
       "      <th>life_expect</th>\n",
       "      <th>life_exp60</th>\n",
       "      <th>adult_mortality</th>\n",
       "      <th>infant_mort</th>\n",
       "      <th>age1-4mort</th>\n",
       "      <th>alcohol</th>\n",
       "      <th>bmi</th>\n",
       "      <th>age5-19thinness</th>\n",
       "      <th>age5-19obesity</th>\n",
       "      <th>...</th>\n",
       "      <th>che_gdp</th>\n",
       "      <th>une_pop</th>\n",
       "      <th>une_infant</th>\n",
       "      <th>une_life</th>\n",
       "      <th>une_hiv</th>\n",
       "      <th>une_gni</th>\n",
       "      <th>une_poverty</th>\n",
       "      <th>une_edu_spend</th>\n",
       "      <th>une_literacy</th>\n",
       "      <th>une_school</th>\n",
       "    </tr>\n",
       "  </thead>\n",
       "  <tbody>\n",
       "    <tr>\n",
       "      <th>missing_ratio</th>\n",
       "      <td>0.000000</td>\n",
       "      <td>0.000000</td>\n",
       "      <td>0.000000</td>\n",
       "      <td>0.000000</td>\n",
       "      <td>0.000000</td>\n",
       "      <td>0.000000</td>\n",
       "      <td>1.607200</td>\n",
       "      <td>1.092896</td>\n",
       "      <td>1.092896</td>\n",
       "      <td>1.092896</td>\n",
       "      <td>...</td>\n",
       "      <td>3.760849</td>\n",
       "      <td>1.189328e+00</td>\n",
       "      <td>0.000000</td>\n",
       "      <td>0.000000</td>\n",
       "      <td>23.818708</td>\n",
       "      <td>3.760849</td>\n",
       "      <td>70.652523</td>\n",
       "      <td>41.337191</td>\n",
       "      <td>81.645773</td>\n",
       "      <td>74.124076</td>\n",
       "    </tr>\n",
       "    <tr>\n",
       "      <th>count</th>\n",
       "      <td>3111.000000</td>\n",
       "      <td>3111.000000</td>\n",
       "      <td>3111.000000</td>\n",
       "      <td>3111.000000</td>\n",
       "      <td>3111.000000</td>\n",
       "      <td>3111.000000</td>\n",
       "      <td>3061.000000</td>\n",
       "      <td>3077.000000</td>\n",
       "      <td>3077.000000</td>\n",
       "      <td>3077.000000</td>\n",
       "      <td>...</td>\n",
       "      <td>2994.000000</td>\n",
       "      <td>3.074000e+03</td>\n",
       "      <td>3111.000000</td>\n",
       "      <td>3111.000000</td>\n",
       "      <td>2370.000000</td>\n",
       "      <td>2994.000000</td>\n",
       "      <td>913.000000</td>\n",
       "      <td>1825.000000</td>\n",
       "      <td>571.000000</td>\n",
       "      <td>805.000000</td>\n",
       "    </tr>\n",
       "    <tr>\n",
       "      <th>mean</th>\n",
       "      <td>2008.000000</td>\n",
       "      <td>69.146384</td>\n",
       "      <td>18.912060</td>\n",
       "      <td>193.527786</td>\n",
       "      <td>0.032496</td>\n",
       "      <td>0.003489</td>\n",
       "      <td>4.834781</td>\n",
       "      <td>25.052714</td>\n",
       "      <td>5.312447</td>\n",
       "      <td>5.972278</td>\n",
       "      <td>...</td>\n",
       "      <td>6.110353</td>\n",
       "      <td>3.707550e+04</td>\n",
       "      <td>30.488428</td>\n",
       "      <td>68.957352</td>\n",
       "      <td>2.038397</td>\n",
       "      <td>14964.832999</td>\n",
       "      <td>10.845893</td>\n",
       "      <td>4.532930</td>\n",
       "      <td>81.984472</td>\n",
       "      <td>9.712214</td>\n",
       "    </tr>\n",
       "    <tr>\n",
       "      <th>std</th>\n",
       "      <td>4.899767</td>\n",
       "      <td>9.129761</td>\n",
       "      <td>2.885412</td>\n",
       "      <td>114.007447</td>\n",
       "      <td>0.030361</td>\n",
       "      <td>0.005146</td>\n",
       "      <td>3.998741</td>\n",
       "      <td>2.193445</td>\n",
       "      <td>4.652408</td>\n",
       "      <td>4.530812</td>\n",
       "      <td>...</td>\n",
       "      <td>2.505267</td>\n",
       "      <td>1.378377e+05</td>\n",
       "      <td>27.756930</td>\n",
       "      <td>9.359194</td>\n",
       "      <td>4.593804</td>\n",
       "      <td>17495.137508</td>\n",
       "      <td>17.168798</td>\n",
       "      <td>1.754280</td>\n",
       "      <td>19.665588</td>\n",
       "      <td>2.854723</td>\n",
       "    </tr>\n",
       "    <tr>\n",
       "      <th>min</th>\n",
       "      <td>2000.000000</td>\n",
       "      <td>36.227360</td>\n",
       "      <td>10.728000</td>\n",
       "      <td>49.201850</td>\n",
       "      <td>0.001470</td>\n",
       "      <td>0.000065</td>\n",
       "      <td>0.000000</td>\n",
       "      <td>19.800000</td>\n",
       "      <td>0.100000</td>\n",
       "      <td>0.100000</td>\n",
       "      <td>...</td>\n",
       "      <td>1.025160</td>\n",
       "      <td>7.601600e+01</td>\n",
       "      <td>1.600000</td>\n",
       "      <td>39.441000</td>\n",
       "      <td>0.100000</td>\n",
       "      <td>420.000000</td>\n",
       "      <td>0.100000</td>\n",
       "      <td>0.787440</td>\n",
       "      <td>14.376040</td>\n",
       "      <td>0.559340</td>\n",
       "    </tr>\n",
       "    <tr>\n",
       "      <th>25%</th>\n",
       "      <td>2004.000000</td>\n",
       "      <td>63.200095</td>\n",
       "      <td>16.619485</td>\n",
       "      <td>108.269750</td>\n",
       "      <td>0.008255</td>\n",
       "      <td>0.000355</td>\n",
       "      <td>1.198030</td>\n",
       "      <td>23.300000</td>\n",
       "      <td>1.800000</td>\n",
       "      <td>2.000000</td>\n",
       "      <td>...</td>\n",
       "      <td>4.238798</td>\n",
       "      <td>2.195105e+03</td>\n",
       "      <td>8.000000</td>\n",
       "      <td>62.844500</td>\n",
       "      <td>0.100000</td>\n",
       "      <td>2970.000000</td>\n",
       "      <td>0.600000</td>\n",
       "      <td>3.262830</td>\n",
       "      <td>72.701130</td>\n",
       "      <td>7.735940</td>\n",
       "    </tr>\n",
       "    <tr>\n",
       "      <th>50%</th>\n",
       "      <td>2008.000000</td>\n",
       "      <td>71.597200</td>\n",
       "      <td>18.508260</td>\n",
       "      <td>164.822200</td>\n",
       "      <td>0.019995</td>\n",
       "      <td>0.000895</td>\n",
       "      <td>3.993560</td>\n",
       "      <td>25.500000</td>\n",
       "      <td>3.800000</td>\n",
       "      <td>5.200000</td>\n",
       "      <td>...</td>\n",
       "      <td>5.758030</td>\n",
       "      <td>8.544297e+03</td>\n",
       "      <td>19.500000</td>\n",
       "      <td>71.409000</td>\n",
       "      <td>0.400000</td>\n",
       "      <td>8340.000000</td>\n",
       "      <td>3.100000</td>\n",
       "      <td>4.425410</td>\n",
       "      <td>90.953740</td>\n",
       "      <td>10.270400</td>\n",
       "    </tr>\n",
       "    <tr>\n",
       "      <th>75%</th>\n",
       "      <td>2012.000000</td>\n",
       "      <td>75.537030</td>\n",
       "      <td>21.099175</td>\n",
       "      <td>250.832300</td>\n",
       "      <td>0.051720</td>\n",
       "      <td>0.004877</td>\n",
       "      <td>7.723420</td>\n",
       "      <td>26.500000</td>\n",
       "      <td>7.800000</td>\n",
       "      <td>8.900000</td>\n",
       "      <td>...</td>\n",
       "      <td>7.850327</td>\n",
       "      <td>2.509552e+04</td>\n",
       "      <td>48.050000</td>\n",
       "      <td>75.570645</td>\n",
       "      <td>1.500000</td>\n",
       "      <td>20482.500000</td>\n",
       "      <td>12.400000</td>\n",
       "      <td>5.494980</td>\n",
       "      <td>95.786975</td>\n",
       "      <td>12.070610</td>\n",
       "    </tr>\n",
       "    <tr>\n",
       "      <th>max</th>\n",
       "      <td>2016.000000</td>\n",
       "      <td>84.166160</td>\n",
       "      <td>26.394020</td>\n",
       "      <td>696.874200</td>\n",
       "      <td>0.164515</td>\n",
       "      <td>0.039095</td>\n",
       "      <td>20.182460</td>\n",
       "      <td>32.200000</td>\n",
       "      <td>28.100000</td>\n",
       "      <td>26.700000</td>\n",
       "      <td>...</td>\n",
       "      <td>20.413410</td>\n",
       "      <td>1.414049e+06</td>\n",
       "      <td>142.400000</td>\n",
       "      <td>83.984880</td>\n",
       "      <td>28.200000</td>\n",
       "      <td>122670.000000</td>\n",
       "      <td>94.100000</td>\n",
       "      <td>14.059080</td>\n",
       "      <td>99.998190</td>\n",
       "      <td>14.378800</td>\n",
       "    </tr>\n",
       "  </tbody>\n",
       "</table>\n",
       "<p>9 rows × 29 columns</p>\n",
       "</div>"
      ],
      "text/plain": [
       "                      year  life_expect   life_exp60  adult_mortality  \\\n",
       "missing_ratio     0.000000     0.000000     0.000000         0.000000   \n",
       "count          3111.000000  3111.000000  3111.000000      3111.000000   \n",
       "mean           2008.000000    69.146384    18.912060       193.527786   \n",
       "std               4.899767     9.129761     2.885412       114.007447   \n",
       "min            2000.000000    36.227360    10.728000        49.201850   \n",
       "25%            2004.000000    63.200095    16.619485       108.269750   \n",
       "50%            2008.000000    71.597200    18.508260       164.822200   \n",
       "75%            2012.000000    75.537030    21.099175       250.832300   \n",
       "max            2016.000000    84.166160    26.394020       696.874200   \n",
       "\n",
       "               infant_mort   age1-4mort      alcohol          bmi  \\\n",
       "missing_ratio     0.000000     0.000000     1.607200     1.092896   \n",
       "count          3111.000000  3111.000000  3061.000000  3077.000000   \n",
       "mean              0.032496     0.003489     4.834781    25.052714   \n",
       "std               0.030361     0.005146     3.998741     2.193445   \n",
       "min               0.001470     0.000065     0.000000    19.800000   \n",
       "25%               0.008255     0.000355     1.198030    23.300000   \n",
       "50%               0.019995     0.000895     3.993560    25.500000   \n",
       "75%               0.051720     0.004877     7.723420    26.500000   \n",
       "max               0.164515     0.039095    20.182460    32.200000   \n",
       "\n",
       "               age5-19thinness  age5-19obesity  ...      che_gdp  \\\n",
       "missing_ratio         1.092896        1.092896  ...     3.760849   \n",
       "count              3077.000000     3077.000000  ...  2994.000000   \n",
       "mean                  5.312447        5.972278  ...     6.110353   \n",
       "std                   4.652408        4.530812  ...     2.505267   \n",
       "min                   0.100000        0.100000  ...     1.025160   \n",
       "25%                   1.800000        2.000000  ...     4.238798   \n",
       "50%                   3.800000        5.200000  ...     5.758030   \n",
       "75%                   7.800000        8.900000  ...     7.850327   \n",
       "max                  28.100000       26.700000  ...    20.413410   \n",
       "\n",
       "                    une_pop   une_infant     une_life      une_hiv  \\\n",
       "missing_ratio  1.189328e+00     0.000000     0.000000    23.818708   \n",
       "count          3.074000e+03  3111.000000  3111.000000  2370.000000   \n",
       "mean           3.707550e+04    30.488428    68.957352     2.038397   \n",
       "std            1.378377e+05    27.756930     9.359194     4.593804   \n",
       "min            7.601600e+01     1.600000    39.441000     0.100000   \n",
       "25%            2.195105e+03     8.000000    62.844500     0.100000   \n",
       "50%            8.544297e+03    19.500000    71.409000     0.400000   \n",
       "75%            2.509552e+04    48.050000    75.570645     1.500000   \n",
       "max            1.414049e+06   142.400000    83.984880    28.200000   \n",
       "\n",
       "                     une_gni  une_poverty  une_edu_spend  une_literacy  \\\n",
       "missing_ratio       3.760849    70.652523      41.337191     81.645773   \n",
       "count            2994.000000   913.000000    1825.000000    571.000000   \n",
       "mean            14964.832999    10.845893       4.532930     81.984472   \n",
       "std             17495.137508    17.168798       1.754280     19.665588   \n",
       "min               420.000000     0.100000       0.787440     14.376040   \n",
       "25%              2970.000000     0.600000       3.262830     72.701130   \n",
       "50%              8340.000000     3.100000       4.425410     90.953740   \n",
       "75%             20482.500000    12.400000       5.494980     95.786975   \n",
       "max            122670.000000    94.100000      14.059080     99.998190   \n",
       "\n",
       "               une_school  \n",
       "missing_ratio   74.124076  \n",
       "count          805.000000  \n",
       "mean             9.712214  \n",
       "std              2.854723  \n",
       "min              0.559340  \n",
       "25%              7.735940  \n",
       "50%             10.270400  \n",
       "75%             12.070610  \n",
       "max             14.378800  \n",
       "\n",
       "[9 rows x 29 columns]"
      ]
     },
     "execution_count": 8,
     "metadata": {},
     "output_type": "execute_result"
    }
   ],
   "source": [
    "def missing_ratio(s):\n",
    "    return s.isna().mean() * 100\n",
    "missing_df = life_exp_df.iloc[:,3:].agg([missing_ratio])\n",
    "nume_col_df = pd.concat([missing_df, life_exp_df.iloc[:,3:].describe()])\n",
    "nume_col_df"
   ]
  },
  {
   "cell_type": "markdown",
   "id": "7560eee5",
   "metadata": {},
   "source": [
    "**Nhận xét:** Sau khi khám phá sự phân bố của các cột dữ liệu, ta nhận thấy có 4 cột numeric với missing ratio trên 50% là \"hospitals\", \"une_poverty\", \"une_literacy\", \"une_school\". Việc dùng các cột nào trong phân tích dữ liệu có thể cho ra kết quả không tốt, vì vậy ta cần loại bỏ chúng trong bước tiền xử lý."
   ]
  },
  {
   "cell_type": "markdown",
   "id": "298cdfaa",
   "metadata": {
    "id": "ugRuFiUXYbA0"
   },
   "source": [
    "### Với mỗi cột có kiểu dữ liệu dạng categorical, các giá trị được phân bố như thế nào?"
   ]
  },
  {
   "cell_type": "markdown",
   "id": "a14d52cf",
   "metadata": {},
   "source": [
    "* Theo khám phá ở trên có 3 cột là `country`, `country_code` và `region` dạng `object` (cụ thể hơn là `str`). Do đó, kiểu dữ liệu dạng categorical của tập dữ liệu này gồm 3 cột đẫ nêu. \n",
    "* Với mỗi cột dạng categorical, tính tỉ lệ % giá trị thiếu (từ 0 đến 100), số lượng giá trị khác nhau (không xét giá trị thiếu), list/array các giá trị khác nhau (không xét giá trị thiếu). Kết quả được lưu vào Data Frame `cate_col_df`. Dataframe này có 3 dòng là \"missing_ratio\", \"num_diff_vals\", \"diff_vals\"; và có 3 cột là 'country', 'country_code', 'region'. "
   ]
  },
  {
   "cell_type": "code",
   "execution_count": 11,
   "id": "8a46cfbc",
   "metadata": {},
   "outputs": [
    {
     "data": {
      "text/html": [
       "<div>\n",
       "<style scoped>\n",
       "    .dataframe tbody tr th:only-of-type {\n",
       "        vertical-align: middle;\n",
       "    }\n",
       "\n",
       "    .dataframe tbody tr th {\n",
       "        vertical-align: top;\n",
       "    }\n",
       "\n",
       "    .dataframe thead th {\n",
       "        text-align: right;\n",
       "    }\n",
       "</style>\n",
       "<table border=\"1\" class=\"dataframe\">\n",
       "  <thead>\n",
       "    <tr style=\"text-align: right;\">\n",
       "      <th></th>\n",
       "      <th>country</th>\n",
       "      <th>country_code</th>\n",
       "      <th>region</th>\n",
       "    </tr>\n",
       "  </thead>\n",
       "  <tbody>\n",
       "    <tr>\n",
       "      <th>missing_ratio</th>\n",
       "      <td>0.0</td>\n",
       "      <td>0.0</td>\n",
       "      <td>0.0</td>\n",
       "    </tr>\n",
       "    <tr>\n",
       "      <th>num_diff_vals</th>\n",
       "      <td>183</td>\n",
       "      <td>183</td>\n",
       "      <td>6</td>\n",
       "    </tr>\n",
       "    <tr>\n",
       "      <th>diff_vals</th>\n",
       "      <td>[Angola, Burundi, Benin, Burkina Faso, Botswan...</td>\n",
       "      <td>[AGO, BDI, BEN, BFA, BWA, CAF, TZA, UGA, ZAF, ...</td>\n",
       "      <td>[Africa, Americas, Eastern Mediterranean, Euro...</td>\n",
       "    </tr>\n",
       "  </tbody>\n",
       "</table>\n",
       "</div>"
      ],
      "text/plain": [
       "                                                         country  \\\n",
       "missing_ratio                                                0.0   \n",
       "num_diff_vals                                                183   \n",
       "diff_vals      [Angola, Burundi, Benin, Burkina Faso, Botswan...   \n",
       "\n",
       "                                                    country_code  \\\n",
       "missing_ratio                                                0.0   \n",
       "num_diff_vals                                                183   \n",
       "diff_vals      [AGO, BDI, BEN, BFA, BWA, CAF, TZA, UGA, ZAF, ...   \n",
       "\n",
       "                                                          region  \n",
       "missing_ratio                                                0.0  \n",
       "num_diff_vals                                                  6  \n",
       "diff_vals      [Africa, Americas, Eastern Mediterranean, Euro...  "
      ]
     },
     "execution_count": 11,
     "metadata": {},
     "output_type": "execute_result"
    }
   ],
   "source": [
    "def unique_not_miss(s):\n",
    "    return s.dropna().unique()\n",
    "cate_col_df = life_exp_df.iloc[:,:3] \\\n",
    "                            .agg([missing_ratio, pd.Series.nunique, unique_not_miss])\n",
    "\n",
    "cate_col_df.index = ['missing_ratio','num_diff_vals','diff_vals']\n",
    "cate_col_df"
   ]
  },
  {
   "cell_type": "markdown",
   "id": "920020b3",
   "metadata": {},
   "source": [
    "**Nhận xét:** Cả 3 cột dạng categorical đều không có giá trị thiếu. Hai cột `country` và `country_code` có 183 giá trị khác nhau, riêng cột `region` có 6 giá trị khác nhau. Điều này hoàn toàn phù hợp vì có 183 được khảo sát trong tập dữ liệu này, các quốc gia khác nhau có thể thuộc chung 1 khu vực."
   ]
  },
  {
   "cell_type": "markdown",
   "id": "605ca058",
   "metadata": {},
   "source": [
    "### Tiền xử lý ###"
   ]
  },
  {
   "cell_type": "markdown",
   "id": "050e3303",
   "metadata": {},
   "source": [
    "Ta sẽ thực hiện drop các cột với tỉ lệ thiếu hụt thông tin lớn hơn 50%, sau đó lưu vào 1 dataframe mới là `life_exp_pro_df` để sử dụng cho việc phân tích về sau."
   ]
  },
  {
   "cell_type": "code",
   "execution_count": 9,
   "id": "58710d77",
   "metadata": {
    "scrolled": true
   },
   "outputs": [
    {
     "data": {
      "text/plain": [
       "hospitals       95.821279\n",
       "une_poverty     70.652523\n",
       "une_literacy    81.645773\n",
       "une_school      74.124076\n",
       "dtype: float64"
      ]
     },
     "execution_count": 9,
     "metadata": {},
     "output_type": "execute_result"
    }
   ],
   "source": [
    "missing_df = life_exp_df.agg(missing_ratio)\n",
    "cols_to_drop = missing_df[missing_df > 50]\n",
    "cols_to_drop"
   ]
  },
  {
   "cell_type": "code",
   "execution_count": 11,
   "id": "047d0147",
   "metadata": {
    "scrolled": true
   },
   "outputs": [
    {
     "data": {
      "text/plain": [
       "(3111, 28)"
      ]
     },
     "execution_count": 11,
     "metadata": {},
     "output_type": "execute_result"
    }
   ],
   "source": [
    "life_exp_pro_df = life_exp_df.drop(cols_to_drop.index, axis = 1)\n",
    "life_exp_pro_df.shape"
   ]
  },
  {
   "cell_type": "markdown",
   "id": "99638dbd",
   "metadata": {},
   "source": [
    "Sau khi tiền xử lý xóa 4 cột, bộ dữ liệu còn 3111 dòng và 28 cột dữ liệu. Ta sẽ tiến hành phân tích trên dataframe `life_exp_pro_df` này."
   ]
  },
  {
   "cell_type": "markdown",
   "id": "f6d0a7d9",
   "metadata": {},
   "source": [
    "---"
   ]
  },
  {
   "cell_type": "markdown",
   "id": "8fa3fda2",
   "metadata": {
    "id": "4XnnpjXqYbAv"
   },
   "source": [
    "## Đưa ra câu hỏi cần trả lời"
   ]
  },
  {
   "cell_type": "markdown",
   "id": "f54ddca0",
   "metadata": {
    "id": "CfhtUtmhYbA1"
   },
   "source": [
    "### Tiền xử lý"
   ]
  },
  {
   "cell_type": "markdown",
   "id": "34859c60",
   "metadata": {
    "id": "qMEXHbSyYbA1"
   },
   "source": [
    "### Phân tích dữ liệu để trả lời cho các câu hỏi "
   ]
  },
  {
   "cell_type": "markdown",
   "id": "3796b446",
   "metadata": {},
   "source": [
    "---"
   ]
  },
  {
   "cell_type": "markdown",
   "id": "e142f319",
   "metadata": {},
   "source": [
    "## Nhìn lại quá trình làm đồ án"
   ]
  },
  {
   "cell_type": "markdown",
   "id": "766ec132",
   "metadata": {},
   "source": [
    "---"
   ]
  },
  {
   "cell_type": "markdown",
   "id": "8700d26f",
   "metadata": {},
   "source": [
    "## Tài liệu tham khảo"
   ]
  },
  {
   "cell_type": "markdown",
   "id": "1eb331d0",
   "metadata": {},
   "source": [
    "---"
   ]
  }
 ],
 "metadata": {
  "kernelspec": {
   "display_name": "Python 3 (ipykernel)",
   "language": "python",
   "name": "python3"
  },
  "language_info": {
   "codemirror_mode": {
    "name": "ipython",
    "version": 3
   },
   "file_extension": ".py",
   "mimetype": "text/x-python",
   "name": "python",
   "nbconvert_exporter": "python",
   "pygments_lexer": "ipython3",
   "version": "3.8.8"
  }
 },
 "nbformat": 4,
 "nbformat_minor": 5
}
