{
 "cells": [
  {
   "cell_type": "markdown",
   "id": "ead738f4",
   "metadata": {
    "id": "Z2iropOgYbAs"
   },
   "source": [
    "# ĐỒ ÁN CUỐI KỲ MÔN LẬP TRÌNH CHO KHOA HỌC DỮ LIỆU\n",
    "\n",
    "*Giảng viên: Thầy Trần Trung Kiên*"
   ]
  },
  {
   "cell_type": "markdown",
   "id": "052c6802",
   "metadata": {},
   "source": [
    "---"
   ]
  },
  {
   "cell_type": "markdown",
   "id": "964c339a",
   "metadata": {},
   "source": [
    "**Nhóm sinh viên thực hiện:**\n",
    "\n",
    "Sinh viên 01: Trương Trọng Lộc - 18120197\n",
    "\n",
    "Sinh viên 02: Dương Nam Hải - 19120068"
   ]
  },
  {
   "cell_type": "markdown",
   "id": "d49e217e",
   "metadata": {},
   "source": [
    "---"
   ]
  },
  {
   "cell_type": "markdown",
   "id": "38363e05",
   "metadata": {
    "id": "qgrbCkoXYbAv"
   },
   "source": [
    "## Import các thư viện cần thiết"
   ]
  },
  {
   "cell_type": "code",
   "execution_count": null,
   "id": "495c657c",
   "metadata": {
    "id": "J0fci4x1YbAv"
   },
   "outputs": [],
   "source": [
    "import pandas as pd\n",
    "import matplotlib.pyplot as plt\n",
    "import numpy as np"
   ]
  },
  {
   "cell_type": "markdown",
   "id": "5d68a2ed",
   "metadata": {
    "id": "cDgG0uJyYbAv"
   },
   "source": [
    "---"
   ]
  },
  {
   "cell_type": "markdown",
   "id": "1fd02c2b",
   "metadata": {
    "id": "qNGbzZGCYbAv"
   },
   "source": [
    "## Thu thập dữ liệu"
   ]
  },
  {
   "cell_type": "markdown",
   "id": "7c20df6c",
   "metadata": {},
   "source": []
  },
  {
   "cell_type": "markdown",
   "id": "9054506a",
   "metadata": {},
   "source": [
    "---"
   ]
  },
  {
   "cell_type": "markdown",
   "id": "56471f2c",
   "metadata": {
    "id": "4XnnpjXqYbAv"
   },
   "source": [
    "## Khám phá dữ liệu"
   ]
  },
  {
   "cell_type": "markdown",
   "id": "6e672512",
   "metadata": {
    "id": "CTrxx-_BYbAv"
   },
   "source": [
    "### Đọc dữ liệu từ file csv vào dataframe"
   ]
  },
  {
   "cell_type": "markdown",
   "id": "a05f75b3",
   "metadata": {},
   "source": []
  },
  {
   "cell_type": "markdown",
   "id": "49970730",
   "metadata": {
    "id": "B0vNv-s-YbAv"
   },
   "source": [
    "### Dữ liệu gồm có bao nhiêu dòng và bao nhiêu cột?"
   ]
  },
  {
   "cell_type": "markdown",
   "id": "f7d772b3",
   "metadata": {},
   "source": []
  },
  {
   "cell_type": "markdown",
   "id": "ad479882",
   "metadata": {
    "id": "o0VBB5H5YbAw"
   },
   "source": [
    "### Mỗi dòng có ý nghĩa gì? Có vấn đề các dòng có ý nghĩa khác nhau không?"
   ]
  },
  {
   "cell_type": "markdown",
   "id": "ecd39dab",
   "metadata": {},
   "source": []
  },
  {
   "cell_type": "markdown",
   "id": "15687dcf",
   "metadata": {
    "id": "ex8ptMwLYbAw"
   },
   "source": [
    "### Dữ liệu có các dòng bị lặp không?"
   ]
  },
  {
   "cell_type": "markdown",
   "id": "a33d3663",
   "metadata": {},
   "source": []
  },
  {
   "cell_type": "markdown",
   "id": "e8eb2863",
   "metadata": {
    "id": "ssTC4vfKYbAx"
   },
   "source": [
    "### Mỗi cột có ý nghĩa gì?"
   ]
  },
  {
   "cell_type": "markdown",
   "id": "81d83d59",
   "metadata": {},
   "source": []
  },
  {
   "cell_type": "markdown",
   "id": "52b01abf",
   "metadata": {
    "id": "6oNfnkmyYbAx"
   },
   "source": [
    "### Mỗi cột hiện đang có kiểu dữ liệu gì? Có cột nào có kiểu dữ liệu chưa phù hợp để có thể xử lý tiếp không?"
   ]
  },
  {
   "cell_type": "markdown",
   "id": "4324df4e",
   "metadata": {},
   "source": []
  },
  {
   "cell_type": "markdown",
   "id": "81986a54",
   "metadata": {
    "id": "re5wkImaYbAz"
   },
   "source": [
    "### Với mỗi cột có kiểu dữ liệu dạng numeric, các giá trị được phân bố như thế nào?"
   ]
  },
  {
   "cell_type": "markdown",
   "id": "639178f0",
   "metadata": {},
   "source": []
  },
  {
   "cell_type": "markdown",
   "id": "298cdfaa",
   "metadata": {
    "id": "ugRuFiUXYbA0"
   },
   "source": [
    "### Với mỗi cột có kiểu dữ liệu dạng categorical, các giá trị được phân bố như thế nào?"
   ]
  },
  {
   "cell_type": "markdown",
   "id": "a14d52cf",
   "metadata": {},
   "source": []
  },
  {
   "cell_type": "markdown",
   "id": "f6d0a7d9",
   "metadata": {},
   "source": [
    "---"
   ]
  },
  {
   "cell_type": "markdown",
   "id": "8fa3fda2",
   "metadata": {
    "id": "4XnnpjXqYbAv"
   },
   "source": [
    "## Đưa ra câu hỏi cần trả lời"
   ]
  },
  {
   "cell_type": "markdown",
   "id": "f54ddca0",
   "metadata": {
    "id": "CfhtUtmhYbA1"
   },
   "source": [
    "### Tiền xử lý"
   ]
  },
  {
   "cell_type": "markdown",
   "id": "34859c60",
   "metadata": {
    "id": "qMEXHbSyYbA1"
   },
   "source": [
    "### Phân tích dữ liệu để trả lời cho các câu hỏi "
   ]
  },
  {
   "cell_type": "markdown",
   "id": "3796b446",
   "metadata": {},
   "source": [
    "---"
   ]
  },
  {
   "cell_type": "markdown",
   "id": "e142f319",
   "metadata": {},
   "source": [
    "## Nhìn lại quá trình làm đồ án"
   ]
  },
  {
   "cell_type": "markdown",
   "id": "766ec132",
   "metadata": {},
   "source": [
    "---"
   ]
  },
  {
   "cell_type": "markdown",
   "id": "8700d26f",
   "metadata": {},
   "source": [
    "## Tài liệu tham khảo"
   ]
  },
  {
   "cell_type": "markdown",
   "id": "1eb331d0",
   "metadata": {},
   "source": [
    "---"
   ]
  }
 ],
 "metadata": {
  "kernelspec": {
   "display_name": "Python 3 (ipykernel)",
   "language": "python",
   "name": "python3"
  },
  "language_info": {
   "codemirror_mode": {
    "name": "ipython",
    "version": 3
   },
   "file_extension": ".py",
   "mimetype": "text/x-python",
   "name": "python",
   "nbconvert_exporter": "python",
   "pygments_lexer": "ipython3",
   "version": "3.8.8"
  }
 },
 "nbformat": 4,
 "nbformat_minor": 5
}
